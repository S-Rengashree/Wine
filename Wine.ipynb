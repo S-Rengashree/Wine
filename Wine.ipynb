{
 "cells": [
  {
   "cell_type": "code",
   "execution_count": 1,
   "id": "65ba8cf1",
   "metadata": {},
   "outputs": [],
   "source": [
    "import os\n",
    "import numpy as np\n",
    "import pandas as pd\n",
    "import matplotlib.pyplot as plt\n",
    "import seaborn as sns\n",
    "%matplotlib inline\n",
    "import warnings\n",
    "warnings.simplefilter('ignore') #ignore warning to imporve readability\n",
    "#from statsmodels import runstest_1samp\n",
    "from statsmodels.sandbox.stats.runs import runstest_1samp "
   ]
  },
  {
   "cell_type": "code",
   "execution_count": 2,
   "id": "7367096d",
   "metadata": {},
   "outputs": [],
   "source": [
    "import numpy as np\n",
    "import pandas as pd\n",
    "import matplotlib.pyplot as plt\n",
    "import seaborn as sns\n",
    "import os\n",
    "%matplotlib inline\n",
    "\n",
    "from sklearn.tree import DecisionTreeClassifier #for classification\n",
    "from sklearn.tree import DecisionTreeRegressor #for regression\n",
    "from sklearn.ensemble import RandomForestClassifier #for classification\n",
    "from sklearn.ensemble import RandomForestRegressor #for regression\n",
    "from sklearn.ensemble import BaggingClassifier,AdaBoostClassifier\n",
    "from sklearn.neighbors import KNeighborsClassifier\n",
    "from sklearn.naive_bayes import GaussianNB\n",
    "from sklearn import linear_model\n",
    "from sklearn.linear_model import LogisticRegression\n",
    "from sklearn.datasets import make_regression\n",
    "from sklearn.svm import SVC\n",
    "from sklearn.decomposition import PCA\n",
    "\n",
    "\n",
    "from sklearn.metrics import accuracy_score,confusion_matrix,classification_report\n",
    "from statsmodels.stats.outliers_influence import variance_inflation_factor\n",
    "#from statsmodels.sandbox.stats.runs import runstest_1samp\n",
    "\n",
    "from sklearn.model_selection import GridSearchCV\n",
    "\n",
    "from scipy.stats import pearsonr,spearmanr\n",
    "\n",
    "from sklearn.preprocessing import OneHotEncoder, LabelEncoder\n",
    "from sklearn.preprocessing import MinMaxScaler\n",
    "\n",
    "from sklearn.model_selection import train_test_split,cross_val_score\n",
    "\n",
    "import warnings\n",
    "warnings.filterwarnings(\"ignore\")"
   ]
  },
  {
   "cell_type": "code",
   "execution_count": 3,
   "id": "dfaa16ad",
   "metadata": {},
   "outputs": [],
   "source": [
    "#display all columns in dataframe\n",
    "pd.pandas.set_option('display.max_columns',None)"
   ]
  },
  {
   "cell_type": "code",
   "execution_count": 4,
   "id": "b3f48c8e",
   "metadata": {},
   "outputs": [
    {
     "data": {
      "text/plain": [
       "'D:\\\\Data Science\\\\Machine Leaning\\\\Assessment\\\\KNN + SVM + Naive Bayes + PCA'"
      ]
     },
     "execution_count": 4,
     "metadata": {},
     "output_type": "execute_result"
    }
   ],
   "source": [
    "os.chdir(\"D:\\\\Data Science\\\\Machine Leaning\\\\Assessment\\\\KNN + SVM + Naive Bayes + PCA\")\n",
    "os.getcwd()"
   ]
  },
  {
   "cell_type": "code",
   "execution_count": 5,
   "id": "d85480bd",
   "metadata": {},
   "outputs": [
    {
     "data": {
      "text/html": [
       "<div>\n",
       "<style scoped>\n",
       "    .dataframe tbody tr th:only-of-type {\n",
       "        vertical-align: middle;\n",
       "    }\n",
       "\n",
       "    .dataframe tbody tr th {\n",
       "        vertical-align: top;\n",
       "    }\n",
       "\n",
       "    .dataframe thead th {\n",
       "        text-align: right;\n",
       "    }\n",
       "</style>\n",
       "<table border=\"1\" class=\"dataframe\">\n",
       "  <thead>\n",
       "    <tr style=\"text-align: right;\">\n",
       "      <th></th>\n",
       "      <th>Alcohol</th>\n",
       "      <th>Malic_Acid</th>\n",
       "      <th>Ash</th>\n",
       "      <th>Ash_Alcanity</th>\n",
       "      <th>Magnesium</th>\n",
       "      <th>Total_Phenols</th>\n",
       "      <th>Flavanoids</th>\n",
       "      <th>Nonflavanoid_Phenols</th>\n",
       "      <th>Proanthocyanins</th>\n",
       "      <th>Color_Intensity</th>\n",
       "      <th>Hue</th>\n",
       "      <th>OD280</th>\n",
       "      <th>Proline</th>\n",
       "      <th>Customer_Segment</th>\n",
       "    </tr>\n",
       "  </thead>\n",
       "  <tbody>\n",
       "    <tr>\n",
       "      <th>0</th>\n",
       "      <td>14.23</td>\n",
       "      <td>1.71</td>\n",
       "      <td>2.43</td>\n",
       "      <td>15.6</td>\n",
       "      <td>127</td>\n",
       "      <td>2.80</td>\n",
       "      <td>3.06</td>\n",
       "      <td>0.28</td>\n",
       "      <td>2.29</td>\n",
       "      <td>5.64</td>\n",
       "      <td>1.04</td>\n",
       "      <td>3.92</td>\n",
       "      <td>1065</td>\n",
       "      <td>1</td>\n",
       "    </tr>\n",
       "    <tr>\n",
       "      <th>1</th>\n",
       "      <td>13.20</td>\n",
       "      <td>1.78</td>\n",
       "      <td>2.14</td>\n",
       "      <td>11.2</td>\n",
       "      <td>100</td>\n",
       "      <td>2.65</td>\n",
       "      <td>2.76</td>\n",
       "      <td>0.26</td>\n",
       "      <td>1.28</td>\n",
       "      <td>4.38</td>\n",
       "      <td>1.05</td>\n",
       "      <td>3.40</td>\n",
       "      <td>1050</td>\n",
       "      <td>1</td>\n",
       "    </tr>\n",
       "    <tr>\n",
       "      <th>2</th>\n",
       "      <td>13.16</td>\n",
       "      <td>2.36</td>\n",
       "      <td>2.67</td>\n",
       "      <td>18.6</td>\n",
       "      <td>101</td>\n",
       "      <td>2.80</td>\n",
       "      <td>3.24</td>\n",
       "      <td>0.30</td>\n",
       "      <td>2.81</td>\n",
       "      <td>5.68</td>\n",
       "      <td>1.03</td>\n",
       "      <td>3.17</td>\n",
       "      <td>1185</td>\n",
       "      <td>1</td>\n",
       "    </tr>\n",
       "    <tr>\n",
       "      <th>3</th>\n",
       "      <td>14.37</td>\n",
       "      <td>1.95</td>\n",
       "      <td>2.50</td>\n",
       "      <td>16.8</td>\n",
       "      <td>113</td>\n",
       "      <td>3.85</td>\n",
       "      <td>3.49</td>\n",
       "      <td>0.24</td>\n",
       "      <td>2.18</td>\n",
       "      <td>7.80</td>\n",
       "      <td>0.86</td>\n",
       "      <td>3.45</td>\n",
       "      <td>1480</td>\n",
       "      <td>1</td>\n",
       "    </tr>\n",
       "    <tr>\n",
       "      <th>4</th>\n",
       "      <td>13.24</td>\n",
       "      <td>2.59</td>\n",
       "      <td>2.87</td>\n",
       "      <td>21.0</td>\n",
       "      <td>118</td>\n",
       "      <td>2.80</td>\n",
       "      <td>2.69</td>\n",
       "      <td>0.39</td>\n",
       "      <td>1.82</td>\n",
       "      <td>4.32</td>\n",
       "      <td>1.04</td>\n",
       "      <td>2.93</td>\n",
       "      <td>735</td>\n",
       "      <td>1</td>\n",
       "    </tr>\n",
       "  </tbody>\n",
       "</table>\n",
       "</div>"
      ],
      "text/plain": [
       "   Alcohol  Malic_Acid   Ash  Ash_Alcanity  Magnesium  Total_Phenols  \\\n",
       "0    14.23        1.71  2.43          15.6        127           2.80   \n",
       "1    13.20        1.78  2.14          11.2        100           2.65   \n",
       "2    13.16        2.36  2.67          18.6        101           2.80   \n",
       "3    14.37        1.95  2.50          16.8        113           3.85   \n",
       "4    13.24        2.59  2.87          21.0        118           2.80   \n",
       "\n",
       "   Flavanoids  Nonflavanoid_Phenols  Proanthocyanins  Color_Intensity   Hue  \\\n",
       "0        3.06                  0.28             2.29             5.64  1.04   \n",
       "1        2.76                  0.26             1.28             4.38  1.05   \n",
       "2        3.24                  0.30             2.81             5.68  1.03   \n",
       "3        3.49                  0.24             2.18             7.80  0.86   \n",
       "4        2.69                  0.39             1.82             4.32  1.04   \n",
       "\n",
       "   OD280  Proline  Customer_Segment  \n",
       "0   3.92     1065                 1  \n",
       "1   3.40     1050                 1  \n",
       "2   3.17     1185                 1  \n",
       "3   3.45     1480                 1  \n",
       "4   2.93      735                 1  "
      ]
     },
     "execution_count": 5,
     "metadata": {},
     "output_type": "execute_result"
    }
   ],
   "source": [
    "df=pd.read_csv(\"Wine.csv\")\n",
    "df.head()"
   ]
  },
  {
   "cell_type": "markdown",
   "id": "3833d15d",
   "metadata": {},
   "source": [
    "#### Basic Information of the data:"
   ]
  },
  {
   "cell_type": "code",
   "execution_count": 6,
   "id": "4e1ce589",
   "metadata": {},
   "outputs": [
    {
     "name": "stdout",
     "output_type": "stream",
     "text": [
      "<class 'pandas.core.frame.DataFrame'>\n",
      "RangeIndex: 178 entries, 0 to 177\n",
      "Data columns (total 14 columns):\n",
      " #   Column                Non-Null Count  Dtype  \n",
      "---  ------                --------------  -----  \n",
      " 0   Alcohol               178 non-null    float64\n",
      " 1   Malic_Acid            178 non-null    float64\n",
      " 2   Ash                   178 non-null    float64\n",
      " 3   Ash_Alcanity          178 non-null    float64\n",
      " 4   Magnesium             178 non-null    int64  \n",
      " 5   Total_Phenols         178 non-null    float64\n",
      " 6   Flavanoids            178 non-null    float64\n",
      " 7   Nonflavanoid_Phenols  178 non-null    float64\n",
      " 8   Proanthocyanins       178 non-null    float64\n",
      " 9   Color_Intensity       178 non-null    float64\n",
      " 10  Hue                   178 non-null    float64\n",
      " 11  OD280                 178 non-null    float64\n",
      " 12  Proline               178 non-null    int64  \n",
      " 13  Customer_Segment      178 non-null    int64  \n",
      "dtypes: float64(11), int64(3)\n",
      "memory usage: 19.6 KB\n"
     ]
    }
   ],
   "source": [
    "df.info()"
   ]
  },
  {
   "cell_type": "code",
   "execution_count": 7,
   "id": "3b9937c0",
   "metadata": {},
   "outputs": [
    {
     "data": {
      "text/html": [
       "<div>\n",
       "<style scoped>\n",
       "    .dataframe tbody tr th:only-of-type {\n",
       "        vertical-align: middle;\n",
       "    }\n",
       "\n",
       "    .dataframe tbody tr th {\n",
       "        vertical-align: top;\n",
       "    }\n",
       "\n",
       "    .dataframe thead th {\n",
       "        text-align: right;\n",
       "    }\n",
       "</style>\n",
       "<table border=\"1\" class=\"dataframe\">\n",
       "  <thead>\n",
       "    <tr style=\"text-align: right;\">\n",
       "      <th></th>\n",
       "      <th>count</th>\n",
       "      <th>mean</th>\n",
       "      <th>std</th>\n",
       "      <th>min</th>\n",
       "      <th>25%</th>\n",
       "      <th>50%</th>\n",
       "      <th>75%</th>\n",
       "      <th>max</th>\n",
       "    </tr>\n",
       "  </thead>\n",
       "  <tbody>\n",
       "    <tr>\n",
       "      <th>Alcohol</th>\n",
       "      <td>178.0</td>\n",
       "      <td>13.000618</td>\n",
       "      <td>0.811827</td>\n",
       "      <td>11.03</td>\n",
       "      <td>12.3625</td>\n",
       "      <td>13.050</td>\n",
       "      <td>13.6775</td>\n",
       "      <td>14.83</td>\n",
       "    </tr>\n",
       "    <tr>\n",
       "      <th>Malic_Acid</th>\n",
       "      <td>178.0</td>\n",
       "      <td>2.336348</td>\n",
       "      <td>1.117146</td>\n",
       "      <td>0.74</td>\n",
       "      <td>1.6025</td>\n",
       "      <td>1.865</td>\n",
       "      <td>3.0825</td>\n",
       "      <td>5.80</td>\n",
       "    </tr>\n",
       "    <tr>\n",
       "      <th>Ash</th>\n",
       "      <td>178.0</td>\n",
       "      <td>2.366517</td>\n",
       "      <td>0.274344</td>\n",
       "      <td>1.36</td>\n",
       "      <td>2.2100</td>\n",
       "      <td>2.360</td>\n",
       "      <td>2.5575</td>\n",
       "      <td>3.23</td>\n",
       "    </tr>\n",
       "    <tr>\n",
       "      <th>Ash_Alcanity</th>\n",
       "      <td>178.0</td>\n",
       "      <td>19.494944</td>\n",
       "      <td>3.339564</td>\n",
       "      <td>10.60</td>\n",
       "      <td>17.2000</td>\n",
       "      <td>19.500</td>\n",
       "      <td>21.5000</td>\n",
       "      <td>30.00</td>\n",
       "    </tr>\n",
       "    <tr>\n",
       "      <th>Magnesium</th>\n",
       "      <td>178.0</td>\n",
       "      <td>99.741573</td>\n",
       "      <td>14.282484</td>\n",
       "      <td>70.00</td>\n",
       "      <td>88.0000</td>\n",
       "      <td>98.000</td>\n",
       "      <td>107.0000</td>\n",
       "      <td>162.00</td>\n",
       "    </tr>\n",
       "    <tr>\n",
       "      <th>Total_Phenols</th>\n",
       "      <td>178.0</td>\n",
       "      <td>2.295112</td>\n",
       "      <td>0.625851</td>\n",
       "      <td>0.98</td>\n",
       "      <td>1.7425</td>\n",
       "      <td>2.355</td>\n",
       "      <td>2.8000</td>\n",
       "      <td>3.88</td>\n",
       "    </tr>\n",
       "    <tr>\n",
       "      <th>Flavanoids</th>\n",
       "      <td>178.0</td>\n",
       "      <td>2.029270</td>\n",
       "      <td>0.998859</td>\n",
       "      <td>0.34</td>\n",
       "      <td>1.2050</td>\n",
       "      <td>2.135</td>\n",
       "      <td>2.8750</td>\n",
       "      <td>5.08</td>\n",
       "    </tr>\n",
       "    <tr>\n",
       "      <th>Nonflavanoid_Phenols</th>\n",
       "      <td>178.0</td>\n",
       "      <td>0.361854</td>\n",
       "      <td>0.124453</td>\n",
       "      <td>0.13</td>\n",
       "      <td>0.2700</td>\n",
       "      <td>0.340</td>\n",
       "      <td>0.4375</td>\n",
       "      <td>0.66</td>\n",
       "    </tr>\n",
       "    <tr>\n",
       "      <th>Proanthocyanins</th>\n",
       "      <td>178.0</td>\n",
       "      <td>1.590899</td>\n",
       "      <td>0.572359</td>\n",
       "      <td>0.41</td>\n",
       "      <td>1.2500</td>\n",
       "      <td>1.555</td>\n",
       "      <td>1.9500</td>\n",
       "      <td>3.58</td>\n",
       "    </tr>\n",
       "    <tr>\n",
       "      <th>Color_Intensity</th>\n",
       "      <td>178.0</td>\n",
       "      <td>5.058090</td>\n",
       "      <td>2.318286</td>\n",
       "      <td>1.28</td>\n",
       "      <td>3.2200</td>\n",
       "      <td>4.690</td>\n",
       "      <td>6.2000</td>\n",
       "      <td>13.00</td>\n",
       "    </tr>\n",
       "    <tr>\n",
       "      <th>Hue</th>\n",
       "      <td>178.0</td>\n",
       "      <td>0.957449</td>\n",
       "      <td>0.228572</td>\n",
       "      <td>0.48</td>\n",
       "      <td>0.7825</td>\n",
       "      <td>0.965</td>\n",
       "      <td>1.1200</td>\n",
       "      <td>1.71</td>\n",
       "    </tr>\n",
       "    <tr>\n",
       "      <th>OD280</th>\n",
       "      <td>178.0</td>\n",
       "      <td>2.611685</td>\n",
       "      <td>0.709990</td>\n",
       "      <td>1.27</td>\n",
       "      <td>1.9375</td>\n",
       "      <td>2.780</td>\n",
       "      <td>3.1700</td>\n",
       "      <td>4.00</td>\n",
       "    </tr>\n",
       "    <tr>\n",
       "      <th>Proline</th>\n",
       "      <td>178.0</td>\n",
       "      <td>746.893258</td>\n",
       "      <td>314.907474</td>\n",
       "      <td>278.00</td>\n",
       "      <td>500.5000</td>\n",
       "      <td>673.500</td>\n",
       "      <td>985.0000</td>\n",
       "      <td>1680.00</td>\n",
       "    </tr>\n",
       "    <tr>\n",
       "      <th>Customer_Segment</th>\n",
       "      <td>178.0</td>\n",
       "      <td>1.938202</td>\n",
       "      <td>0.775035</td>\n",
       "      <td>1.00</td>\n",
       "      <td>1.0000</td>\n",
       "      <td>2.000</td>\n",
       "      <td>3.0000</td>\n",
       "      <td>3.00</td>\n",
       "    </tr>\n",
       "  </tbody>\n",
       "</table>\n",
       "</div>"
      ],
      "text/plain": [
       "                      count        mean         std     min       25%  \\\n",
       "Alcohol               178.0   13.000618    0.811827   11.03   12.3625   \n",
       "Malic_Acid            178.0    2.336348    1.117146    0.74    1.6025   \n",
       "Ash                   178.0    2.366517    0.274344    1.36    2.2100   \n",
       "Ash_Alcanity          178.0   19.494944    3.339564   10.60   17.2000   \n",
       "Magnesium             178.0   99.741573   14.282484   70.00   88.0000   \n",
       "Total_Phenols         178.0    2.295112    0.625851    0.98    1.7425   \n",
       "Flavanoids            178.0    2.029270    0.998859    0.34    1.2050   \n",
       "Nonflavanoid_Phenols  178.0    0.361854    0.124453    0.13    0.2700   \n",
       "Proanthocyanins       178.0    1.590899    0.572359    0.41    1.2500   \n",
       "Color_Intensity       178.0    5.058090    2.318286    1.28    3.2200   \n",
       "Hue                   178.0    0.957449    0.228572    0.48    0.7825   \n",
       "OD280                 178.0    2.611685    0.709990    1.27    1.9375   \n",
       "Proline               178.0  746.893258  314.907474  278.00  500.5000   \n",
       "Customer_Segment      178.0    1.938202    0.775035    1.00    1.0000   \n",
       "\n",
       "                          50%       75%      max  \n",
       "Alcohol                13.050   13.6775    14.83  \n",
       "Malic_Acid              1.865    3.0825     5.80  \n",
       "Ash                     2.360    2.5575     3.23  \n",
       "Ash_Alcanity           19.500   21.5000    30.00  \n",
       "Magnesium              98.000  107.0000   162.00  \n",
       "Total_Phenols           2.355    2.8000     3.88  \n",
       "Flavanoids              2.135    2.8750     5.08  \n",
       "Nonflavanoid_Phenols    0.340    0.4375     0.66  \n",
       "Proanthocyanins         1.555    1.9500     3.58  \n",
       "Color_Intensity         4.690    6.2000    13.00  \n",
       "Hue                     0.965    1.1200     1.71  \n",
       "OD280                   2.780    3.1700     4.00  \n",
       "Proline               673.500  985.0000  1680.00  \n",
       "Customer_Segment        2.000    3.0000     3.00  "
      ]
     },
     "execution_count": 7,
     "metadata": {},
     "output_type": "execute_result"
    }
   ],
   "source": [
    "df.describe().transpose()"
   ]
  },
  {
   "cell_type": "code",
   "execution_count": 8,
   "id": "4944296d",
   "metadata": {},
   "outputs": [
    {
     "data": {
      "text/plain": [
       "Index(['Alcohol', 'Malic_Acid', 'Ash', 'Ash_Alcanity', 'Magnesium',\n",
       "       'Total_Phenols', 'Flavanoids', 'Nonflavanoid_Phenols',\n",
       "       'Proanthocyanins', 'Color_Intensity', 'Hue', 'OD280', 'Proline',\n",
       "       'Customer_Segment'],\n",
       "      dtype='object')"
      ]
     },
     "execution_count": 8,
     "metadata": {},
     "output_type": "execute_result"
    }
   ],
   "source": [
    "df.columns"
   ]
  },
  {
   "cell_type": "code",
   "execution_count": 9,
   "id": "0a253c2d",
   "metadata": {},
   "outputs": [
    {
     "name": "stdout",
     "output_type": "stream",
     "text": [
      "Number of rows: 178\n",
      "Number of columns: 14\n",
      "Shape of dataset: (178, 14)\n"
     ]
    }
   ],
   "source": [
    "print(\"Number of rows:\",df.shape[0])\n",
    "print(\"Number of columns:\",df.shape[1])\n",
    "print(\"Shape of dataset:\",df.shape)"
   ]
  },
  {
   "cell_type": "code",
   "execution_count": 10,
   "id": "cb0a9b6d",
   "metadata": {},
   "outputs": [
    {
     "data": {
      "text/plain": [
       "float64    11\n",
       "int64       3\n",
       "dtype: int64"
      ]
     },
     "execution_count": 10,
     "metadata": {},
     "output_type": "execute_result"
    }
   ],
   "source": [
    "#check for Datatypes. Object Types could contain poorly formatted information\n",
    "df.dtypes.value_counts()"
   ]
  },
  {
   "cell_type": "markdown",
   "id": "1788498b",
   "metadata": {},
   "source": [
    "#### Finding missing values:"
   ]
  },
  {
   "cell_type": "code",
   "execution_count": 11,
   "id": "924ab384",
   "metadata": {},
   "outputs": [
    {
     "data": {
      "text/plain": [
       "Alcohol                 0\n",
       "Malic_Acid              0\n",
       "Ash                     0\n",
       "Ash_Alcanity            0\n",
       "Magnesium               0\n",
       "Total_Phenols           0\n",
       "Flavanoids              0\n",
       "Nonflavanoid_Phenols    0\n",
       "Proanthocyanins         0\n",
       "Color_Intensity         0\n",
       "Hue                     0\n",
       "OD280                   0\n",
       "Proline                 0\n",
       "Customer_Segment        0\n",
       "dtype: int64"
      ]
     },
     "execution_count": 11,
     "metadata": {},
     "output_type": "execute_result"
    }
   ],
   "source": [
    "df.isnull().sum()"
   ]
  },
  {
   "cell_type": "markdown",
   "id": "26727aba",
   "metadata": {},
   "source": [
    "#### Finding if dataset is balanced or imbalanced:"
   ]
  },
  {
   "cell_type": "code",
   "execution_count": 12,
   "id": "3c7d87b0",
   "metadata": {},
   "outputs": [
    {
     "data": {
      "text/plain": [
       "2    0.398876\n",
       "1    0.331461\n",
       "3    0.269663\n",
       "Name: Customer_Segment, dtype: float64"
      ]
     },
     "execution_count": 12,
     "metadata": {},
     "output_type": "execute_result"
    }
   ],
   "source": [
    "df['Customer_Segment'].value_counts(normalize=True)"
   ]
  },
  {
   "cell_type": "markdown",
   "id": "c02d773a",
   "metadata": {},
   "source": [
    "The condition for balanced data is the minority class of the dataset should have more than 25% of data. Since minority class here has 26.96% of data, it is balanced."
   ]
  },
  {
   "cell_type": "code",
   "execution_count": 13,
   "id": "ac9843b9",
   "metadata": {},
   "outputs": [
    {
     "data": {
      "text/html": [
       "<div>\n",
       "<style scoped>\n",
       "    .dataframe tbody tr th:only-of-type {\n",
       "        vertical-align: middle;\n",
       "    }\n",
       "\n",
       "    .dataframe tbody tr th {\n",
       "        vertical-align: top;\n",
       "    }\n",
       "\n",
       "    .dataframe thead th {\n",
       "        text-align: right;\n",
       "    }\n",
       "</style>\n",
       "<table border=\"1\" class=\"dataframe\">\n",
       "  <thead>\n",
       "    <tr style=\"text-align: right;\">\n",
       "      <th></th>\n",
       "      <th>Alcohol</th>\n",
       "      <th>Malic_Acid</th>\n",
       "      <th>Ash</th>\n",
       "      <th>Ash_Alcanity</th>\n",
       "      <th>Magnesium</th>\n",
       "      <th>Total_Phenols</th>\n",
       "      <th>Flavanoids</th>\n",
       "      <th>Nonflavanoid_Phenols</th>\n",
       "      <th>Proanthocyanins</th>\n",
       "      <th>Color_Intensity</th>\n",
       "      <th>Hue</th>\n",
       "      <th>OD280</th>\n",
       "      <th>Proline</th>\n",
       "      <th>Customer_Segment</th>\n",
       "    </tr>\n",
       "  </thead>\n",
       "  <tbody>\n",
       "    <tr>\n",
       "      <th>0</th>\n",
       "      <td>14.23</td>\n",
       "      <td>1.71</td>\n",
       "      <td>2.43</td>\n",
       "      <td>15.6</td>\n",
       "      <td>127</td>\n",
       "      <td>2.80</td>\n",
       "      <td>3.06</td>\n",
       "      <td>0.28</td>\n",
       "      <td>2.29</td>\n",
       "      <td>5.64</td>\n",
       "      <td>1.04</td>\n",
       "      <td>3.92</td>\n",
       "      <td>1065</td>\n",
       "      <td>1</td>\n",
       "    </tr>\n",
       "    <tr>\n",
       "      <th>1</th>\n",
       "      <td>13.20</td>\n",
       "      <td>1.78</td>\n",
       "      <td>2.14</td>\n",
       "      <td>11.2</td>\n",
       "      <td>100</td>\n",
       "      <td>2.65</td>\n",
       "      <td>2.76</td>\n",
       "      <td>0.26</td>\n",
       "      <td>1.28</td>\n",
       "      <td>4.38</td>\n",
       "      <td>1.05</td>\n",
       "      <td>3.40</td>\n",
       "      <td>1050</td>\n",
       "      <td>1</td>\n",
       "    </tr>\n",
       "    <tr>\n",
       "      <th>2</th>\n",
       "      <td>13.16</td>\n",
       "      <td>2.36</td>\n",
       "      <td>2.67</td>\n",
       "      <td>18.6</td>\n",
       "      <td>101</td>\n",
       "      <td>2.80</td>\n",
       "      <td>3.24</td>\n",
       "      <td>0.30</td>\n",
       "      <td>2.81</td>\n",
       "      <td>5.68</td>\n",
       "      <td>1.03</td>\n",
       "      <td>3.17</td>\n",
       "      <td>1185</td>\n",
       "      <td>1</td>\n",
       "    </tr>\n",
       "    <tr>\n",
       "      <th>3</th>\n",
       "      <td>14.37</td>\n",
       "      <td>1.95</td>\n",
       "      <td>2.50</td>\n",
       "      <td>16.8</td>\n",
       "      <td>113</td>\n",
       "      <td>3.85</td>\n",
       "      <td>3.49</td>\n",
       "      <td>0.24</td>\n",
       "      <td>2.18</td>\n",
       "      <td>7.80</td>\n",
       "      <td>0.86</td>\n",
       "      <td>3.45</td>\n",
       "      <td>1480</td>\n",
       "      <td>1</td>\n",
       "    </tr>\n",
       "    <tr>\n",
       "      <th>4</th>\n",
       "      <td>13.24</td>\n",
       "      <td>2.59</td>\n",
       "      <td>2.87</td>\n",
       "      <td>21.0</td>\n",
       "      <td>118</td>\n",
       "      <td>2.80</td>\n",
       "      <td>2.69</td>\n",
       "      <td>0.39</td>\n",
       "      <td>1.82</td>\n",
       "      <td>4.32</td>\n",
       "      <td>1.04</td>\n",
       "      <td>2.93</td>\n",
       "      <td>735</td>\n",
       "      <td>1</td>\n",
       "    </tr>\n",
       "  </tbody>\n",
       "</table>\n",
       "</div>"
      ],
      "text/plain": [
       "   Alcohol  Malic_Acid   Ash  Ash_Alcanity  Magnesium  Total_Phenols  \\\n",
       "0    14.23        1.71  2.43          15.6        127           2.80   \n",
       "1    13.20        1.78  2.14          11.2        100           2.65   \n",
       "2    13.16        2.36  2.67          18.6        101           2.80   \n",
       "3    14.37        1.95  2.50          16.8        113           3.85   \n",
       "4    13.24        2.59  2.87          21.0        118           2.80   \n",
       "\n",
       "   Flavanoids  Nonflavanoid_Phenols  Proanthocyanins  Color_Intensity   Hue  \\\n",
       "0        3.06                  0.28             2.29             5.64  1.04   \n",
       "1        2.76                  0.26             1.28             4.38  1.05   \n",
       "2        3.24                  0.30             2.81             5.68  1.03   \n",
       "3        3.49                  0.24             2.18             7.80  0.86   \n",
       "4        2.69                  0.39             1.82             4.32  1.04   \n",
       "\n",
       "   OD280  Proline  Customer_Segment  \n",
       "0   3.92     1065                 1  \n",
       "1   3.40     1050                 1  \n",
       "2   3.17     1185                 1  \n",
       "3   3.45     1480                 1  \n",
       "4   2.93      735                 1  "
      ]
     },
     "execution_count": 13,
     "metadata": {},
     "output_type": "execute_result"
    }
   ],
   "source": [
    "df1=df.copy()\n",
    "df1.head()"
   ]
  },
  {
   "cell_type": "markdown",
   "id": "e26327df",
   "metadata": {},
   "source": [
    "#### Splitting data to categorical and numerical:"
   ]
  },
  {
   "cell_type": "code",
   "execution_count": 14,
   "id": "add27900",
   "metadata": {},
   "outputs": [
    {
     "name": "stdout",
     "output_type": "stream",
     "text": [
      "Number of numerical variables: 13\n",
      "Index(['Alcohol', 'Malic_Acid', 'Ash', 'Ash_Alcanity', 'Magnesium',\n",
      "       'Total_Phenols', 'Flavanoids', 'Nonflavanoid_Phenols',\n",
      "       'Proanthocyanins', 'Color_Intensity', 'Hue', 'OD280', 'Proline'],\n",
      "      dtype='object')\n",
      "Numerical features are:\n"
     ]
    },
    {
     "data": {
      "text/html": [
       "<div>\n",
       "<style scoped>\n",
       "    .dataframe tbody tr th:only-of-type {\n",
       "        vertical-align: middle;\n",
       "    }\n",
       "\n",
       "    .dataframe tbody tr th {\n",
       "        vertical-align: top;\n",
       "    }\n",
       "\n",
       "    .dataframe thead th {\n",
       "        text-align: right;\n",
       "    }\n",
       "</style>\n",
       "<table border=\"1\" class=\"dataframe\">\n",
       "  <thead>\n",
       "    <tr style=\"text-align: right;\">\n",
       "      <th></th>\n",
       "      <th>Alcohol</th>\n",
       "      <th>Malic_Acid</th>\n",
       "      <th>Ash</th>\n",
       "      <th>Ash_Alcanity</th>\n",
       "      <th>Magnesium</th>\n",
       "      <th>Total_Phenols</th>\n",
       "      <th>Flavanoids</th>\n",
       "      <th>Nonflavanoid_Phenols</th>\n",
       "      <th>Proanthocyanins</th>\n",
       "      <th>Color_Intensity</th>\n",
       "      <th>Hue</th>\n",
       "      <th>OD280</th>\n",
       "      <th>Proline</th>\n",
       "    </tr>\n",
       "  </thead>\n",
       "  <tbody>\n",
       "    <tr>\n",
       "      <th>0</th>\n",
       "      <td>14.23</td>\n",
       "      <td>1.71</td>\n",
       "      <td>2.43</td>\n",
       "      <td>15.6</td>\n",
       "      <td>127</td>\n",
       "      <td>2.80</td>\n",
       "      <td>3.06</td>\n",
       "      <td>0.28</td>\n",
       "      <td>2.29</td>\n",
       "      <td>5.64</td>\n",
       "      <td>1.04</td>\n",
       "      <td>3.92</td>\n",
       "      <td>1065</td>\n",
       "    </tr>\n",
       "    <tr>\n",
       "      <th>1</th>\n",
       "      <td>13.20</td>\n",
       "      <td>1.78</td>\n",
       "      <td>2.14</td>\n",
       "      <td>11.2</td>\n",
       "      <td>100</td>\n",
       "      <td>2.65</td>\n",
       "      <td>2.76</td>\n",
       "      <td>0.26</td>\n",
       "      <td>1.28</td>\n",
       "      <td>4.38</td>\n",
       "      <td>1.05</td>\n",
       "      <td>3.40</td>\n",
       "      <td>1050</td>\n",
       "    </tr>\n",
       "    <tr>\n",
       "      <th>2</th>\n",
       "      <td>13.16</td>\n",
       "      <td>2.36</td>\n",
       "      <td>2.67</td>\n",
       "      <td>18.6</td>\n",
       "      <td>101</td>\n",
       "      <td>2.80</td>\n",
       "      <td>3.24</td>\n",
       "      <td>0.30</td>\n",
       "      <td>2.81</td>\n",
       "      <td>5.68</td>\n",
       "      <td>1.03</td>\n",
       "      <td>3.17</td>\n",
       "      <td>1185</td>\n",
       "    </tr>\n",
       "    <tr>\n",
       "      <th>3</th>\n",
       "      <td>14.37</td>\n",
       "      <td>1.95</td>\n",
       "      <td>2.50</td>\n",
       "      <td>16.8</td>\n",
       "      <td>113</td>\n",
       "      <td>3.85</td>\n",
       "      <td>3.49</td>\n",
       "      <td>0.24</td>\n",
       "      <td>2.18</td>\n",
       "      <td>7.80</td>\n",
       "      <td>0.86</td>\n",
       "      <td>3.45</td>\n",
       "      <td>1480</td>\n",
       "    </tr>\n",
       "    <tr>\n",
       "      <th>4</th>\n",
       "      <td>13.24</td>\n",
       "      <td>2.59</td>\n",
       "      <td>2.87</td>\n",
       "      <td>21.0</td>\n",
       "      <td>118</td>\n",
       "      <td>2.80</td>\n",
       "      <td>2.69</td>\n",
       "      <td>0.39</td>\n",
       "      <td>1.82</td>\n",
       "      <td>4.32</td>\n",
       "      <td>1.04</td>\n",
       "      <td>2.93</td>\n",
       "      <td>735</td>\n",
       "    </tr>\n",
       "  </tbody>\n",
       "</table>\n",
       "</div>"
      ],
      "text/plain": [
       "   Alcohol  Malic_Acid   Ash  Ash_Alcanity  Magnesium  Total_Phenols  \\\n",
       "0    14.23        1.71  2.43          15.6        127           2.80   \n",
       "1    13.20        1.78  2.14          11.2        100           2.65   \n",
       "2    13.16        2.36  2.67          18.6        101           2.80   \n",
       "3    14.37        1.95  2.50          16.8        113           3.85   \n",
       "4    13.24        2.59  2.87          21.0        118           2.80   \n",
       "\n",
       "   Flavanoids  Nonflavanoid_Phenols  Proanthocyanins  Color_Intensity   Hue  \\\n",
       "0        3.06                  0.28             2.29             5.64  1.04   \n",
       "1        2.76                  0.26             1.28             4.38  1.05   \n",
       "2        3.24                  0.30             2.81             5.68  1.03   \n",
       "3        3.49                  0.24             2.18             7.80  0.86   \n",
       "4        2.69                  0.39             1.82             4.32  1.04   \n",
       "\n",
       "   OD280  Proline  \n",
       "0   3.92     1065  \n",
       "1   3.40     1050  \n",
       "2   3.17     1185  \n",
       "3   3.45     1480  \n",
       "4   2.93      735  "
      ]
     },
     "execution_count": 14,
     "metadata": {},
     "output_type": "execute_result"
    }
   ],
   "source": [
    "#numerical features in the dataset \n",
    "\n",
    "# list of numerical variables\n",
    "numerical_features = [feature for feature in df.columns if feature!= 'Customer_Segment']\n",
    "print('Number of numerical variables:', len(numerical_features))\n",
    "\n",
    "print(df[numerical_features].columns)\n",
    "\n",
    "# visualise the numerical variables\n",
    "print(\"Numerical features are:\")\n",
    "df[numerical_features].head()"
   ]
  },
  {
   "cell_type": "markdown",
   "id": "14d5125e",
   "metadata": {},
   "source": [
    "#### Type-casting target variable:"
   ]
  },
  {
   "cell_type": "code",
   "execution_count": 15,
   "id": "38bf6ba1",
   "metadata": {},
   "outputs": [],
   "source": [
    "df1['Customer_Segment']=df1['Customer_Segment'].astype('category')"
   ]
  },
  {
   "cell_type": "markdown",
   "id": "15265dbc",
   "metadata": {},
   "source": [
    "## Question 1: Compute and plot those feature which are related to each other?"
   ]
  },
  {
   "cell_type": "markdown",
   "id": "6bb5076a",
   "metadata": {},
   "source": [
    "#### Analysis on data:"
   ]
  },
  {
   "cell_type": "markdown",
   "id": "2ad061d4",
   "metadata": {},
   "source": [
    "#### 1. Vizualize the percentage of each customer segment."
   ]
  },
  {
   "cell_type": "code",
   "execution_count": 16,
   "id": "8d7049ae",
   "metadata": {},
   "outputs": [
    {
     "data": {
      "text/plain": [
       "2    71\n",
       "1    59\n",
       "3    48\n",
       "Name: Customer_Segment, dtype: int64"
      ]
     },
     "execution_count": 16,
     "metadata": {},
     "output_type": "execute_result"
    }
   ],
   "source": [
    "df1['Customer_Segment'].value_counts()"
   ]
  },
  {
   "cell_type": "code",
   "execution_count": 17,
   "id": "67b928ed",
   "metadata": {},
   "outputs": [
    {
     "data": {
      "image/png": "[encoded data removed]",
      "text/plain": [
       "<Figure size 432x288 with 1 Axes>"
      ]
     },
     "metadata": {
      "needs_background": "light"
     },
     "output_type": "display_data"
    }
   ],
   "source": [
    "sns.countplot(x=df1['Customer_Segment'],data=df1)\n",
    "plt.ylabel(\"Count\")\n",
    "plt.xlabel(\"Customer_Segment\")\n",
    "plt.title('Count of Customer_Segment')\n",
    "plt.show()"
   ]
  },
  {
   "cell_type": "markdown",
   "id": "cc70588d",
   "metadata": {},
   "source": [
    "The count of Customer Segment 2 is the most, whereas the count of Customer Segment 3 is the least."
   ]
  },
  {
   "cell_type": "code",
   "execution_count": 18,
   "id": "5f7f7ade",
   "metadata": {},
   "outputs": [
    {
     "data": {
      "image/png": "[encoded data removed]",
      "text/plain": [
       "<Figure size 432x288 with 1 Axes>"
      ]
     },
     "metadata": {},
     "output_type": "display_data"
    }
   ],
   "source": [
    "plt.pie(x=df1['Customer_Segment'].value_counts(), labels = df1['Customer_Segment'].unique(),data=df1,autopct='%.0f%%')\n",
    "plt.legend()\n",
    "plt.show()"
   ]
  },
  {
   "cell_type": "markdown",
   "id": "16c26ac5",
   "metadata": {},
   "source": [
    "#### 2. What is the percentage of alcohol in each customer segment?"
   ]
  },
  {
   "cell_type": "code",
   "execution_count": 19,
   "id": "b6e85ed2",
   "metadata": {},
   "outputs": [
    {
     "data": {
      "image/png": "[encoded data removed]",
      "text/plain": [
       "<Figure size 432x288 with 1 Axes>"
      ]
     },
     "metadata": {
      "needs_background": "light"
     },
     "output_type": "display_data"
    }
   ],
   "source": [
    "sns.barplot(x=df1['Customer_Segment'],y=df1['Alcohol'],data=df1)\n",
    "plt.xlabel('Customer_Segment')\n",
    "plt.ylabel('Alcohol')\n",
    "plt.title('Customer_Segment VS Alcohol')\n",
    "plt.show()"
   ]
  },
  {
   "cell_type": "markdown",
   "id": "d08f89f6",
   "metadata": {},
   "source": [
    "From the graph it is evident that Customer_Segment 1 prefers more alcohol content and Customer Segment 2 prefers least alcohol content, although the alcohol content is more or less in the same level for all the 3 segments."
   ]
  },
  {
   "cell_type": "markdown",
   "id": "4d6b1c5c",
   "metadata": {},
   "source": [
    "#### 3. Visualize the distribution of each feature. "
   ]
  },
  {
   "cell_type": "code",
   "execution_count": 20,
   "id": "a8b6e2f4",
   "metadata": {},
   "outputs": [
    {
     "data": {
      "image/png": "[encoded data removed]",
      "text/plain": [
       "<Figure size 1080x1440 with 16 Axes>"
      ]
     },
     "metadata": {
      "needs_background": "light"
     },
     "output_type": "display_data"
    }
   ],
   "source": [
    "#check on the distribution\n",
    "fig, ax = plt.subplots(figsize = (15,20))\n",
    "df.hist(figsize = (15,20), ax = ax)\n",
    "plt.show()"
   ]
  },
  {
   "cell_type": "markdown",
   "id": "e193dcbb",
   "metadata": {},
   "source": [
    "#### 4. Finding if the numerical data have any outliers:"
   ]
  },
  {
   "cell_type": "code",
   "execution_count": 21,
   "id": "7d7e3d2b",
   "metadata": {},
   "outputs": [
    {
     "data": {
      "image/png": "[encoded data removed]",
      "text/plain": [
       "<Figure size 936x360 with 2 Axes>"
      ]
     },
     "metadata": {
      "needs_background": "light"
     },
     "output_type": "display_data"
    },
    {
     "data": {
      "image/png": "[encoded data removed]",
      "text/plain": [
       "<Figure size 936x360 with 2 Axes>"
      ]
     },
     "metadata": {
      "needs_background": "light"
     },
     "output_type": "display_data"
    },
    {
     "data": {
      "image/png": "[encoded data removed]",
      "text/plain": [
       "<Figure size 936x360 with 2 Axes>"
      ]
     },
     "metadata": {
      "needs_background": "light"
     },
     "output_type": "display_data"
    },
    {
     "data": {
      "image/png": "[encoded data removed]",
      "text/plain": [
       "<Figure size 936x360 with 2 Axes>"
      ]
     },
     "metadata": {
      "needs_background": "light"
     },
     "output_type": "display_data"
    },
    {
     "data": {
      "image/png": "[encoded data removed]",
      "text/plain": [
       "<Figure size 936x360 with 2 Axes>"
      ]
     },
     "metadata": {
      "needs_background": "light"
     },
     "output_type": "display_data"
    },
    {
     "data": {
      "image/png": "[encoded data removed]",
      "text/plain": [
       "<Figure size 936x360 with 2 Axes>"
      ]
     },
     "metadata": {
      "needs_background": "light"
     },
     "output_type": "display_data"
    },
    {
     "data": {
      "image/png": "[encoded data removed]",
      "text/plain": [
       "<Figure size 936x360 with 2 Axes>"
      ]
     },
     "metadata": {
      "needs_background": "light"
     },
     "output_type": "display_data"
    },
    {
     "data": {
      "image/png": "[encoded data removed]",
      "text/plain": [
       "<Figure size 936x360 with 2 Axes>"
      ]
     },
     "metadata": {
      "needs_background": "light"
     },
     "output_type": "display_data"
    },
    {
     "data": {
      "image/png": "[encoded data removed]",
      "text/plain": [
       "<Figure size 936x360 with 2 Axes>"
      ]
     },
     "metadata": {
      "needs_background": "light"
     },
     "output_type": "display_data"
    },
    {
     "data": {
      "image/png": "[encoded data removed]",
      "text/plain": [
       "<Figure size 936x360 with 2 Axes>"
      ]
     },
     "metadata": {
      "needs_background": "light"
     },
     "output_type": "display_data"
    },
    {
     "data": {
      "image/png": "[encoded data removed]",
      "text/plain": [
       "<Figure size 936x360 with 2 Axes>"
      ]
     },
     "metadata": {
      "needs_background": "light"
     },
     "output_type": "display_data"
    },
    {
     "data": {
      "image/png": "[encoded data removed]",
      "text/plain": [
       "<Figure size 936x360 with 2 Axes>"
      ]
     },
     "metadata": {
      "needs_background": "light"
     },
     "output_type": "display_data"
    },
    {
     "data": {
      "image/png": "[encoded data removed]",
      "text/plain": [
       "<Figure size 936x360 with 2 Axes>"
      ]
     },
     "metadata": {
      "needs_background": "light"
     },
     "output_type": "display_data"
    }
   ],
   "source": [
    "for feature in df1.columns:\n",
    "    if feature != 'Customer_Segment':\n",
    "        fig, (ax1, ax2) = plt.subplots(nrows = 1, ncols = 2, figsize = (13, 5))\n",
    "        sns.boxplot(x=df1[feature],data=df1,ax=ax1)\n",
    "        ax1.set_title('Outliers in {}'.format(feature))\n",
    "        ax1.tick_params(labelsize=15)\n",
    "        \n",
    "        sns.distplot(df1[feature], ax = ax2)\n",
    "        ax2.set_xlabel(feature)\n",
    "        ax2.set_ylabel(\"Frequency [%]\")\n",
    "        ax2.set_title('Distribution of {}'.format(feature))"
   ]
  },
  {
   "cell_type": "markdown",
   "id": "5527e6a2",
   "metadata": {},
   "source": [
    "Some of the numerical features have outliers."
   ]
  },
  {
   "cell_type": "markdown",
   "id": "6b99a4a4",
   "metadata": {},
   "source": [
    "#### 5. How does Ash and Ash Alcanity vary with each other?"
   ]
  },
  {
   "cell_type": "code",
   "execution_count": 22,
   "id": "8c71497a",
   "metadata": {},
   "outputs": [
    {
     "data": {
      "image/png": "[encoded data removed]",
      "text/plain": [
       "<Figure size 432x288 with 1 Axes>"
      ]
     },
     "metadata": {
      "needs_background": "light"
     },
     "output_type": "display_data"
    }
   ],
   "source": [
    "sns.scatterplot(y=\"Ash\",x=\"Ash_Alcanity\",data=df1);\n",
    "plt.xlabel(\"Ash\")\n",
    "plt.ylabel(\"Ash_Alcanity\")\n",
    "plt.title(\"Ash vs Ash_Alcanity\")\n",
    "plt.show()"
   ]
  },
  {
   "cell_type": "markdown",
   "id": "35ee94cb",
   "metadata": {},
   "source": [
    "#### 6. How does number of Magnesium vary with Alcohol?"
   ]
  },
  {
   "cell_type": "code",
   "execution_count": 23,
   "id": "7cfa2c99",
   "metadata": {},
   "outputs": [
    {
     "data": {
      "image/png": "[encoded data removed]",
      "text/plain": [
       "<Figure size 432x288 with 1 Axes>"
      ]
     },
     "metadata": {
      "needs_background": "light"
     },
     "output_type": "display_data"
    }
   ],
   "source": [
    "sns.scatterplot(y=\"Alcohol\",x=\"Magnesium\",data=df1);\n",
    "plt.xlabel(\"Alcohol\")\n",
    "plt.ylabel(\"Magnesium\")\n",
    "plt.title(\"Alcohol vs Magnesium\")\n",
    "plt.show()"
   ]
  },
  {
   "cell_type": "markdown",
   "id": "ff9c905c",
   "metadata": {},
   "source": [
    "#### 7. How does the Colour Intensity vary for each Customer Segment?"
   ]
  },
  {
   "cell_type": "code",
   "execution_count": 24,
   "id": "e890d9d2",
   "metadata": {},
   "outputs": [
    {
     "data": {
      "image/png": "[encoded data removed]",
      "text/plain": [
       "<Figure size 432x288 with 1 Axes>"
      ]
     },
     "metadata": {
      "needs_background": "light"
     },
     "output_type": "display_data"
    }
   ],
   "source": [
    "sns.barplot(x=df1['Customer_Segment'],y=df1['Color_Intensity'],data=df1)\n",
    "plt.xlabel('Customer_Segment')\n",
    "plt.ylabel('Color_Intensity')\n",
    "plt.title('Customer_Segment VS Color_Intensity')\n",
    "plt.show()"
   ]
  },
  {
   "cell_type": "markdown",
   "id": "a5fe2903",
   "metadata": {},
   "source": [
    "The colour intensity is more for segment 3 and least for segment 2."
   ]
  },
  {
   "cell_type": "markdown",
   "id": "3e9f8a93",
   "metadata": {},
   "source": [
    "#### 8. What is the relationship between Flavanoids and Color Intensity?"
   ]
  },
  {
   "cell_type": "code",
   "execution_count": 25,
   "id": "a7dd36f5",
   "metadata": {},
   "outputs": [
    {
     "data": {
      "image/png": "[encoded data removed]",
      "text/plain": [
       "<Figure size 432x288 with 1 Axes>"
      ]
     },
     "metadata": {
      "needs_background": "light"
     },
     "output_type": "display_data"
    }
   ],
   "source": [
    "sns.scatterplot(y=\"Flavanoids\",x=\"Color_Intensity\",data=df1);\n",
    "plt.xlabel(\"Color_Intensity\")\n",
    "plt.ylabel(\"Flavanoids\")\n",
    "plt.title(\"Color_Intensity vs Flavanoids\")\n",
    "plt.show()"
   ]
  },
  {
   "cell_type": "markdown",
   "id": "09a0be6c",
   "metadata": {},
   "source": [
    "#### 9. How Total Phenols and Non Flavanoid Phenols vary with each other?"
   ]
  },
  {
   "cell_type": "code",
   "execution_count": 26,
   "id": "4c2dc6ff",
   "metadata": {},
   "outputs": [
    {
     "data": {
      "image/png": "[encoded data removed]",
      "text/plain": [
       "<Figure size 432x288 with 1 Axes>"
      ]
     },
     "metadata": {
      "needs_background": "light"
     },
     "output_type": "display_data"
    }
   ],
   "source": [
    "sns.scatterplot(y=\"Nonflavanoid_Phenols\",x=\"Total_Phenols\",data=df1);\n",
    "plt.xlabel(\"Total_Phenols\")\n",
    "plt.ylabel(\"Nonflavanoid_Phenols\")\n",
    "plt.title(\"Total_Phenols vs Nonflavanoid_Phenols\")\n",
    "plt.show()"
   ]
  },
  {
   "cell_type": "markdown",
   "id": "1755b87d",
   "metadata": {},
   "source": [
    "#### 10. What is the Malic_Acid for wach Customer_Segment?"
   ]
  },
  {
   "cell_type": "code",
   "execution_count": 27,
   "id": "602acc1e",
   "metadata": {},
   "outputs": [
    {
     "data": {
      "image/png": "[encoded data removed]",
      "text/plain": [
       "<Figure size 432x288 with 1 Axes>"
      ]
     },
     "metadata": {
      "needs_background": "light"
     },
     "output_type": "display_data"
    }
   ],
   "source": [
    "sns.barplot(x=df1['Customer_Segment'],y=df1['Malic_Acid'],data=df1)\n",
    "plt.xlabel('Customer_Segment')\n",
    "plt.ylabel('Malic_Acid')\n",
    "plt.title('Customer_Segment VS Malic_Acid')\n",
    "plt.show()"
   ]
  },
  {
   "cell_type": "markdown",
   "id": "c9c1ad6f",
   "metadata": {},
   "source": [
    "Malic acid is more for segment 3 and least for segment 2. Segment 1 and 2 have almost same level of malic acid content."
   ]
  },
  {
   "cell_type": "markdown",
   "id": "aedd09a7",
   "metadata": {},
   "source": [
    "### Model Building:"
   ]
  },
  {
   "cell_type": "code",
   "execution_count": 28,
   "id": "3f91f0f5",
   "metadata": {},
   "outputs": [
    {
     "data": {
      "text/html": [
       "<div>\n",
       "<style scoped>\n",
       "    .dataframe tbody tr th:only-of-type {\n",
       "        vertical-align: middle;\n",
       "    }\n",
       "\n",
       "    .dataframe tbody tr th {\n",
       "        vertical-align: top;\n",
       "    }\n",
       "\n",
       "    .dataframe thead th {\n",
       "        text-align: right;\n",
       "    }\n",
       "</style>\n",
       "<table border=\"1\" class=\"dataframe\">\n",
       "  <thead>\n",
       "    <tr style=\"text-align: right;\">\n",
       "      <th></th>\n",
       "      <th>Alcohol</th>\n",
       "      <th>Malic_Acid</th>\n",
       "      <th>Ash</th>\n",
       "      <th>Ash_Alcanity</th>\n",
       "      <th>Magnesium</th>\n",
       "      <th>Total_Phenols</th>\n",
       "      <th>Flavanoids</th>\n",
       "      <th>Nonflavanoid_Phenols</th>\n",
       "      <th>Proanthocyanins</th>\n",
       "      <th>Color_Intensity</th>\n",
       "      <th>Hue</th>\n",
       "      <th>OD280</th>\n",
       "      <th>Proline</th>\n",
       "      <th>Customer_Segment</th>\n",
       "    </tr>\n",
       "  </thead>\n",
       "  <tbody>\n",
       "    <tr>\n",
       "      <th>0</th>\n",
       "      <td>14.23</td>\n",
       "      <td>1.71</td>\n",
       "      <td>2.43</td>\n",
       "      <td>15.6</td>\n",
       "      <td>127</td>\n",
       "      <td>2.80</td>\n",
       "      <td>3.06</td>\n",
       "      <td>0.28</td>\n",
       "      <td>2.29</td>\n",
       "      <td>5.64</td>\n",
       "      <td>1.04</td>\n",
       "      <td>3.92</td>\n",
       "      <td>1065</td>\n",
       "      <td>1</td>\n",
       "    </tr>\n",
       "    <tr>\n",
       "      <th>1</th>\n",
       "      <td>13.20</td>\n",
       "      <td>1.78</td>\n",
       "      <td>2.14</td>\n",
       "      <td>11.2</td>\n",
       "      <td>100</td>\n",
       "      <td>2.65</td>\n",
       "      <td>2.76</td>\n",
       "      <td>0.26</td>\n",
       "      <td>1.28</td>\n",
       "      <td>4.38</td>\n",
       "      <td>1.05</td>\n",
       "      <td>3.40</td>\n",
       "      <td>1050</td>\n",
       "      <td>1</td>\n",
       "    </tr>\n",
       "    <tr>\n",
       "      <th>2</th>\n",
       "      <td>13.16</td>\n",
       "      <td>2.36</td>\n",
       "      <td>2.67</td>\n",
       "      <td>18.6</td>\n",
       "      <td>101</td>\n",
       "      <td>2.80</td>\n",
       "      <td>3.24</td>\n",
       "      <td>0.30</td>\n",
       "      <td>2.81</td>\n",
       "      <td>5.68</td>\n",
       "      <td>1.03</td>\n",
       "      <td>3.17</td>\n",
       "      <td>1185</td>\n",
       "      <td>1</td>\n",
       "    </tr>\n",
       "    <tr>\n",
       "      <th>3</th>\n",
       "      <td>14.37</td>\n",
       "      <td>1.95</td>\n",
       "      <td>2.50</td>\n",
       "      <td>16.8</td>\n",
       "      <td>113</td>\n",
       "      <td>3.85</td>\n",
       "      <td>3.49</td>\n",
       "      <td>0.24</td>\n",
       "      <td>2.18</td>\n",
       "      <td>7.80</td>\n",
       "      <td>0.86</td>\n",
       "      <td>3.45</td>\n",
       "      <td>1480</td>\n",
       "      <td>1</td>\n",
       "    </tr>\n",
       "    <tr>\n",
       "      <th>4</th>\n",
       "      <td>13.24</td>\n",
       "      <td>2.59</td>\n",
       "      <td>2.87</td>\n",
       "      <td>21.0</td>\n",
       "      <td>118</td>\n",
       "      <td>2.80</td>\n",
       "      <td>2.69</td>\n",
       "      <td>0.39</td>\n",
       "      <td>1.82</td>\n",
       "      <td>4.32</td>\n",
       "      <td>1.04</td>\n",
       "      <td>2.93</td>\n",
       "      <td>735</td>\n",
       "      <td>1</td>\n",
       "    </tr>\n",
       "  </tbody>\n",
       "</table>\n",
       "</div>"
      ],
      "text/plain": [
       "   Alcohol  Malic_Acid   Ash  Ash_Alcanity  Magnesium  Total_Phenols  \\\n",
       "0    14.23        1.71  2.43          15.6        127           2.80   \n",
       "1    13.20        1.78  2.14          11.2        100           2.65   \n",
       "2    13.16        2.36  2.67          18.6        101           2.80   \n",
       "3    14.37        1.95  2.50          16.8        113           3.85   \n",
       "4    13.24        2.59  2.87          21.0        118           2.80   \n",
       "\n",
       "   Flavanoids  Nonflavanoid_Phenols  Proanthocyanins  Color_Intensity   Hue  \\\n",
       "0        3.06                  0.28             2.29             5.64  1.04   \n",
       "1        2.76                  0.26             1.28             4.38  1.05   \n",
       "2        3.24                  0.30             2.81             5.68  1.03   \n",
       "3        3.49                  0.24             2.18             7.80  0.86   \n",
       "4        2.69                  0.39             1.82             4.32  1.04   \n",
       "\n",
       "   OD280  Proline Customer_Segment  \n",
       "0   3.92     1065                1  \n",
       "1   3.40     1050                1  \n",
       "2   3.17     1185                1  \n",
       "3   3.45     1480                1  \n",
       "4   2.93      735                1  "
      ]
     },
     "execution_count": 28,
     "metadata": {},
     "output_type": "execute_result"
    }
   ],
   "source": [
    "df2=df1.copy()\n",
    "df2.head()"
   ]
  },
  {
   "cell_type": "markdown",
   "id": "9a39af7b",
   "metadata": {},
   "source": [
    "#### Prevalence Rate: \n",
    "It is used to find if the data set is balanced or not. The condition for balanced data is the minority class of the dataset should have more than 25% of data. Example: 60-40,70-30. In this the minority class is having 40 and 30 percent of data respectively. So such dataset are balanced.\n",
    "\n",
    "We can use this to find the metrics that we will adopt for the model.\n",
    "\n",
    "If the actual value is 0 and model is predicting 1, it is called 'False-Positive(FP)'.\n",
    "If the actual value is 1 and model is predicting 0, it is called 'False-Negative(FN)'.\n",
    "If the actual value is 0 and model is predicting 0, it is called 'True-Negative(TN)'.\n",
    "If the actual value is 1 and model is predicting 1, it is called 'True-Positive(TP)'.\n",
    "If the dataset is balanced the metrics we use is Accuracy. Else depending on 'False-Positive(FP)' and 'False-Negative(FN)' and their misclassification we can go for Precision, Recall or F1-Score.\n",
    "\n",
    "If concentration is more on FP -> Metrics = Precision.\n",
    "\n",
    "If concentration is more on FN -> Metrics = Recall.\n",
    "\n",
    "If concentration is more on both FN and FP -> Metrics = F1-Score. [Misclassification]\n",
    "\n",
    "If concentration is more on both TN and TP -> Metrics = Accuracy. [Correct Classification]"
   ]
  },
  {
   "cell_type": "code",
   "execution_count": 29,
   "id": "3e77ecb4",
   "metadata": {},
   "outputs": [
    {
     "data": {
      "text/plain": [
       "2    0.398876\n",
       "1    0.331461\n",
       "3    0.269663\n",
       "Name: Customer_Segment, dtype: float64"
      ]
     },
     "execution_count": 29,
     "metadata": {},
     "output_type": "execute_result"
    }
   ],
   "source": [
    "#Prevalence rate of the dataset\n",
    "df2['Customer_Segment'].value_counts(normalize=True)"
   ]
  },
  {
   "cell_type": "markdown",
   "id": "64ebc105",
   "metadata": {},
   "source": [
    "The dataset is balanced since minority class has more than 25% of the data."
   ]
  },
  {
   "cell_type": "code",
   "execution_count": 30,
   "id": "72e03489",
   "metadata": {},
   "outputs": [],
   "source": [
    "train_acc=[]\n",
    "test_acc=[]"
   ]
  },
  {
   "cell_type": "markdown",
   "id": "d112cffb",
   "metadata": {},
   "source": [
    "#### Encoding of data:\n"
   ]
  },
  {
   "cell_type": "code",
   "execution_count": 31,
   "id": "bcd752ac",
   "metadata": {},
   "outputs": [
    {
     "data": {
      "text/html": [
       "<div>\n",
       "<style scoped>\n",
       "    .dataframe tbody tr th:only-of-type {\n",
       "        vertical-align: middle;\n",
       "    }\n",
       "\n",
       "    .dataframe tbody tr th {\n",
       "        vertical-align: top;\n",
       "    }\n",
       "\n",
       "    .dataframe thead th {\n",
       "        text-align: right;\n",
       "    }\n",
       "</style>\n",
       "<table border=\"1\" class=\"dataframe\">\n",
       "  <thead>\n",
       "    <tr style=\"text-align: right;\">\n",
       "      <th></th>\n",
       "      <th>Alcohol</th>\n",
       "      <th>Malic_Acid</th>\n",
       "      <th>Ash</th>\n",
       "      <th>Ash_Alcanity</th>\n",
       "      <th>Magnesium</th>\n",
       "      <th>Total_Phenols</th>\n",
       "      <th>Flavanoids</th>\n",
       "      <th>Nonflavanoid_Phenols</th>\n",
       "      <th>Proanthocyanins</th>\n",
       "      <th>Color_Intensity</th>\n",
       "      <th>Hue</th>\n",
       "      <th>OD280</th>\n",
       "      <th>Proline</th>\n",
       "      <th>Customer_Segment</th>\n",
       "    </tr>\n",
       "  </thead>\n",
       "  <tbody>\n",
       "    <tr>\n",
       "      <th>0</th>\n",
       "      <td>14.23</td>\n",
       "      <td>1.71</td>\n",
       "      <td>2.43</td>\n",
       "      <td>15.6</td>\n",
       "      <td>127</td>\n",
       "      <td>2.80</td>\n",
       "      <td>3.06</td>\n",
       "      <td>0.28</td>\n",
       "      <td>2.29</td>\n",
       "      <td>5.64</td>\n",
       "      <td>1.040</td>\n",
       "      <td>3.92</td>\n",
       "      <td>1065</td>\n",
       "      <td>1</td>\n",
       "    </tr>\n",
       "    <tr>\n",
       "      <th>1</th>\n",
       "      <td>13.20</td>\n",
       "      <td>1.78</td>\n",
       "      <td>2.14</td>\n",
       "      <td>11.2</td>\n",
       "      <td>100</td>\n",
       "      <td>2.65</td>\n",
       "      <td>2.76</td>\n",
       "      <td>0.26</td>\n",
       "      <td>1.28</td>\n",
       "      <td>4.38</td>\n",
       "      <td>1.050</td>\n",
       "      <td>3.40</td>\n",
       "      <td>1050</td>\n",
       "      <td>1</td>\n",
       "    </tr>\n",
       "    <tr>\n",
       "      <th>2</th>\n",
       "      <td>13.16</td>\n",
       "      <td>2.36</td>\n",
       "      <td>2.67</td>\n",
       "      <td>18.6</td>\n",
       "      <td>101</td>\n",
       "      <td>2.80</td>\n",
       "      <td>3.24</td>\n",
       "      <td>0.30</td>\n",
       "      <td>2.81</td>\n",
       "      <td>5.68</td>\n",
       "      <td>1.030</td>\n",
       "      <td>3.17</td>\n",
       "      <td>1185</td>\n",
       "      <td>1</td>\n",
       "    </tr>\n",
       "    <tr>\n",
       "      <th>3</th>\n",
       "      <td>14.37</td>\n",
       "      <td>1.95</td>\n",
       "      <td>2.50</td>\n",
       "      <td>16.8</td>\n",
       "      <td>113</td>\n",
       "      <td>3.85</td>\n",
       "      <td>3.49</td>\n",
       "      <td>0.24</td>\n",
       "      <td>2.18</td>\n",
       "      <td>7.80</td>\n",
       "      <td>0.860</td>\n",
       "      <td>3.45</td>\n",
       "      <td>1480</td>\n",
       "      <td>1</td>\n",
       "    </tr>\n",
       "    <tr>\n",
       "      <th>4</th>\n",
       "      <td>13.24</td>\n",
       "      <td>2.59</td>\n",
       "      <td>2.87</td>\n",
       "      <td>21.0</td>\n",
       "      <td>118</td>\n",
       "      <td>2.80</td>\n",
       "      <td>2.69</td>\n",
       "      <td>0.39</td>\n",
       "      <td>1.82</td>\n",
       "      <td>4.32</td>\n",
       "      <td>1.040</td>\n",
       "      <td>2.93</td>\n",
       "      <td>735</td>\n",
       "      <td>1</td>\n",
       "    </tr>\n",
       "    <tr>\n",
       "      <th>...</th>\n",
       "      <td>...</td>\n",
       "      <td>...</td>\n",
       "      <td>...</td>\n",
       "      <td>...</td>\n",
       "      <td>...</td>\n",
       "      <td>...</td>\n",
       "      <td>...</td>\n",
       "      <td>...</td>\n",
       "      <td>...</td>\n",
       "      <td>...</td>\n",
       "      <td>...</td>\n",
       "      <td>...</td>\n",
       "      <td>...</td>\n",
       "      <td>...</td>\n",
       "    </tr>\n",
       "    <tr>\n",
       "      <th>70</th>\n",
       "      <td>12.29</td>\n",
       "      <td>1.61</td>\n",
       "      <td>2.21</td>\n",
       "      <td>20.4</td>\n",
       "      <td>103</td>\n",
       "      <td>1.10</td>\n",
       "      <td>1.02</td>\n",
       "      <td>0.37</td>\n",
       "      <td>1.46</td>\n",
       "      <td>3.05</td>\n",
       "      <td>0.906</td>\n",
       "      <td>1.82</td>\n",
       "      <td>870</td>\n",
       "      <td>0</td>\n",
       "    </tr>\n",
       "    <tr>\n",
       "      <th>71</th>\n",
       "      <td>13.86</td>\n",
       "      <td>1.51</td>\n",
       "      <td>2.67</td>\n",
       "      <td>25.0</td>\n",
       "      <td>86</td>\n",
       "      <td>2.95</td>\n",
       "      <td>2.86</td>\n",
       "      <td>0.21</td>\n",
       "      <td>1.87</td>\n",
       "      <td>3.38</td>\n",
       "      <td>1.360</td>\n",
       "      <td>3.16</td>\n",
       "      <td>410</td>\n",
       "      <td>0</td>\n",
       "    </tr>\n",
       "    <tr>\n",
       "      <th>72</th>\n",
       "      <td>13.49</td>\n",
       "      <td>1.66</td>\n",
       "      <td>2.24</td>\n",
       "      <td>24.0</td>\n",
       "      <td>87</td>\n",
       "      <td>1.88</td>\n",
       "      <td>1.84</td>\n",
       "      <td>0.27</td>\n",
       "      <td>1.03</td>\n",
       "      <td>3.74</td>\n",
       "      <td>0.980</td>\n",
       "      <td>2.78</td>\n",
       "      <td>472</td>\n",
       "      <td>0</td>\n",
       "    </tr>\n",
       "    <tr>\n",
       "      <th>73</th>\n",
       "      <td>12.99</td>\n",
       "      <td>1.67</td>\n",
       "      <td>2.60</td>\n",
       "      <td>30.0</td>\n",
       "      <td>139</td>\n",
       "      <td>3.30</td>\n",
       "      <td>2.89</td>\n",
       "      <td>0.21</td>\n",
       "      <td>1.96</td>\n",
       "      <td>3.35</td>\n",
       "      <td>1.310</td>\n",
       "      <td>3.50</td>\n",
       "      <td>985</td>\n",
       "      <td>0</td>\n",
       "    </tr>\n",
       "    <tr>\n",
       "      <th>74</th>\n",
       "      <td>11.96</td>\n",
       "      <td>1.09</td>\n",
       "      <td>2.30</td>\n",
       "      <td>21.0</td>\n",
       "      <td>101</td>\n",
       "      <td>3.38</td>\n",
       "      <td>2.14</td>\n",
       "      <td>0.13</td>\n",
       "      <td>1.65</td>\n",
       "      <td>3.21</td>\n",
       "      <td>0.990</td>\n",
       "      <td>3.13</td>\n",
       "      <td>886</td>\n",
       "      <td>0</td>\n",
       "    </tr>\n",
       "  </tbody>\n",
       "</table>\n",
       "<p>75 rows × 14 columns</p>\n",
       "</div>"
      ],
      "text/plain": [
       "    Alcohol  Malic_Acid   Ash  Ash_Alcanity  Magnesium  Total_Phenols  \\\n",
       "0     14.23        1.71  2.43          15.6        127           2.80   \n",
       "1     13.20        1.78  2.14          11.2        100           2.65   \n",
       "2     13.16        2.36  2.67          18.6        101           2.80   \n",
       "3     14.37        1.95  2.50          16.8        113           3.85   \n",
       "4     13.24        2.59  2.87          21.0        118           2.80   \n",
       "..      ...         ...   ...           ...        ...            ...   \n",
       "70    12.29        1.61  2.21          20.4        103           1.10   \n",
       "71    13.86        1.51  2.67          25.0         86           2.95   \n",
       "72    13.49        1.66  2.24          24.0         87           1.88   \n",
       "73    12.99        1.67  2.60          30.0        139           3.30   \n",
       "74    11.96        1.09  2.30          21.0        101           3.38   \n",
       "\n",
       "    Flavanoids  Nonflavanoid_Phenols  Proanthocyanins  Color_Intensity    Hue  \\\n",
       "0         3.06                  0.28             2.29             5.64  1.040   \n",
       "1         2.76                  0.26             1.28             4.38  1.050   \n",
       "2         3.24                  0.30             2.81             5.68  1.030   \n",
       "3         3.49                  0.24             2.18             7.80  0.860   \n",
       "4         2.69                  0.39             1.82             4.32  1.040   \n",
       "..         ...                   ...              ...              ...    ...   \n",
       "70        1.02                  0.37             1.46             3.05  0.906   \n",
       "71        2.86                  0.21             1.87             3.38  1.360   \n",
       "72        1.84                  0.27             1.03             3.74  0.980   \n",
       "73        2.89                  0.21             1.96             3.35  1.310   \n",
       "74        2.14                  0.13             1.65             3.21  0.990   \n",
       "\n",
       "    OD280  Proline Customer_Segment  \n",
       "0    3.92     1065                1  \n",
       "1    3.40     1050                1  \n",
       "2    3.17     1185                1  \n",
       "3    3.45     1480                1  \n",
       "4    2.93      735                1  \n",
       "..    ...      ...              ...  \n",
       "70   1.82      870                0  \n",
       "71   3.16      410                0  \n",
       "72   2.78      472                0  \n",
       "73   3.50      985                0  \n",
       "74   3.13      886                0  \n",
       "\n",
       "[75 rows x 14 columns]"
      ]
     },
     "execution_count": 31,
     "metadata": {},
     "output_type": "execute_result"
    }
   ],
   "source": [
    "df3=df2.copy()\n",
    "df3['Customer_Segment'].replace({1:1},inplace=True)\n",
    "df3['Customer_Segment'].replace({2:0},inplace=True)\n",
    "df3['Customer_Segment'].replace({3:2},inplace=True)\n",
    "df3.head(75)"
   ]
  },
  {
   "cell_type": "markdown",
   "id": "417acacc",
   "metadata": {},
   "source": [
    "#### Splitting the data into dependent(y) and independent(x):"
   ]
  },
  {
   "cell_type": "code",
   "execution_count": 32,
   "id": "093f3d68",
   "metadata": {},
   "outputs": [],
   "source": [
    "x=df2.drop('Customer_Segment',axis=1)\n",
    "y=df2.iloc[:,-1]"
   ]
  },
  {
   "cell_type": "code",
   "execution_count": 33,
   "id": "d9bbba49",
   "metadata": {},
   "outputs": [
    {
     "data": {
      "text/html": [
       "<div>\n",
       "<style scoped>\n",
       "    .dataframe tbody tr th:only-of-type {\n",
       "        vertical-align: middle;\n",
       "    }\n",
       "\n",
       "    .dataframe tbody tr th {\n",
       "        vertical-align: top;\n",
       "    }\n",
       "\n",
       "    .dataframe thead th {\n",
       "        text-align: right;\n",
       "    }\n",
       "</style>\n",
       "<table border=\"1\" class=\"dataframe\">\n",
       "  <thead>\n",
       "    <tr style=\"text-align: right;\">\n",
       "      <th></th>\n",
       "      <th>Alcohol</th>\n",
       "      <th>Malic_Acid</th>\n",
       "      <th>Ash</th>\n",
       "      <th>Ash_Alcanity</th>\n",
       "      <th>Magnesium</th>\n",
       "      <th>Total_Phenols</th>\n",
       "      <th>Flavanoids</th>\n",
       "      <th>Nonflavanoid_Phenols</th>\n",
       "      <th>Proanthocyanins</th>\n",
       "      <th>Color_Intensity</th>\n",
       "      <th>Hue</th>\n",
       "      <th>OD280</th>\n",
       "      <th>Proline</th>\n",
       "    </tr>\n",
       "  </thead>\n",
       "  <tbody>\n",
       "    <tr>\n",
       "      <th>0</th>\n",
       "      <td>14.23</td>\n",
       "      <td>1.71</td>\n",
       "      <td>2.43</td>\n",
       "      <td>15.6</td>\n",
       "      <td>127</td>\n",
       "      <td>2.80</td>\n",
       "      <td>3.06</td>\n",
       "      <td>0.28</td>\n",
       "      <td>2.29</td>\n",
       "      <td>5.64</td>\n",
       "      <td>1.04</td>\n",
       "      <td>3.92</td>\n",
       "      <td>1065</td>\n",
       "    </tr>\n",
       "    <tr>\n",
       "      <th>1</th>\n",
       "      <td>13.20</td>\n",
       "      <td>1.78</td>\n",
       "      <td>2.14</td>\n",
       "      <td>11.2</td>\n",
       "      <td>100</td>\n",
       "      <td>2.65</td>\n",
       "      <td>2.76</td>\n",
       "      <td>0.26</td>\n",
       "      <td>1.28</td>\n",
       "      <td>4.38</td>\n",
       "      <td>1.05</td>\n",
       "      <td>3.40</td>\n",
       "      <td>1050</td>\n",
       "    </tr>\n",
       "    <tr>\n",
       "      <th>2</th>\n",
       "      <td>13.16</td>\n",
       "      <td>2.36</td>\n",
       "      <td>2.67</td>\n",
       "      <td>18.6</td>\n",
       "      <td>101</td>\n",
       "      <td>2.80</td>\n",
       "      <td>3.24</td>\n",
       "      <td>0.30</td>\n",
       "      <td>2.81</td>\n",
       "      <td>5.68</td>\n",
       "      <td>1.03</td>\n",
       "      <td>3.17</td>\n",
       "      <td>1185</td>\n",
       "    </tr>\n",
       "    <tr>\n",
       "      <th>3</th>\n",
       "      <td>14.37</td>\n",
       "      <td>1.95</td>\n",
       "      <td>2.50</td>\n",
       "      <td>16.8</td>\n",
       "      <td>113</td>\n",
       "      <td>3.85</td>\n",
       "      <td>3.49</td>\n",
       "      <td>0.24</td>\n",
       "      <td>2.18</td>\n",
       "      <td>7.80</td>\n",
       "      <td>0.86</td>\n",
       "      <td>3.45</td>\n",
       "      <td>1480</td>\n",
       "    </tr>\n",
       "    <tr>\n",
       "      <th>4</th>\n",
       "      <td>13.24</td>\n",
       "      <td>2.59</td>\n",
       "      <td>2.87</td>\n",
       "      <td>21.0</td>\n",
       "      <td>118</td>\n",
       "      <td>2.80</td>\n",
       "      <td>2.69</td>\n",
       "      <td>0.39</td>\n",
       "      <td>1.82</td>\n",
       "      <td>4.32</td>\n",
       "      <td>1.04</td>\n",
       "      <td>2.93</td>\n",
       "      <td>735</td>\n",
       "    </tr>\n",
       "  </tbody>\n",
       "</table>\n",
       "</div>"
      ],
      "text/plain": [
       "   Alcohol  Malic_Acid   Ash  Ash_Alcanity  Magnesium  Total_Phenols  \\\n",
       "0    14.23        1.71  2.43          15.6        127           2.80   \n",
       "1    13.20        1.78  2.14          11.2        100           2.65   \n",
       "2    13.16        2.36  2.67          18.6        101           2.80   \n",
       "3    14.37        1.95  2.50          16.8        113           3.85   \n",
       "4    13.24        2.59  2.87          21.0        118           2.80   \n",
       "\n",
       "   Flavanoids  Nonflavanoid_Phenols  Proanthocyanins  Color_Intensity   Hue  \\\n",
       "0        3.06                  0.28             2.29             5.64  1.04   \n",
       "1        2.76                  0.26             1.28             4.38  1.05   \n",
       "2        3.24                  0.30             2.81             5.68  1.03   \n",
       "3        3.49                  0.24             2.18             7.80  0.86   \n",
       "4        2.69                  0.39             1.82             4.32  1.04   \n",
       "\n",
       "   OD280  Proline  \n",
       "0   3.92     1065  \n",
       "1   3.40     1050  \n",
       "2   3.17     1185  \n",
       "3   3.45     1480  \n",
       "4   2.93      735  "
      ]
     },
     "execution_count": 33,
     "metadata": {},
     "output_type": "execute_result"
    }
   ],
   "source": [
    "x.head()"
   ]
  },
  {
   "cell_type": "code",
   "execution_count": 34,
   "id": "56a82353",
   "metadata": {},
   "outputs": [
    {
     "data": {
      "text/plain": [
       "0    1\n",
       "1    1\n",
       "2    1\n",
       "3    1\n",
       "4    1\n",
       "Name: Customer_Segment, dtype: category\n",
       "Categories (3, int64): [1, 2, 3]"
      ]
     },
     "execution_count": 34,
     "metadata": {},
     "output_type": "execute_result"
    }
   ],
   "source": [
    "y.head()"
   ]
  },
  {
   "cell_type": "markdown",
   "id": "56d06565",
   "metadata": {},
   "source": [
    "#### Splitting the data to train and test:"
   ]
  },
  {
   "cell_type": "code",
   "execution_count": 35,
   "id": "6fba4229",
   "metadata": {},
   "outputs": [],
   "source": [
    "xtrain,xtest,ytrain,ytest = train_test_split(x,y,test_size=0.2,random_state=42,stratify=y)"
   ]
  },
  {
   "cell_type": "code",
   "execution_count": 36,
   "id": "35f086c3",
   "metadata": {},
   "outputs": [
    {
     "name": "stdout",
     "output_type": "stream",
     "text": [
      "Shape of train data:\n",
      "\n",
      "Shape of X train: (142, 13)\n",
      "Shape of Y train: (142,)\n",
      "\n",
      "Shape of test data:\n",
      "\n",
      "Shape of X test: (36, 13)\n",
      "Shape of Y test: (36,)\n"
     ]
    }
   ],
   "source": [
    "print(\"Shape of train data:\")\n",
    "print(\"\\nShape of X train:\",xtrain.shape)\n",
    "print(\"Shape of Y train:\",ytrain.shape)\n",
    "print(\"\\nShape of test data:\")\n",
    "print(\"\\nShape of X test:\",xtest.shape)\n",
    "print(\"Shape of Y test:\",ytest.shape)"
   ]
  },
  {
   "cell_type": "markdown",
   "id": "0f9a7cad",
   "metadata": {},
   "source": [
    "#### Performing MinMaxScaling on the data:"
   ]
  },
  {
   "cell_type": "code",
   "execution_count": 37,
   "id": "3e6899a2",
   "metadata": {},
   "outputs": [],
   "source": [
    "scaler=MinMaxScaler()\n",
    "xtrain=scaler.fit_transform(xtrain)\n",
    "xtest=scaler.transform(xtest)"
   ]
  },
  {
   "cell_type": "code",
   "execution_count": 38,
   "id": "0400319d",
   "metadata": {},
   "outputs": [
    {
     "data": {
      "text/plain": [
       "array([[0.59210526, 0.17786561, 0.79569892, ..., 0.49593496, 0.56981132,\n",
       "        0.48666128],\n",
       "       [0.71052632, 0.15019763, 0.72043011, ..., 0.57723577, 0.54339623,\n",
       "        0.81406629],\n",
       "       [0.62105263, 0.20355731, 0.67741935, ..., 0.35772358, 0.73584906,\n",
       "        0.74130962],\n",
       "       ...,\n",
       "       [0.65263158, 0.20948617, 0.69354839, ..., 0.50406504, 0.60377358,\n",
       "        0.66046888],\n",
       "       [0.50789474, 0.53557312, 0.53225806, ..., 0.16260163, 0.18113208,\n",
       "        0.32093775],\n",
       "       [0.48684211, 0.44466403, 0.55913978, ..., 0.21138211, 0.05660377,\n",
       "        0.20371867]])"
      ]
     },
     "execution_count": 38,
     "metadata": {},
     "output_type": "execute_result"
    }
   ],
   "source": [
    "xtrain"
   ]
  },
  {
   "cell_type": "code",
   "execution_count": 39,
   "id": "edda09ad",
   "metadata": {},
   "outputs": [
    {
     "data": {
      "text/plain": [
       "array([[ 0.80789474,  0.28063241,  0.50537634,  0.3814433 ,  0.38043478,\n",
       "         0.67931034,  0.87647059,  0.18      ,  0.62025316,  0.38139932,\n",
       "         0.62601626,  0.71698113,  0.99595796],\n",
       "       [ 0.38947368,  0.09881423,  0.47849462,  0.3556701 ,  0.16304348,\n",
       "         0.35172414,  0.07058824,  0.94      ,  0.26265823,  0.35580205,\n",
       "         0.2195122 ,  0.09056604,  0.30072757],\n",
       "       [ 0.74736842,  0.22924901,  0.77419355,  0.45360825,  0.40217391,\n",
       "         0.67931034,  0.77352941,  0.48      ,  0.42405063,  0.27474403,\n",
       "         0.62601626,  0.80377358,  0.51495554],\n",
       "       [ 0.13947368,  0.25889328,  1.00537634,  0.92268041,  0.5326087 ,\n",
       "         0.75862069,  1.39411765,  0.68      ,  0.45886076,  0.40273038,\n",
       "         0.36585366,  0.91320755,  0.15117219],\n",
       "       [ 0.69473684,  0.10079051,  0.30107527,  0.3814433 ,  0.26086957,\n",
       "         0.3862069 ,  0.42647059,  0.38      ,  0.09810127,  0.21501706,\n",
       "         0.6097561 ,  0.4490566 ,  0.28455942],\n",
       "       [ 0.73684211,  0.1798419 ,  0.66666667,  0.34020619,  0.26086957,\n",
       "         0.50689655,  0.77941176,  0.18      ,  0.59177215,  0.36860068,\n",
       "         0.61788618,  0.79245283,  0.79789814],\n",
       "       [ 0.79736842,  0.27865613,  0.67204301,  0.36082474,  0.55434783,\n",
       "         0.55862069,  0.63823529,  0.36      ,  0.26265823,  0.32167235,\n",
       "         0.47154472,  0.87169811,  0.82215036],\n",
       "       [ 0.54736842,  0.05335968,  0.1827957 ,  0.22680412,  0.08695652,\n",
       "         0.68965517,  0.83529412,  0.26      ,  0.58860759,  0.34300341,\n",
       "         0.5203252 ,  0.72075472,  0.18108327],\n",
       "       [ 0.26578947,  0.70355731,  0.5483871 ,  0.58762887,  0.10869565,\n",
       "         0.3862069 ,  0.41470588,  0.58      ,  0.2943038 ,  0.11262799,\n",
       "         0.25203252,  0.49056604,  0.24413905],\n",
       "       [ 0.63684211,  0.58498024,  0.66666667,  0.63917526,  0.44565217,\n",
       "         0.24827586,  0.17058824,  0.6       ,  0.32911392,  0.80204778,\n",
       "         0.30081301,  0.10943396,  0.3371059 ],\n",
       "       [ 0.34473684,  0.33794466,  0.59139785,  0.53608247,  0.30434783,\n",
       "         0.54482759,  0.52058824,  0.42      ,  0.28164557,  0.12969283,\n",
       "         0.2601626 ,  0.79622642,  0.12934519],\n",
       "       [ 0.68157895,  0.83201581,  0.53225806,  0.48453608,  0.23913043,\n",
       "         0.35172414,  0.13529412,  0.68      ,  0.18987342,  0.2662116 ,\n",
       "         0.3495935 ,  0.29433962,  0.21988682],\n",
       "       [ 0.75      ,  0.22727273,  0.66129032,  0.22680412,  0.33695652,\n",
       "         0.78275862,  0.94705882,  0.08      ,  0.40506329,  0.35409556,\n",
       "         0.32520325,  0.86415094,  0.66046888],\n",
       "       [ 0.48157895,  0.12055336,  0.51612903,  0.3814433 ,  0.56521739,\n",
       "         0.18275862,  0.26764706,  0.16      ,  0.16455696,  0.24061433,\n",
       "         0.22764228,  0.00754717,  0.28455942],\n",
       "       [ 0.88157895,  0.22332016,  0.5483871 ,  0.07216495,  0.34782609,\n",
       "         0.8       ,  0.97058824,  0.32      ,  0.80379747,  0.53071672,\n",
       "         0.58536585,  0.65283019,  1.02586904],\n",
       "       [ 0.31315789,  0.10869565,  0.31182796,  0.43298969,  0.23913043,\n",
       "         0.47586207,  0.5       ,  0.52      ,  0.52531646,  0.12116041,\n",
       "         0.30894309,  0.66037736,  0.02748585],\n",
       "       [ 0.36578947,  0.35770751,  0.48924731,  0.58762887,  0.2173913 ,\n",
       "         0.24137931,  0.44117647,  1.06      ,  0.3164557 ,  0.12116041,\n",
       "         0.30894309,  0.76603774,  0.02991108],\n",
       "       [ 0.79736842,  0.17588933,  0.49462366,  0.27835052,  0.60869565,\n",
       "         0.69655172,  0.83235294,  0.22      ,  0.53164557,  0.37286689,\n",
       "         0.49593496,  0.92075472,  0.40582053],\n",
       "       [ 0.27631579,  0.26482213,  0.1827957 ,  0.3556701 ,  0.29347826,\n",
       "         0.43103448,  0.53823529,  0.26      ,  0.31012658,  0.17235495,\n",
       "         0.64227642,  0.63773585,  0.34923201],\n",
       "       [ 0.53684211,  0.15019763,  0.39784946,  0.25257732,  0.30434783,\n",
       "         0.48965517,  0.67647059,  0.3       ,  0.30063291,  0.20648464,\n",
       "         0.56910569,  0.53584906,  0.59983832],\n",
       "       [ 0.33157895,  0.41304348,  0.46236559,  0.3814433 ,  0.19565217,\n",
       "         0.50689655,  0.56176471,  0.24      ,  0.49683544,  0.07423208,\n",
       "         0.54471545,  0.76603774,  0.00970089],\n",
       "       [ 0.34210526,  0.07114625,  0.49462366,  0.27835052,  0.33695652,\n",
       "         0.36896552,  0.22058824,  1.        , -0.00316456,  0.16979522,\n",
       "         0.62601626,  0.1509434 ,  0.32497979],\n",
       "       [ 0.70526316,  0.22134387,  0.53763441,  0.30927835,  0.33695652,\n",
       "         0.56206897,  0.74705882,  0.28      ,  0.40189873,  0.21501706,\n",
       "         0.51219512,  1.03018868,  0.61196443],\n",
       "       [ 0.83157895,  0.16798419,  0.60215054,  0.30412371,  0.41304348,\n",
       "         0.8       ,  1.05588235,  0.38      ,  0.4556962 ,  0.6331058 ,\n",
       "         0.6097561 ,  0.58490566,  1.13338723],\n",
       "       [ 0.35263158,  0.06521739,  0.39784946,  0.40721649,  0.19565217,\n",
       "         0.87586207,  1.00294118,  0.22      ,  0.48417722,  0.27474403,\n",
       "         0.45528455,  0.56603774,  0.30881164],\n",
       "       [ 0.3       ,  0.14031621,  0.62903226,  0.43298969,  0.36956522,\n",
       "         0.3137931 ,  0.41470588,  0.64      ,  0.19303797,  0.14249147,\n",
       "         0.78861789,  0.36226415,  0.06224737],\n",
       "       [ 0.70789474,  0.13636364,  0.61290323,  0.31443299,  0.41304348,\n",
       "         0.83448276,  0.97941176,  0.12      ,  0.51265823,  0.47098976,\n",
       "         0.33333333,  0.60377358,  0.81406629],\n",
       "       [ 0.46842105,  0.31027668,  0.55913978,  0.69072165,  0.30434783,\n",
       "         0.05862069,  0.22058824,  0.28      ,  0.12974684,  0.37713311,\n",
       "         0.14634146,  0.03396226,  0.2279709 ],\n",
       "       [ 0.19210526,  0.38339921,  0.83870968,  0.48453608,  0.35869565,\n",
       "         0.26551724,  0.49705882,  0.94      ,  0.19936709,  0.21501706,\n",
       "         0.6097561 ,  0.46415094,  0.26596605],\n",
       "       [ 0.56315789,  0.87944664,  0.51612903,  0.58762887,  0.25      ,\n",
       "         0.26206897,  0.08529412,  0.96      ,  0.35759494,  0.56484642,\n",
       "         0.09756098,  0.07924528,  0.36135812],\n",
       "       [ 0.80789474,  0.25296443,  0.55913978,  0.42268041,  0.35869565,\n",
       "         0.61034483,  0.75882353,  0.38      ,  0.62025316,  0.41979522,\n",
       "         0.4796748 ,  0.55849057,  0.63217462],\n",
       "       [ 0.56315789,  0.36561265,  0.54301075,  0.48453608,  0.54347826,\n",
       "         0.23103448,  0.1       ,  0.8       ,  0.32911392,  0.68430034,\n",
       "         0.09756098,  0.13207547,  0.45432498],\n",
       "       [ 0.15526316,  0.24703557,  0.49462366,  0.3814433 ,  0.30434783,\n",
       "         0.70344828,  0.56470588,  0.08      ,  0.2943038 ,  0.16808874,\n",
       "         0.55284553,  0.63773585,  0.0541633 ],\n",
       "       [ 0.81578947,  0.66403162,  0.74193548,  0.71649485,  0.2826087 ,\n",
       "         0.36896552,  0.12352941,  0.86      ,  0.2943038 ,  0.67576792,\n",
       "         0.10569106,  0.1245283 ,  0.2279709 ],\n",
       "       [ 0.72368421,  0.39920949,  0.50537634,  0.58762887,  0.2173913 ,\n",
       "         0.12758621,  0.1       ,  0.56      ,  0.19303797,  0.70819113,\n",
       "         0.17886179,  0.15471698,  0.27243331],\n",
       "       [ 0.70526316,  0.97035573,  0.58602151,  0.51030928,  0.27173913,\n",
       "         0.24137931,  0.07941176,  0.78      ,  0.20253165,  0.54778157,\n",
       "         0.1300813 ,  0.17735849,  0.37348424]])"
      ]
     },
     "execution_count": 39,
     "metadata": {},
     "output_type": "execute_result"
    }
   ],
   "source": [
    "xtest"
   ]
  },
  {
   "cell_type": "markdown",
   "id": "915201c4",
   "metadata": {},
   "source": [
    "#### LOGISTIC REGRESSION:"
   ]
  },
  {
   "cell_type": "markdown",
   "id": "eb44e7ef",
   "metadata": {},
   "source": [
    "#### Multi collinearity check using Variance Inflation Factor(VIF):"
   ]
  },
  {
   "cell_type": "code",
   "execution_count": 40,
   "id": "8c24d928",
   "metadata": {},
   "outputs": [
    {
     "data": {
      "text/html": [
       "<div>\n",
       "<style scoped>\n",
       "    .dataframe tbody tr th:only-of-type {\n",
       "        vertical-align: middle;\n",
       "    }\n",
       "\n",
       "    .dataframe tbody tr th {\n",
       "        vertical-align: top;\n",
       "    }\n",
       "\n",
       "    .dataframe thead th {\n",
       "        text-align: right;\n",
       "    }\n",
       "</style>\n",
       "<table border=\"1\" class=\"dataframe\">\n",
       "  <thead>\n",
       "    <tr style=\"text-align: right;\">\n",
       "      <th></th>\n",
       "      <th>Alcohol</th>\n",
       "      <th>Malic_Acid</th>\n",
       "      <th>Ash</th>\n",
       "      <th>Ash_Alcanity</th>\n",
       "      <th>Magnesium</th>\n",
       "      <th>Total_Phenols</th>\n",
       "      <th>Flavanoids</th>\n",
       "      <th>Nonflavanoid_Phenols</th>\n",
       "      <th>Proanthocyanins</th>\n",
       "      <th>Color_Intensity</th>\n",
       "      <th>Hue</th>\n",
       "      <th>OD280</th>\n",
       "      <th>Proline</th>\n",
       "    </tr>\n",
       "  </thead>\n",
       "  <tbody>\n",
       "    <tr>\n",
       "      <th>Alcohol</th>\n",
       "      <td>1.000000</td>\n",
       "      <td>0.094397</td>\n",
       "      <td>0.211545</td>\n",
       "      <td>-0.310235</td>\n",
       "      <td>0.270798</td>\n",
       "      <td>0.289101</td>\n",
       "      <td>0.236815</td>\n",
       "      <td>-0.155929</td>\n",
       "      <td>0.136698</td>\n",
       "      <td>0.546364</td>\n",
       "      <td>-0.071747</td>\n",
       "      <td>0.072343</td>\n",
       "      <td>0.643720</td>\n",
       "    </tr>\n",
       "    <tr>\n",
       "      <th>Malic_Acid</th>\n",
       "      <td>0.094397</td>\n",
       "      <td>1.000000</td>\n",
       "      <td>0.164045</td>\n",
       "      <td>0.288500</td>\n",
       "      <td>-0.054575</td>\n",
       "      <td>-0.335167</td>\n",
       "      <td>-0.411007</td>\n",
       "      <td>0.292977</td>\n",
       "      <td>-0.220746</td>\n",
       "      <td>0.248985</td>\n",
       "      <td>-0.561296</td>\n",
       "      <td>-0.368710</td>\n",
       "      <td>-0.192011</td>\n",
       "    </tr>\n",
       "    <tr>\n",
       "      <th>Ash</th>\n",
       "      <td>0.211545</td>\n",
       "      <td>0.164045</td>\n",
       "      <td>1.000000</td>\n",
       "      <td>0.443367</td>\n",
       "      <td>0.286587</td>\n",
       "      <td>0.128980</td>\n",
       "      <td>0.115077</td>\n",
       "      <td>0.186230</td>\n",
       "      <td>0.009652</td>\n",
       "      <td>0.258887</td>\n",
       "      <td>-0.074667</td>\n",
       "      <td>0.003911</td>\n",
       "      <td>0.223626</td>\n",
       "    </tr>\n",
       "    <tr>\n",
       "      <th>Ash_Alcanity</th>\n",
       "      <td>-0.310235</td>\n",
       "      <td>0.288500</td>\n",
       "      <td>0.443367</td>\n",
       "      <td>1.000000</td>\n",
       "      <td>-0.083333</td>\n",
       "      <td>-0.321113</td>\n",
       "      <td>-0.351370</td>\n",
       "      <td>0.361922</td>\n",
       "      <td>-0.197327</td>\n",
       "      <td>0.018732</td>\n",
       "      <td>-0.273955</td>\n",
       "      <td>-0.276769</td>\n",
       "      <td>-0.440597</td>\n",
       "    </tr>\n",
       "    <tr>\n",
       "      <th>Magnesium</th>\n",
       "      <td>0.270798</td>\n",
       "      <td>-0.054575</td>\n",
       "      <td>0.286587</td>\n",
       "      <td>-0.083333</td>\n",
       "      <td>1.000000</td>\n",
       "      <td>0.214401</td>\n",
       "      <td>0.195784</td>\n",
       "      <td>-0.256294</td>\n",
       "      <td>0.236441</td>\n",
       "      <td>0.199950</td>\n",
       "      <td>0.055398</td>\n",
       "      <td>0.066004</td>\n",
       "      <td>0.393351</td>\n",
       "    </tr>\n",
       "    <tr>\n",
       "      <th>Total_Phenols</th>\n",
       "      <td>0.289101</td>\n",
       "      <td>-0.335167</td>\n",
       "      <td>0.128980</td>\n",
       "      <td>-0.321113</td>\n",
       "      <td>0.214401</td>\n",
       "      <td>1.000000</td>\n",
       "      <td>0.864564</td>\n",
       "      <td>-0.449935</td>\n",
       "      <td>0.612413</td>\n",
       "      <td>-0.055136</td>\n",
       "      <td>0.433681</td>\n",
       "      <td>0.699949</td>\n",
       "      <td>0.498115</td>\n",
       "    </tr>\n",
       "    <tr>\n",
       "      <th>Flavanoids</th>\n",
       "      <td>0.236815</td>\n",
       "      <td>-0.411007</td>\n",
       "      <td>0.115077</td>\n",
       "      <td>-0.351370</td>\n",
       "      <td>0.195784</td>\n",
       "      <td>0.864564</td>\n",
       "      <td>1.000000</td>\n",
       "      <td>-0.537900</td>\n",
       "      <td>0.652692</td>\n",
       "      <td>-0.172379</td>\n",
       "      <td>0.543479</td>\n",
       "      <td>0.787194</td>\n",
       "      <td>0.494193</td>\n",
       "    </tr>\n",
       "    <tr>\n",
       "      <th>Nonflavanoid_Phenols</th>\n",
       "      <td>-0.155929</td>\n",
       "      <td>0.292977</td>\n",
       "      <td>0.186230</td>\n",
       "      <td>0.361922</td>\n",
       "      <td>-0.256294</td>\n",
       "      <td>-0.449935</td>\n",
       "      <td>-0.537900</td>\n",
       "      <td>1.000000</td>\n",
       "      <td>-0.365845</td>\n",
       "      <td>0.139057</td>\n",
       "      <td>-0.262640</td>\n",
       "      <td>-0.503270</td>\n",
       "      <td>-0.311385</td>\n",
       "    </tr>\n",
       "    <tr>\n",
       "      <th>Proanthocyanins</th>\n",
       "      <td>0.136698</td>\n",
       "      <td>-0.220746</td>\n",
       "      <td>0.009652</td>\n",
       "      <td>-0.197327</td>\n",
       "      <td>0.236441</td>\n",
       "      <td>0.612413</td>\n",
       "      <td>0.652692</td>\n",
       "      <td>-0.365845</td>\n",
       "      <td>1.000000</td>\n",
       "      <td>-0.025250</td>\n",
       "      <td>0.295544</td>\n",
       "      <td>0.519067</td>\n",
       "      <td>0.330417</td>\n",
       "    </tr>\n",
       "    <tr>\n",
       "      <th>Color_Intensity</th>\n",
       "      <td>0.546364</td>\n",
       "      <td>0.248985</td>\n",
       "      <td>0.258887</td>\n",
       "      <td>0.018732</td>\n",
       "      <td>0.199950</td>\n",
       "      <td>-0.055136</td>\n",
       "      <td>-0.172379</td>\n",
       "      <td>0.139057</td>\n",
       "      <td>-0.025250</td>\n",
       "      <td>1.000000</td>\n",
       "      <td>-0.521813</td>\n",
       "      <td>-0.428815</td>\n",
       "      <td>0.316100</td>\n",
       "    </tr>\n",
       "    <tr>\n",
       "      <th>Hue</th>\n",
       "      <td>-0.071747</td>\n",
       "      <td>-0.561296</td>\n",
       "      <td>-0.074667</td>\n",
       "      <td>-0.273955</td>\n",
       "      <td>0.055398</td>\n",
       "      <td>0.433681</td>\n",
       "      <td>0.543479</td>\n",
       "      <td>-0.262640</td>\n",
       "      <td>0.295544</td>\n",
       "      <td>-0.521813</td>\n",
       "      <td>1.000000</td>\n",
       "      <td>0.565468</td>\n",
       "      <td>0.236183</td>\n",
       "    </tr>\n",
       "    <tr>\n",
       "      <th>OD280</th>\n",
       "      <td>0.072343</td>\n",
       "      <td>-0.368710</td>\n",
       "      <td>0.003911</td>\n",
       "      <td>-0.276769</td>\n",
       "      <td>0.066004</td>\n",
       "      <td>0.699949</td>\n",
       "      <td>0.787194</td>\n",
       "      <td>-0.503270</td>\n",
       "      <td>0.519067</td>\n",
       "      <td>-0.428815</td>\n",
       "      <td>0.565468</td>\n",
       "      <td>1.000000</td>\n",
       "      <td>0.312761</td>\n",
       "    </tr>\n",
       "    <tr>\n",
       "      <th>Proline</th>\n",
       "      <td>0.643720</td>\n",
       "      <td>-0.192011</td>\n",
       "      <td>0.223626</td>\n",
       "      <td>-0.440597</td>\n",
       "      <td>0.393351</td>\n",
       "      <td>0.498115</td>\n",
       "      <td>0.494193</td>\n",
       "      <td>-0.311385</td>\n",
       "      <td>0.330417</td>\n",
       "      <td>0.316100</td>\n",
       "      <td>0.236183</td>\n",
       "      <td>0.312761</td>\n",
       "      <td>1.000000</td>\n",
       "    </tr>\n",
       "  </tbody>\n",
       "</table>\n",
       "</div>"
      ],
      "text/plain": [
       "                       Alcohol  Malic_Acid       Ash  Ash_Alcanity  Magnesium  \\\n",
       "Alcohol               1.000000    0.094397  0.211545     -0.310235   0.270798   \n",
       "Malic_Acid            0.094397    1.000000  0.164045      0.288500  -0.054575   \n",
       "Ash                   0.211545    0.164045  1.000000      0.443367   0.286587   \n",
       "Ash_Alcanity         -0.310235    0.288500  0.443367      1.000000  -0.083333   \n",
       "Magnesium             0.270798   -0.054575  0.286587     -0.083333   1.000000   \n",
       "Total_Phenols         0.289101   -0.335167  0.128980     -0.321113   0.214401   \n",
       "Flavanoids            0.236815   -0.411007  0.115077     -0.351370   0.195784   \n",
       "Nonflavanoid_Phenols -0.155929    0.292977  0.186230      0.361922  -0.256294   \n",
       "Proanthocyanins       0.136698   -0.220746  0.009652     -0.197327   0.236441   \n",
       "Color_Intensity       0.546364    0.248985  0.258887      0.018732   0.199950   \n",
       "Hue                  -0.071747   -0.561296 -0.074667     -0.273955   0.055398   \n",
       "OD280                 0.072343   -0.368710  0.003911     -0.276769   0.066004   \n",
       "Proline               0.643720   -0.192011  0.223626     -0.440597   0.393351   \n",
       "\n",
       "                      Total_Phenols  Flavanoids  Nonflavanoid_Phenols  \\\n",
       "Alcohol                    0.289101    0.236815             -0.155929   \n",
       "Malic_Acid                -0.335167   -0.411007              0.292977   \n",
       "Ash                        0.128980    0.115077              0.186230   \n",
       "Ash_Alcanity              -0.321113   -0.351370              0.361922   \n",
       "Magnesium                  0.214401    0.195784             -0.256294   \n",
       "Total_Phenols              1.000000    0.864564             -0.449935   \n",
       "Flavanoids                 0.864564    1.000000             -0.537900   \n",
       "Nonflavanoid_Phenols      -0.449935   -0.537900              1.000000   \n",
       "Proanthocyanins            0.612413    0.652692             -0.365845   \n",
       "Color_Intensity           -0.055136   -0.172379              0.139057   \n",
       "Hue                        0.433681    0.543479             -0.262640   \n",
       "OD280                      0.699949    0.787194             -0.503270   \n",
       "Proline                    0.498115    0.494193             -0.311385   \n",
       "\n",
       "                      Proanthocyanins  Color_Intensity       Hue     OD280  \\\n",
       "Alcohol                      0.136698         0.546364 -0.071747  0.072343   \n",
       "Malic_Acid                  -0.220746         0.248985 -0.561296 -0.368710   \n",
       "Ash                          0.009652         0.258887 -0.074667  0.003911   \n",
       "Ash_Alcanity                -0.197327         0.018732 -0.273955 -0.276769   \n",
       "Magnesium                    0.236441         0.199950  0.055398  0.066004   \n",
       "Total_Phenols                0.612413        -0.055136  0.433681  0.699949   \n",
       "Flavanoids                   0.652692        -0.172379  0.543479  0.787194   \n",
       "Nonflavanoid_Phenols        -0.365845         0.139057 -0.262640 -0.503270   \n",
       "Proanthocyanins              1.000000        -0.025250  0.295544  0.519067   \n",
       "Color_Intensity             -0.025250         1.000000 -0.521813 -0.428815   \n",
       "Hue                          0.295544        -0.521813  1.000000  0.565468   \n",
       "OD280                        0.519067        -0.428815  0.565468  1.000000   \n",
       "Proline                      0.330417         0.316100  0.236183  0.312761   \n",
       "\n",
       "                       Proline  \n",
       "Alcohol               0.643720  \n",
       "Malic_Acid           -0.192011  \n",
       "Ash                   0.223626  \n",
       "Ash_Alcanity         -0.440597  \n",
       "Magnesium             0.393351  \n",
       "Total_Phenols         0.498115  \n",
       "Flavanoids            0.494193  \n",
       "Nonflavanoid_Phenols -0.311385  \n",
       "Proanthocyanins       0.330417  \n",
       "Color_Intensity       0.316100  \n",
       "Hue                   0.236183  \n",
       "OD280                 0.312761  \n",
       "Proline               1.000000  "
      ]
     },
     "execution_count": 40,
     "metadata": {},
     "output_type": "execute_result"
    }
   ],
   "source": [
    "df3.corr()"
   ]
  },
  {
   "cell_type": "code",
   "execution_count": 41,
   "id": "43fdee0d",
   "metadata": {},
   "outputs": [],
   "source": [
    "vif = pd.DataFrame()\n",
    "vif['feature'] = numerical_features\n",
    "vif['VIF'] = [variance_inflation_factor(df2.iloc[:,0:-1].values,i) for i in range(len(df1.iloc[:,0:-1].columns))]"
   ]
  },
  {
   "cell_type": "code",
   "execution_count": 42,
   "id": "ce22483e",
   "metadata": {},
   "outputs": [
    {
     "data": {
      "text/html": [
       "<div>\n",
       "<style scoped>\n",
       "    .dataframe tbody tr th:only-of-type {\n",
       "        vertical-align: middle;\n",
       "    }\n",
       "\n",
       "    .dataframe tbody tr th {\n",
       "        vertical-align: top;\n",
       "    }\n",
       "\n",
       "    .dataframe thead th {\n",
       "        text-align: right;\n",
       "    }\n",
       "</style>\n",
       "<table border=\"1\" class=\"dataframe\">\n",
       "  <thead>\n",
       "    <tr style=\"text-align: right;\">\n",
       "      <th></th>\n",
       "      <th>feature</th>\n",
       "      <th>VIF</th>\n",
       "    </tr>\n",
       "  </thead>\n",
       "  <tbody>\n",
       "    <tr>\n",
       "      <th>0</th>\n",
       "      <td>Alcohol</td>\n",
       "      <td>206.189057</td>\n",
       "    </tr>\n",
       "    <tr>\n",
       "      <th>1</th>\n",
       "      <td>Malic_Acid</td>\n",
       "      <td>8.925541</td>\n",
       "    </tr>\n",
       "    <tr>\n",
       "      <th>2</th>\n",
       "      <td>Ash</td>\n",
       "      <td>165.640370</td>\n",
       "    </tr>\n",
       "    <tr>\n",
       "      <th>3</th>\n",
       "      <td>Ash_Alcanity</td>\n",
       "      <td>73.141564</td>\n",
       "    </tr>\n",
       "    <tr>\n",
       "      <th>4</th>\n",
       "      <td>Magnesium</td>\n",
       "      <td>67.364868</td>\n",
       "    </tr>\n",
       "    <tr>\n",
       "      <th>5</th>\n",
       "      <td>Total_Phenols</td>\n",
       "      <td>62.786935</td>\n",
       "    </tr>\n",
       "    <tr>\n",
       "      <th>6</th>\n",
       "      <td>Flavanoids</td>\n",
       "      <td>35.535602</td>\n",
       "    </tr>\n",
       "    <tr>\n",
       "      <th>7</th>\n",
       "      <td>Nonflavanoid_Phenols</td>\n",
       "      <td>16.636708</td>\n",
       "    </tr>\n",
       "    <tr>\n",
       "      <th>8</th>\n",
       "      <td>Proanthocyanins</td>\n",
       "      <td>17.115665</td>\n",
       "    </tr>\n",
       "    <tr>\n",
       "      <th>9</th>\n",
       "      <td>Color_Intensity</td>\n",
       "      <td>17.022272</td>\n",
       "    </tr>\n",
       "    <tr>\n",
       "      <th>10</th>\n",
       "      <td>Hue</td>\n",
       "      <td>45.398407</td>\n",
       "    </tr>\n",
       "    <tr>\n",
       "      <th>11</th>\n",
       "      <td>OD280</td>\n",
       "      <td>54.539165</td>\n",
       "    </tr>\n",
       "    <tr>\n",
       "      <th>12</th>\n",
       "      <td>Proline</td>\n",
       "      <td>16.370828</td>\n",
       "    </tr>\n",
       "  </tbody>\n",
       "</table>\n",
       "</div>"
      ],
      "text/plain": [
       "                 feature         VIF\n",
       "0                Alcohol  206.189057\n",
       "1             Malic_Acid    8.925541\n",
       "2                    Ash  165.640370\n",
       "3           Ash_Alcanity   73.141564\n",
       "4              Magnesium   67.364868\n",
       "5          Total_Phenols   62.786935\n",
       "6             Flavanoids   35.535602\n",
       "7   Nonflavanoid_Phenols   16.636708\n",
       "8        Proanthocyanins   17.115665\n",
       "9        Color_Intensity   17.022272\n",
       "10                   Hue   45.398407\n",
       "11                 OD280   54.539165\n",
       "12               Proline   16.370828"
      ]
     },
     "execution_count": 42,
     "metadata": {},
     "output_type": "execute_result"
    }
   ],
   "source": [
    "vif"
   ]
  },
  {
   "cell_type": "markdown",
   "id": "c847db3e",
   "metadata": {},
   "source": [
    "Alcohol is most affected by other features whereas Malic_Acid is least affected by other features."
   ]
  },
  {
   "cell_type": "code",
   "execution_count": 43,
   "id": "86e1fcee",
   "metadata": {},
   "outputs": [
    {
     "data": {
      "text/plain": [
       "LogisticRegression(random_state=42)"
      ]
     },
     "execution_count": 43,
     "metadata": {},
     "output_type": "execute_result"
    }
   ],
   "source": [
    "lom=LogisticRegression(random_state=42)\n",
    "lom.fit(xtrain,ytrain)"
   ]
  },
  {
   "cell_type": "code",
   "execution_count": 44,
   "id": "dcbbfd39",
   "metadata": {},
   "outputs": [
    {
     "name": "stdout",
     "output_type": "stream",
     "text": [
      "Intercept value: [-3.19526576  2.69958053  0.49568523]\n",
      "\n",
      "Co-efficients value:\n",
      " [[ 1.44414339e+00  4.83873964e-02  6.11902308e-01 -1.14199587e+00\n",
      "   2.51546457e-01  7.79465799e-01  1.59549641e+00 -4.17187401e-01\n",
      "   1.12710049e-01  3.90746561e-01  2.97469577e-01  1.23261681e+00\n",
      "   2.03801352e+00]\n",
      " [-1.86389714e+00 -1.00772417e+00 -1.09387172e+00  5.70920096e-01\n",
      "  -3.98469818e-01 -4.74255245e-02  2.48429719e-01  1.87506152e-03\n",
      "   5.37691240e-01 -1.85029430e+00  9.30926327e-01  3.47010239e-01\n",
      "  -1.90709526e+00]\n",
      " [ 4.19753755e-01  9.59336771e-01  4.81969410e-01  5.71075772e-01\n",
      "   1.46923361e-01 -7.32040275e-01 -1.84392613e+00  4.15312339e-01\n",
      "  -6.50401289e-01  1.45954774e+00 -1.22839590e+00 -1.57962704e+00\n",
      "  -1.30918260e-01]]\n"
     ]
    }
   ],
   "source": [
    "print(\"Intercept value:\",lom.intercept_)\n",
    "print(\"\\nCo-efficients value:\\n\",lom.coef_)"
   ]
  },
  {
   "cell_type": "code",
   "execution_count": 45,
   "id": "7d641fd2",
   "metadata": {},
   "outputs": [
    {
     "name": "stdout",
     "output_type": "stream",
     "text": [
      "Y Train predicted:\n",
      " [1 1 1 1 3 3 2 3 1 1 2 2 1 1 3 2 2 2 1 1 2 3 1 3 3 1 1 2 2 1 1 1 1 1 2 3 1\n",
      " 2 1 2 1 2 3 2 2 2 1 1 3 1 1 3 2 2 3 2 2 2 2 1 2 2 1 1 1 1 1 2 2 2 3 3 1 1\n",
      " 3 2 2 2 2 3 1 3 1 3 2 3 3 2 1 1 2 2 2 1 1 1 3 2 2 2 3 2 1 2 1 2 3 1 1 2 3\n",
      " 3 2 2 2 3 3 3 3 2 2 3 2 3 3 1 1 3 1 2 3 3 2 3 2 2 2 3 2 1 3 3]\n",
      "\n",
      "Y Test predicted:\n",
      " [1 3 1 2 2 1 1 2 2 3 2 3 1 3 1 2 2 1 2 1 2 2 1 1 2 2 1 3 2 3 1 3 2 3 3 3]\n"
     ]
    }
   ],
   "source": [
    "#predicting ytrain and ytest value using xtrain and xtest\n",
    "train_pred_lr=lom.predict(xtrain)\n",
    "test_pred_lr=lom.predict(xtest)\n",
    "print(\"Y Train predicted:\\n\",train_pred_lr)\n",
    "print(\"\\nY Test predicted:\\n\",test_pred_lr)"
   ]
  },
  {
   "cell_type": "markdown",
   "id": "84fad15d",
   "metadata": {},
   "source": [
    "#### Checking for ACCURACY, CONFUSION MATRIX and CLASSIFICATION REPORT of test and train data:"
   ]
  },
  {
   "cell_type": "code",
   "execution_count": 46,
   "id": "b9cff83d",
   "metadata": {},
   "outputs": [
    {
     "name": "stdout",
     "output_type": "stream",
     "text": [
      "\t\t\t\t\t*****ACCURACY*****\n",
      "\n",
      "Training accuracy: 0.9859154929577465\n",
      "Testing accuracy: 1.0\n",
      "____________________________________________________________________________________________________\n",
      "\n",
      "\t\t\t\t*****CONFUSION MATRIX*****\n",
      "\n",
      "Confustion matrix of train data:\n",
      " [[47  0  0]\n",
      " [ 1 55  1]\n",
      " [ 0  0 38]]\n",
      "\n",
      "Confustion matrix of test data:\n",
      " [[12  0  0]\n",
      " [ 0 14  0]\n",
      " [ 0  0 10]]\n",
      "____________________________________________________________________________________________________\n",
      "\n",
      "\t\t\t\t*****CLASSIFICATION REPORT*****\n",
      "\n",
      "Classification Report of train data:\n",
      "\n",
      "               precision    recall  f1-score   support\n",
      "\n",
      "           1       0.98      1.00      0.99        47\n",
      "           2       1.00      0.96      0.98        57\n",
      "           3       0.97      1.00      0.99        38\n",
      "\n",
      "    accuracy                           0.99       142\n",
      "   macro avg       0.98      0.99      0.99       142\n",
      "weighted avg       0.99      0.99      0.99       142\n",
      "\n",
      "---------------------------------------------------------------------------\n",
      "Classification Report of test data:\n",
      "\n",
      "               precision    recall  f1-score   support\n",
      "\n",
      "           1       1.00      1.00      1.00        12\n",
      "           2       1.00      1.00      1.00        14\n",
      "           3       1.00      1.00      1.00        10\n",
      "\n",
      "    accuracy                           1.00        36\n",
      "   macro avg       1.00      1.00      1.00        36\n",
      "weighted avg       1.00      1.00      1.00        36\n",
      "\n",
      "____________________________________________________________________________________________________\n"
     ]
    }
   ],
   "source": [
    "print(\"\\t\\t\\t\\t\\t*****ACCURACY*****\\n\")\n",
    "lr_train_acc=accuracy_score(ytrain,train_pred_lr)\n",
    "lr_test_acc=accuracy_score(ytest,test_pred_lr)\n",
    "print(\"Training accuracy:\",accuracy_score(ytrain,train_pred_lr))\n",
    "print(\"Testing accuracy:\",accuracy_score(ytest,test_pred_lr))\n",
    "print('_'*100)\n",
    "\n",
    "print(\"\\n\\t\\t\\t\\t*****CONFUSION MATRIX*****\\n\")\n",
    "print(\"Confustion matrix of train data:\\n\",confusion_matrix(ytrain,train_pred_lr))\n",
    "print(\"\\nConfustion matrix of test data:\\n\",confusion_matrix(ytest,test_pred_lr))\n",
    "print('_'*100)\n",
    "\n",
    "print(\"\\n\\t\\t\\t\\t*****CLASSIFICATION REPORT*****\\n\")\n",
    "print(\"Classification Report of train data:\\n\\n\",classification_report(ytrain,train_pred_lr))\n",
    "print('-'*75)\n",
    "print(\"Classification Report of test data:\\n\\n\",classification_report(ytest,test_pred_lr))\n",
    "print('_'*100)"
   ]
  },
  {
   "cell_type": "markdown",
   "id": "cf812679",
   "metadata": {},
   "source": [
    "There is no overfitting problem and model is showing 98% train and 100% test accuracy."
   ]
  },
  {
   "cell_type": "code",
   "execution_count": 47,
   "id": "de3ac35c",
   "metadata": {},
   "outputs": [],
   "source": [
    "train_acc.append(lr_train_acc)\n",
    "test_acc.append(lr_test_acc)"
   ]
  },
  {
   "cell_type": "markdown",
   "id": "8d1d5425",
   "metadata": {},
   "source": [
    "#### DECISION TREE:"
   ]
  },
  {
   "cell_type": "code",
   "execution_count": 48,
   "id": "1736c452",
   "metadata": {},
   "outputs": [],
   "source": [
    "dt = DecisionTreeClassifier(random_state=42)\n",
    "dt = dt.fit(xtrain,ytrain)"
   ]
  },
  {
   "cell_type": "code",
   "execution_count": 49,
   "id": "1b0f00f7",
   "metadata": {},
   "outputs": [
    {
     "name": "stdout",
     "output_type": "stream",
     "text": [
      "Y Train predicted:\n",
      " [1 1 1 1 3 3 2 3 1 1 2 2 1 1 3 2 2 2 1 1 2 3 1 3 3 1 1 2 2 1 1 1 1 1 2 3 1\n",
      " 2 1 2 2 2 2 2 2 2 1 1 3 1 1 3 2 2 3 2 2 2 2 1 2 2 1 1 1 1 1 2 2 2 3 3 1 1\n",
      " 3 2 2 2 2 3 1 3 1 3 2 3 3 2 1 1 2 2 2 1 1 1 3 2 2 2 3 2 1 2 1 2 3 1 1 2 3\n",
      " 3 2 2 2 3 3 3 3 2 2 3 2 3 3 1 1 3 1 2 3 3 2 3 2 2 2 3 2 1 3 3]\n",
      "\n",
      "Y Test predicted:\n",
      " [1 2 1 2 2 1 1 2 2 3 2 3 1 3 1 2 2 1 2 2 2 2 1 1 2 2 1 3 2 3 1 3 2 3 3 3]\n"
     ]
    }
   ],
   "source": [
    "train_pred_dt=dt.predict(xtrain)\n",
    "test_pred_dt=dt.predict(xtest)\n",
    "print(\"Y Train predicted:\\n\",train_pred_dt)\n",
    "print(\"\\nY Test predicted:\\n\",test_pred_dt)"
   ]
  },
  {
   "cell_type": "markdown",
   "id": "cb660ff7",
   "metadata": {},
   "source": [
    "#### Checking for ACCURACY, CONFUSION MATRIX and CLASSIFICATION REPORT of test and train data:"
   ]
  },
  {
   "cell_type": "code",
   "execution_count": 50,
   "id": "cfd72a68",
   "metadata": {},
   "outputs": [
    {
     "name": "stdout",
     "output_type": "stream",
     "text": [
      "\t\t\t\t*****ACCURACY*****\n",
      "\n",
      "Training accuracy: 1.0\n",
      "Testing accuracy: 0.9444444444444444\n",
      "____________________________________________________________________________________________________\n",
      "\n",
      "\t\t\t\t*****CONFUSION MATRIX*****\n",
      "\n",
      "Confustion matrix of train data:\n",
      " [[47  0  0]\n",
      " [ 0 57  0]\n",
      " [ 0  0 38]]\n",
      "\n",
      "Confustion matrix of test data:\n",
      " [[11  1  0]\n",
      " [ 0 14  0]\n",
      " [ 0  1  9]]\n",
      "____________________________________________________________________________________________________\n",
      "\n",
      "\t\t\t\t*****CLASSIFICATION REPORT*****\n",
      "\n",
      "Classification Report of train data:\n",
      "\n",
      "               precision    recall  f1-score   support\n",
      "\n",
      "           1       1.00      1.00      1.00        47\n",
      "           2       1.00      1.00      1.00        57\n",
      "           3       1.00      1.00      1.00        38\n",
      "\n",
      "    accuracy                           1.00       142\n",
      "   macro avg       1.00      1.00      1.00       142\n",
      "weighted avg       1.00      1.00      1.00       142\n",
      "\n",
      "---------------------------------------------------------------------------\n",
      "Classification Report of test data:\n",
      "\n",
      "               precision    recall  f1-score   support\n",
      "\n",
      "           1       1.00      0.92      0.96        12\n",
      "           2       0.88      1.00      0.93        14\n",
      "           3       1.00      0.90      0.95        10\n",
      "\n",
      "    accuracy                           0.94        36\n",
      "   macro avg       0.96      0.94      0.95        36\n",
      "weighted avg       0.95      0.94      0.94        36\n",
      "\n",
      "____________________________________________________________________________________________________\n"
     ]
    }
   ],
   "source": [
    "print(\"\\t\\t\\t\\t*****ACCURACY*****\\n\")\n",
    "print(\"Training accuracy:\",accuracy_score(ytrain,train_pred_dt))\n",
    "print(\"Testing accuracy:\",accuracy_score(ytest,test_pred_dt))\n",
    "print('_'*100)\n",
    "\n",
    "print(\"\\n\\t\\t\\t\\t*****CONFUSION MATRIX*****\\n\")\n",
    "print(\"Confustion matrix of train data:\\n\",confusion_matrix(ytrain,train_pred_dt))\n",
    "print(\"\\nConfustion matrix of test data:\\n\",confusion_matrix(ytest,test_pred_dt))\n",
    "print('_'*100)\n",
    "\n",
    "print(\"\\n\\t\\t\\t\\t*****CLASSIFICATION REPORT*****\\n\")\n",
    "print(\"Classification Report of train data:\\n\\n\",classification_report(ytrain,train_pred_dt))\n",
    "print('-'*75)\n",
    "print(\"Classification Report of test data:\\n\\n\",classification_report(ytest,test_pred_dt))\n",
    "print('_'*100)"
   ]
  },
  {
   "cell_type": "markdown",
   "id": "7b0f3727",
   "metadata": {},
   "source": [
    "The model is giving 100% accuracy in training. Let us do hyperparamter tuning to overcome this."
   ]
  },
  {
   "cell_type": "code",
   "execution_count": 51,
   "id": "00e60d63",
   "metadata": {},
   "outputs": [],
   "source": [
    "dt1 = DecisionTreeClassifier(min_samples_split=6,max_depth=2,ccp_alpha=0.05,random_state=42)\n",
    "dt1 = dt1.fit(xtrain,ytrain)"
   ]
  },
  {
   "cell_type": "code",
   "execution_count": 52,
   "id": "14788ac5",
   "metadata": {},
   "outputs": [
    {
     "name": "stdout",
     "output_type": "stream",
     "text": [
      "Y Train predicted:\n",
      " [1 1 1 1 3 3 2 3 1 1 2 2 1 1 3 2 2 2 2 1 1 3 1 3 3 1 1 2 2 1 1 1 1 1 1 3 2\n",
      " 1 1 2 2 2 1 2 1 2 1 1 3 1 1 3 1 2 3 2 2 2 2 1 2 2 1 1 1 1 1 2 2 2 3 3 1 1\n",
      " 3 2 2 2 2 3 1 3 1 3 2 3 3 2 1 1 2 1 2 1 1 1 3 2 2 3 3 2 1 2 1 2 3 1 1 2 3\n",
      " 3 2 2 2 3 3 3 3 2 2 3 2 3 3 1 1 3 1 2 3 3 2 3 2 2 2 3 2 1 3 3]\n",
      "\n",
      "Y Test predicted:\n",
      " [1 3 1 1 2 1 1 1 2 3 2 3 1 3 1 2 2 1 2 2 2 2 2 1 1 2 1 3 2 3 1 3 2 3 3 3]\n"
     ]
    }
   ],
   "source": [
    "train_pred_dt1=dt1.predict(xtrain)\n",
    "test_pred_dt1=dt1.predict(xtest)\n",
    "print(\"Y Train predicted:\\n\",train_pred_dt1)\n",
    "print(\"\\nY Test predicted:\\n\",test_pred_dt1)"
   ]
  },
  {
   "cell_type": "markdown",
   "id": "d5ef674c",
   "metadata": {},
   "source": [
    "#### Checking for ACCURACY, CONFUSION MATRIX and CLASSIFICATION REPORT of test and train data:"
   ]
  },
  {
   "cell_type": "code",
   "execution_count": 53,
   "id": "3309074f",
   "metadata": {},
   "outputs": [
    {
     "name": "stdout",
     "output_type": "stream",
     "text": [
      "\t\t\t\t*****ACCURACY*****\n",
      "\n",
      "Training accuracy: 0.9295774647887324\n",
      "Testing accuracy: 0.8611111111111112\n",
      "____________________________________________________________________________________________________\n",
      "\n",
      "\t\t\t\t*****CONFUSION MATRIX*****\n",
      "\n",
      "Confustion matrix of train data:\n",
      " [[45  2  0]\n",
      " [ 7 49  1]\n",
      " [ 0  0 38]]\n",
      "\n",
      "Confustion matrix of test data:\n",
      " [[10  2  0]\n",
      " [ 3 11  0]\n",
      " [ 0  0 10]]\n",
      "____________________________________________________________________________________________________\n",
      "\n",
      "\t\t\t\t*****CLASSIFICATION REPORT*****\n",
      "\n",
      "Classification Report of train data:\n",
      "\n",
      "               precision    recall  f1-score   support\n",
      "\n",
      "           1       0.87      0.96      0.91        47\n",
      "           2       0.96      0.86      0.91        57\n",
      "           3       0.97      1.00      0.99        38\n",
      "\n",
      "    accuracy                           0.93       142\n",
      "   macro avg       0.93      0.94      0.93       142\n",
      "weighted avg       0.93      0.93      0.93       142\n",
      "\n",
      "---------------------------------------------------------------------------\n",
      "Classification Report of test data:\n",
      "\n",
      "               precision    recall  f1-score   support\n",
      "\n",
      "           1       0.77      0.83      0.80        12\n",
      "           2       0.85      0.79      0.81        14\n",
      "           3       1.00      1.00      1.00        10\n",
      "\n",
      "    accuracy                           0.86        36\n",
      "   macro avg       0.87      0.87      0.87        36\n",
      "weighted avg       0.86      0.86      0.86        36\n",
      "\n",
      "____________________________________________________________________________________________________\n"
     ]
    }
   ],
   "source": [
    "print(\"\\t\\t\\t\\t*****ACCURACY*****\\n\")\n",
    "dt1_train_acc=accuracy_score(ytrain,train_pred_dt1)\n",
    "dt1_test_acc=accuracy_score(ytest,test_pred_dt1)\n",
    "print(\"Training accuracy:\",accuracy_score(ytrain,train_pred_dt1))\n",
    "print(\"Testing accuracy:\",accuracy_score(ytest,test_pred_dt1))\n",
    "print('_'*100)\n",
    "\n",
    "print(\"\\n\\t\\t\\t\\t*****CONFUSION MATRIX*****\\n\")\n",
    "print(\"Confustion matrix of train data:\\n\",confusion_matrix(ytrain,train_pred_dt1))\n",
    "print(\"\\nConfustion matrix of test data:\\n\",confusion_matrix(ytest,test_pred_dt1))\n",
    "print('_'*100)\n",
    "\n",
    "print(\"\\n\\t\\t\\t\\t*****CLASSIFICATION REPORT*****\\n\")\n",
    "print(\"Classification Report of train data:\\n\\n\",classification_report(ytrain,train_pred_dt1))\n",
    "print('-'*75)\n",
    "print(\"Classification Report of test data:\\n\\n\",classification_report(ytest,test_pred_dt1))\n",
    "print('_'*100)"
   ]
  },
  {
   "cell_type": "markdown",
   "id": "fdb08861",
   "metadata": {},
   "source": [
    "We can clearly see that after tuning the model we have overcome the problem and model has an accuracy of 92% for training and 86% for test."
   ]
  },
  {
   "cell_type": "code",
   "execution_count": 54,
   "id": "3749d476",
   "metadata": {},
   "outputs": [],
   "source": [
    "train_acc.append(dt1_train_acc)\n",
    "test_acc.append(dt1_test_acc)"
   ]
  },
  {
   "cell_type": "markdown",
   "id": "06d52a7d",
   "metadata": {},
   "source": [
    "#### RANDOM FOREST:"
   ]
  },
  {
   "cell_type": "code",
   "execution_count": 55,
   "id": "b157a12a",
   "metadata": {},
   "outputs": [
    {
     "data": {
      "text/plain": [
       "RandomForestClassifier(random_state=42)"
      ]
     },
     "execution_count": 55,
     "metadata": {},
     "output_type": "execute_result"
    }
   ],
   "source": [
    "rf = RandomForestClassifier(random_state=42)\n",
    "rf.fit(xtrain,ytrain)"
   ]
  },
  {
   "cell_type": "code",
   "execution_count": 56,
   "id": "781f6629",
   "metadata": {},
   "outputs": [],
   "source": [
    "#pd.DataFrame(rf.feature_importances_,index=xtrain.columns).plot.bar();"
   ]
  },
  {
   "cell_type": "markdown",
   "id": "a8f50060",
   "metadata": {},
   "source": [
    "As I have done MinMaxScaling this is not working, let me try and do it on train and test which hasn't been scaled to find important features alone."
   ]
  },
  {
   "cell_type": "code",
   "execution_count": 57,
   "id": "8843680a",
   "metadata": {},
   "outputs": [],
   "source": [
    "X_train,X_test,Y_train,Y_test = train_test_split(x,y,test_size=0.2,random_state=28,stratify=y)"
   ]
  },
  {
   "cell_type": "markdown",
   "id": "a92cdc31",
   "metadata": {},
   "source": [
    "#### NOTEEEEE: I am testing and training the model again because it was not accepting xtrain and ytrain values after scaling. So to check for feature importance we need to give the model X_train and Y_train which hasn't been scaled yet."
   ]
  },
  {
   "cell_type": "code",
   "execution_count": 58,
   "id": "ec903e69",
   "metadata": {},
   "outputs": [
    {
     "data": {
      "text/plain": [
       "RandomForestClassifier(random_state=42)"
      ]
     },
     "execution_count": 58,
     "metadata": {},
     "output_type": "execute_result"
    }
   ],
   "source": [
    "rf = RandomForestClassifier(random_state=42)\n",
    "rf.fit(X_train,Y_train)"
   ]
  },
  {
   "cell_type": "code",
   "execution_count": 59,
   "id": "a415f03c",
   "metadata": {},
   "outputs": [
    {
     "data": {
      "image/png": "[encoded data removed]",
      "text/plain": [
       "<Figure size 432x288 with 1 Axes>"
      ]
     },
     "metadata": {
      "needs_background": "light"
     },
     "output_type": "display_data"
    }
   ],
   "source": [
    "pd.DataFrame(rf.feature_importances_,index=X_train.columns).plot.bar();"
   ]
  },
  {
   "cell_type": "markdown",
   "id": "fdec41fc",
   "metadata": {},
   "source": [
    "From the plot we can see that features: Alcohol, Flavanoids,Color_Intensity nad Proline are most important features. Whereas features: Nonflavanoid_Phenols, Ash, Malic_Acid, Proanthocyanins are least important features."
   ]
  },
  {
   "cell_type": "markdown",
   "id": "c87b4ad7",
   "metadata": {},
   "source": [
    "Now let us build two models by first not dropping and then dropping the least important features."
   ]
  },
  {
   "cell_type": "code",
   "execution_count": 60,
   "id": "39316bbb",
   "metadata": {},
   "outputs": [
    {
     "data": {
      "text/plain": [
       "RandomForestClassifier(random_state=42)"
      ]
     },
     "execution_count": 60,
     "metadata": {},
     "output_type": "execute_result"
    }
   ],
   "source": [
    "rf1 = RandomForestClassifier(random_state=42)\n",
    "rf1.fit(xtrain,ytrain)"
   ]
  },
  {
   "cell_type": "markdown",
   "id": "34a83a0e",
   "metadata": {},
   "source": [
    "I'm using the values which has been scaled down to fit the model."
   ]
  },
  {
   "cell_type": "code",
   "execution_count": 61,
   "id": "83be3733",
   "metadata": {},
   "outputs": [
    {
     "name": "stdout",
     "output_type": "stream",
     "text": [
      "Y Train predicted:\n",
      " [1 1 1 1 3 3 2 3 1 1 2 2 1 1 3 2 2 2 1 1 2 3 1 3 3 1 1 2 2 1 1 1 1 1 2 3 1\n",
      " 2 1 2 2 2 2 2 2 2 1 1 3 1 1 3 2 2 3 2 2 2 2 1 2 2 1 1 1 1 1 2 2 2 3 3 1 1\n",
      " 3 2 2 2 2 3 1 3 1 3 2 3 3 2 1 1 2 2 2 1 1 1 3 2 2 2 3 2 1 2 1 2 3 1 1 2 3\n",
      " 3 2 2 2 3 3 3 3 2 2 3 2 3 3 1 1 3 1 2 3 3 2 3 2 2 2 3 2 1 3 3]\n",
      "\n",
      "Y Test predicted:\n",
      " [1 3 1 2 2 1 1 2 2 3 2 3 1 3 1 2 2 1 2 1 2 2 1 1 2 2 1 3 2 3 1 3 2 3 3 3]\n"
     ]
    }
   ],
   "source": [
    "train_pred_rf1=rf1.predict(xtrain)\n",
    "test_pred_rf1=rf1.predict(xtest)\n",
    "print(\"Y Train predicted:\\n\",train_pred_rf1)\n",
    "print(\"\\nY Test predicted:\\n\",test_pred_rf1)"
   ]
  },
  {
   "cell_type": "markdown",
   "id": "3c667859",
   "metadata": {},
   "source": [
    "#### Checking for ACCURACY, CONFUSION MATRIX and CLASSIFICATION REPORT of test and train data:"
   ]
  },
  {
   "cell_type": "code",
   "execution_count": 62,
   "id": "715c11a9",
   "metadata": {},
   "outputs": [
    {
     "name": "stdout",
     "output_type": "stream",
     "text": [
      "\t\t\t\t*****ACCURACY*****\n",
      "\n",
      "Training accuracy: 1.0\n",
      "Testing accuracy: 1.0\n",
      "____________________________________________________________________________________________________\n",
      "\n",
      "\t\t\t\t*****CONFUSION MATRIX*****\n",
      "\n",
      "Confustion matrix of train data:\n",
      " [[47  0  0]\n",
      " [ 0 57  0]\n",
      " [ 0  0 38]]\n",
      "\n",
      "Confustion matrix of test data:\n",
      " [[12  0  0]\n",
      " [ 0 14  0]\n",
      " [ 0  0 10]]\n",
      "____________________________________________________________________________________________________\n",
      "\n",
      "\t\t\t\t*****CLASSIFICATION REPORT*****\n",
      "\n",
      "Classification Report of train data:\n",
      "\n",
      "               precision    recall  f1-score   support\n",
      "\n",
      "           1       1.00      1.00      1.00        47\n",
      "           2       1.00      1.00      1.00        57\n",
      "           3       1.00      1.00      1.00        38\n",
      "\n",
      "    accuracy                           1.00       142\n",
      "   macro avg       1.00      1.00      1.00       142\n",
      "weighted avg       1.00      1.00      1.00       142\n",
      "\n",
      "---------------------------------------------------------------------------\n",
      "Classification Report of test data:\n",
      "\n",
      "               precision    recall  f1-score   support\n",
      "\n",
      "           1       1.00      1.00      1.00        12\n",
      "           2       1.00      1.00      1.00        14\n",
      "           3       1.00      1.00      1.00        10\n",
      "\n",
      "    accuracy                           1.00        36\n",
      "   macro avg       1.00      1.00      1.00        36\n",
      "weighted avg       1.00      1.00      1.00        36\n",
      "\n",
      "____________________________________________________________________________________________________\n"
     ]
    }
   ],
   "source": [
    "print(\"\\t\\t\\t\\t*****ACCURACY*****\\n\")\n",
    "print(\"Training accuracy:\",accuracy_score(ytrain,train_pred_rf1))\n",
    "print(\"Testing accuracy:\",accuracy_score(ytest,test_pred_rf1))\n",
    "print('_'*100)\n",
    "\n",
    "print(\"\\n\\t\\t\\t\\t*****CONFUSION MATRIX*****\\n\")\n",
    "print(\"Confustion matrix of train data:\\n\",confusion_matrix(ytrain,train_pred_rf1))\n",
    "print(\"\\nConfustion matrix of test data:\\n\",confusion_matrix(ytest,test_pred_rf1))\n",
    "print('_'*100)\n",
    "\n",
    "print(\"\\n\\t\\t\\t\\t*****CLASSIFICATION REPORT*****\\n\")\n",
    "print(\"Classification Report of train data:\\n\\n\",classification_report(ytrain,train_pred_rf1))\n",
    "print('-'*75)\n",
    "print(\"Classification Report of test data:\\n\\n\",classification_report(ytest,test_pred_rf1))\n",
    "print('_'*100)"
   ]
  },
  {
   "cell_type": "markdown",
   "id": "f7ce542b",
   "metadata": {},
   "source": [
    "We have 0s in confusion matrix. Let us now do hyper paramter tuning in the model and see if this changes."
   ]
  },
  {
   "cell_type": "code",
   "execution_count": 63,
   "id": "6a3cf74d",
   "metadata": {},
   "outputs": [
    {
     "data": {
      "text/plain": [
       "RandomForestClassifier(max_depth=2, min_samples_split=6, random_state=42)"
      ]
     },
     "execution_count": 63,
     "metadata": {},
     "output_type": "execute_result"
    }
   ],
   "source": [
    "rf2 = RandomForestClassifier(max_depth=2,min_samples_split=6,random_state=42)\n",
    "rf2.fit(xtrain,ytrain)"
   ]
  },
  {
   "cell_type": "code",
   "execution_count": 64,
   "id": "2f40b01e",
   "metadata": {},
   "outputs": [
    {
     "name": "stdout",
     "output_type": "stream",
     "text": [
      "Y Train predicted:\n",
      " [1 1 1 1 3 3 2 3 1 1 2 2 1 1 3 2 2 2 1 1 2 3 1 3 3 1 1 2 2 1 1 1 1 1 2 3 1\n",
      " 2 1 2 1 2 3 2 2 2 1 1 3 1 1 3 2 2 3 2 2 2 2 1 2 2 1 1 1 1 1 2 2 2 3 3 1 1\n",
      " 3 2 2 2 2 3 1 3 1 3 2 3 3 2 1 1 2 2 2 1 1 1 3 2 2 2 3 2 1 2 1 2 3 1 1 2 3\n",
      " 3 2 2 2 3 3 3 3 2 2 3 2 3 3 1 1 3 1 2 3 3 2 3 2 2 2 3 2 1 3 3]\n",
      "\n",
      "Y Test predicted:\n",
      " [1 3 1 2 2 1 1 1 2 3 2 3 1 3 1 2 2 1 2 1 2 2 1 1 2 2 1 3 2 3 1 3 2 3 3 3]\n"
     ]
    }
   ],
   "source": [
    "train_pred_rf2=rf2.predict(xtrain)\n",
    "test_pred_rf2=rf2.predict(xtest)\n",
    "print(\"Y Train predicted:\\n\",train_pred_rf2)\n",
    "print(\"\\nY Test predicted:\\n\",test_pred_rf2)"
   ]
  },
  {
   "cell_type": "markdown",
   "id": "c621616e",
   "metadata": {},
   "source": [
    "#### Checking for ACCURACY, CONFUSION MATRIX and CLASSIFICATION REPORT of test and train data:"
   ]
  },
  {
   "cell_type": "code",
   "execution_count": 65,
   "id": "d343d9c5",
   "metadata": {},
   "outputs": [
    {
     "name": "stdout",
     "output_type": "stream",
     "text": [
      "\t\t\t\t*****ACCURACY*****\n",
      "\n",
      "Training accuracy: 0.9859154929577465\n",
      "Testing accuracy: 0.9722222222222222\n",
      "____________________________________________________________________________________________________\n",
      "\n",
      "\t\t\t\t*****CONFUSION MATRIX*****\n",
      "\n",
      "Confustion matrix of train data:\n",
      " [[47  0  0]\n",
      " [ 1 55  1]\n",
      " [ 0  0 38]]\n",
      "\n",
      "Confustion matrix of test data:\n",
      " [[12  0  0]\n",
      " [ 1 13  0]\n",
      " [ 0  0 10]]\n",
      "____________________________________________________________________________________________________\n",
      "\n",
      "\t\t\t\t*****CLASSIFICATION REPORT*****\n",
      "\n",
      "Classification Report of train data:\n",
      "\n",
      "               precision    recall  f1-score   support\n",
      "\n",
      "           1       0.98      1.00      0.99        47\n",
      "           2       1.00      0.96      0.98        57\n",
      "           3       0.97      1.00      0.99        38\n",
      "\n",
      "    accuracy                           0.99       142\n",
      "   macro avg       0.98      0.99      0.99       142\n",
      "weighted avg       0.99      0.99      0.99       142\n",
      "\n",
      "---------------------------------------------------------------------------\n",
      "Classification Report of test data:\n",
      "\n",
      "               precision    recall  f1-score   support\n",
      "\n",
      "           1       0.92      1.00      0.96        12\n",
      "           2       1.00      0.93      0.96        14\n",
      "           3       1.00      1.00      1.00        10\n",
      "\n",
      "    accuracy                           0.97        36\n",
      "   macro avg       0.97      0.98      0.97        36\n",
      "weighted avg       0.97      0.97      0.97        36\n",
      "\n",
      "____________________________________________________________________________________________________\n"
     ]
    }
   ],
   "source": [
    "print(\"\\t\\t\\t\\t*****ACCURACY*****\\n\")\n",
    "rf2_train_acc=accuracy_score(ytrain,train_pred_rf2)\n",
    "rf2_test_acc=accuracy_score(ytest,test_pred_rf2)\n",
    "print(\"Training accuracy:\",accuracy_score(ytrain,train_pred_rf2))\n",
    "print(\"Testing accuracy:\",accuracy_score(ytest,test_pred_rf2))\n",
    "print('_'*100)\n",
    "\n",
    "print(\"\\n\\t\\t\\t\\t*****CONFUSION MATRIX*****\\n\")\n",
    "print(\"Confustion matrix of train data:\\n\",confusion_matrix(ytrain,train_pred_rf2))\n",
    "print(\"\\nConfustion matrix of test data:\\n\",confusion_matrix(ytest,test_pred_rf2))\n",
    "print('_'*100)\n",
    "\n",
    "print(\"\\n\\t\\t\\t\\t*****CLASSIFICATION REPORT*****\\n\")\n",
    "print(\"Classification Report of train data:\\n\\n\",classification_report(ytrain,train_pred_rf2))\n",
    "print('-'*75)\n",
    "print(\"Classification Report of test data:\\n\\n\",classification_report(ytest,test_pred_rf2))\n",
    "print('_'*100)"
   ]
  },
  {
   "cell_type": "markdown",
   "id": "1f1c19c6",
   "metadata": {},
   "source": [
    "We can clearly see that after tuning the model we have overcome the problem and model has an accuracy of 98% for training and 97% for test.\n",
    "\n",
    "Let us see if there is any improvement if we remove the least important feature. I am dropping research."
   ]
  },
  {
   "cell_type": "code",
   "execution_count": 66,
   "id": "486bce51",
   "metadata": {},
   "outputs": [],
   "source": [
    "train_acc.append(rf2_train_acc)\n",
    "test_acc.append(rf2_test_acc)"
   ]
  },
  {
   "cell_type": "code",
   "execution_count": 67,
   "id": "63324fe0",
   "metadata": {},
   "outputs": [],
   "source": [
    "x1=df2.drop(columns=['Nonflavanoid_Phenols', 'Ash', 'Malic_Acid', 'Proanthocyanins'],axis=1)\n",
    "y1=df2.iloc[:,-1]"
   ]
  },
  {
   "cell_type": "code",
   "execution_count": 68,
   "id": "4532377f",
   "metadata": {},
   "outputs": [
    {
     "data": {
      "text/html": [
       "<div>\n",
       "<style scoped>\n",
       "    .dataframe tbody tr th:only-of-type {\n",
       "        vertical-align: middle;\n",
       "    }\n",
       "\n",
       "    .dataframe tbody tr th {\n",
       "        vertical-align: top;\n",
       "    }\n",
       "\n",
       "    .dataframe thead th {\n",
       "        text-align: right;\n",
       "    }\n",
       "</style>\n",
       "<table border=\"1\" class=\"dataframe\">\n",
       "  <thead>\n",
       "    <tr style=\"text-align: right;\">\n",
       "      <th></th>\n",
       "      <th>Alcohol</th>\n",
       "      <th>Ash_Alcanity</th>\n",
       "      <th>Magnesium</th>\n",
       "      <th>Total_Phenols</th>\n",
       "      <th>Flavanoids</th>\n",
       "      <th>Color_Intensity</th>\n",
       "      <th>Hue</th>\n",
       "      <th>OD280</th>\n",
       "      <th>Proline</th>\n",
       "      <th>Customer_Segment</th>\n",
       "    </tr>\n",
       "  </thead>\n",
       "  <tbody>\n",
       "    <tr>\n",
       "      <th>0</th>\n",
       "      <td>14.23</td>\n",
       "      <td>15.6</td>\n",
       "      <td>127</td>\n",
       "      <td>2.80</td>\n",
       "      <td>3.06</td>\n",
       "      <td>5.64</td>\n",
       "      <td>1.04</td>\n",
       "      <td>3.92</td>\n",
       "      <td>1065</td>\n",
       "      <td>1</td>\n",
       "    </tr>\n",
       "    <tr>\n",
       "      <th>1</th>\n",
       "      <td>13.20</td>\n",
       "      <td>11.2</td>\n",
       "      <td>100</td>\n",
       "      <td>2.65</td>\n",
       "      <td>2.76</td>\n",
       "      <td>4.38</td>\n",
       "      <td>1.05</td>\n",
       "      <td>3.40</td>\n",
       "      <td>1050</td>\n",
       "      <td>1</td>\n",
       "    </tr>\n",
       "    <tr>\n",
       "      <th>2</th>\n",
       "      <td>13.16</td>\n",
       "      <td>18.6</td>\n",
       "      <td>101</td>\n",
       "      <td>2.80</td>\n",
       "      <td>3.24</td>\n",
       "      <td>5.68</td>\n",
       "      <td>1.03</td>\n",
       "      <td>3.17</td>\n",
       "      <td>1185</td>\n",
       "      <td>1</td>\n",
       "    </tr>\n",
       "    <tr>\n",
       "      <th>3</th>\n",
       "      <td>14.37</td>\n",
       "      <td>16.8</td>\n",
       "      <td>113</td>\n",
       "      <td>3.85</td>\n",
       "      <td>3.49</td>\n",
       "      <td>7.80</td>\n",
       "      <td>0.86</td>\n",
       "      <td>3.45</td>\n",
       "      <td>1480</td>\n",
       "      <td>1</td>\n",
       "    </tr>\n",
       "    <tr>\n",
       "      <th>4</th>\n",
       "      <td>13.24</td>\n",
       "      <td>21.0</td>\n",
       "      <td>118</td>\n",
       "      <td>2.80</td>\n",
       "      <td>2.69</td>\n",
       "      <td>4.32</td>\n",
       "      <td>1.04</td>\n",
       "      <td>2.93</td>\n",
       "      <td>735</td>\n",
       "      <td>1</td>\n",
       "    </tr>\n",
       "  </tbody>\n",
       "</table>\n",
       "</div>"
      ],
      "text/plain": [
       "   Alcohol  Ash_Alcanity  Magnesium  Total_Phenols  Flavanoids  \\\n",
       "0    14.23          15.6        127           2.80        3.06   \n",
       "1    13.20          11.2        100           2.65        2.76   \n",
       "2    13.16          18.6        101           2.80        3.24   \n",
       "3    14.37          16.8        113           3.85        3.49   \n",
       "4    13.24          21.0        118           2.80        2.69   \n",
       "\n",
       "   Color_Intensity   Hue  OD280  Proline Customer_Segment  \n",
       "0             5.64  1.04   3.92     1065                1  \n",
       "1             4.38  1.05   3.40     1050                1  \n",
       "2             5.68  1.03   3.17     1185                1  \n",
       "3             7.80  0.86   3.45     1480                1  \n",
       "4             4.32  1.04   2.93      735                1  "
      ]
     },
     "execution_count": 68,
     "metadata": {},
     "output_type": "execute_result"
    }
   ],
   "source": [
    "x1.head()"
   ]
  },
  {
   "cell_type": "code",
   "execution_count": 69,
   "id": "521cbbd3",
   "metadata": {},
   "outputs": [
    {
     "data": {
      "text/plain": [
       "0    1\n",
       "1    1\n",
       "2    1\n",
       "3    1\n",
       "4    1\n",
       "Name: Customer_Segment, dtype: category\n",
       "Categories (3, int64): [1, 2, 3]"
      ]
     },
     "execution_count": 69,
     "metadata": {},
     "output_type": "execute_result"
    }
   ],
   "source": [
    "y1.head()"
   ]
  },
  {
   "cell_type": "code",
   "execution_count": 70,
   "id": "3cb2c698",
   "metadata": {},
   "outputs": [],
   "source": [
    "xtrain1,xtest1,ytrain1,ytest1=train_test_split(x1,y1,test_size=0.2,random_state=28,stratify=y1)"
   ]
  },
  {
   "cell_type": "code",
   "execution_count": 71,
   "id": "a2873244",
   "metadata": {},
   "outputs": [
    {
     "name": "stdout",
     "output_type": "stream",
     "text": [
      "Shape of train data:\n",
      "\n",
      "Shape of X train: (142, 10)\n",
      "Shape of Y train: (142,)\n",
      "\n",
      "Shape of test data:\n",
      "\n",
      "Shape of X test: (36, 10)\n",
      "Shape of Y test: (36,)\n"
     ]
    }
   ],
   "source": [
    "print(\"Shape of train data:\")\n",
    "print(\"\\nShape of X train:\",xtrain1.shape)\n",
    "print(\"Shape of Y train:\",ytrain1.shape)\n",
    "print(\"\\nShape of test data:\")\n",
    "print(\"\\nShape of X test:\",xtest1.shape)\n",
    "print(\"Shape of Y test:\",ytest1.shape)"
   ]
  },
  {
   "cell_type": "code",
   "execution_count": 72,
   "id": "527637f8",
   "metadata": {},
   "outputs": [],
   "source": [
    "scaler=MinMaxScaler()\n",
    "xtrain1=scaler.fit_transform(xtrain1)\n",
    "xtest1=scaler.transform(xtest1)"
   ]
  },
  {
   "cell_type": "code",
   "execution_count": 73,
   "id": "9c444a64",
   "metadata": {},
   "outputs": [
    {
     "data": {
      "text/plain": [
       "RandomForestClassifier(random_state=42)"
      ]
     },
     "execution_count": 73,
     "metadata": {},
     "output_type": "execute_result"
    }
   ],
   "source": [
    "rf3 = RandomForestClassifier(random_state=42)\n",
    "rf3.fit(xtrain1,ytrain1)"
   ]
  },
  {
   "cell_type": "code",
   "execution_count": 74,
   "id": "88df0304",
   "metadata": {},
   "outputs": [
    {
     "name": "stdout",
     "output_type": "stream",
     "text": [
      "Y Train predicted:\n",
      " [2 1 1 1 1 1 2 3 1 3 2 1 2 1 3 2 1 1 2 3 3 2 1 3 2 1 2 2 3 3 2 3 2 2 2 2 3\n",
      " 2 1 1 1 1 2 2 3 1 3 2 3 1 3 2 3 2 3 2 2 3 2 2 2 3 2 1 1 2 2 1 3 3 2 1 1 2\n",
      " 2 1 2 2 3 2 1 3 1 1 3 1 2 2 2 1 2 1 3 1 3 2 2 1 3 3 2 1 2 3 2 2 2 1 3 2 1\n",
      " 1 1 1 2 3 1 1 1 2 2 3 1 3 2 3 1 2 1 3 1 3 2 2 1 2 3 2 3 1 2 3]\n",
      "\n",
      "Y Test predicted:\n",
      " [3 1 2 2 2 2 1 3 3 2 1 1 1 1 3 2 3 3 2 1 1 2 1 1 2 2 2 1 3 3 3 2 3 2 2 1]\n"
     ]
    }
   ],
   "source": [
    "train_pred_rf3=rf3.predict(xtrain1)\n",
    "test_pred_rf3=rf3.predict(xtest1)\n",
    "print(\"Y Train predicted:\\n\",train_pred_rf3)\n",
    "print(\"\\nY Test predicted:\\n\",test_pred_rf3)"
   ]
  },
  {
   "cell_type": "markdown",
   "id": "0ec165a4",
   "metadata": {},
   "source": [
    "#### Checking for ACCURACY, CONFUSION MATRIX and CLASSIFICATION REPORT of test and train data:"
   ]
  },
  {
   "cell_type": "code",
   "execution_count": 75,
   "id": "74445cf5",
   "metadata": {},
   "outputs": [
    {
     "name": "stdout",
     "output_type": "stream",
     "text": [
      "\t\t\t\t*****ACCURACY*****\n",
      "\n",
      "Training accuracy: 1.0\n",
      "Testing accuracy: 1.0\n",
      "____________________________________________________________________________________________________\n",
      "\n",
      "\t\t\t\t*****CONFUSION MATRIX*****\n",
      "\n",
      "Confustion matrix of train data:\n",
      " [[47  0  0]\n",
      " [ 0 57  0]\n",
      " [ 0  0 38]]\n",
      "\n",
      "Confustion matrix of test data:\n",
      " [[12  0  0]\n",
      " [ 0 14  0]\n",
      " [ 0  0 10]]\n",
      "____________________________________________________________________________________________________\n",
      "\n",
      "\t\t\t\t*****CLASSIFICATION REPORT*****\n",
      "\n",
      "Classification Report of train data:\n",
      "\n",
      "               precision    recall  f1-score   support\n",
      "\n",
      "           1       1.00      1.00      1.00        47\n",
      "           2       1.00      1.00      1.00        57\n",
      "           3       1.00      1.00      1.00        38\n",
      "\n",
      "    accuracy                           1.00       142\n",
      "   macro avg       1.00      1.00      1.00       142\n",
      "weighted avg       1.00      1.00      1.00       142\n",
      "\n",
      "---------------------------------------------------------------------------\n",
      "Classification Report of test data:\n",
      "\n",
      "               precision    recall  f1-score   support\n",
      "\n",
      "           1       1.00      1.00      1.00        12\n",
      "           2       1.00      1.00      1.00        14\n",
      "           3       1.00      1.00      1.00        10\n",
      "\n",
      "    accuracy                           1.00        36\n",
      "   macro avg       1.00      1.00      1.00        36\n",
      "weighted avg       1.00      1.00      1.00        36\n",
      "\n",
      "____________________________________________________________________________________________________\n"
     ]
    }
   ],
   "source": [
    "print(\"\\t\\t\\t\\t*****ACCURACY*****\\n\")\n",
    "print(\"Training accuracy:\",accuracy_score(ytrain1,train_pred_rf3))\n",
    "print(\"Testing accuracy:\",accuracy_score(ytest1,test_pred_rf3))\n",
    "print('_'*100)\n",
    "\n",
    "print(\"\\n\\t\\t\\t\\t*****CONFUSION MATRIX*****\\n\")\n",
    "print(\"Confustion matrix of train data:\\n\",confusion_matrix(ytrain1,train_pred_rf3))\n",
    "print(\"\\nConfustion matrix of test data:\\n\",confusion_matrix(ytest1,test_pred_rf3))\n",
    "print('_'*100)\n",
    "\n",
    "print(\"\\n\\t\\t\\t\\t*****CLASSIFICATION REPORT*****\\n\")\n",
    "print(\"Classification Report of train data:\\n\\n\",classification_report(ytrain1,train_pred_rf3))\n",
    "print('-'*75)\n",
    "print(\"Classification Report of test data:\\n\\n\",classification_report(ytest1,test_pred_rf3))\n",
    "print('_'*100)"
   ]
  },
  {
   "cell_type": "markdown",
   "id": "baa01bcf",
   "metadata": {},
   "source": [
    "Dropping feature research doesn't seem to make any improvement in the model. Now to this model I'll do hyper parameter tuning to find if after dropping research and doing tuning my model performs better or worse than not dropping research and tuning."
   ]
  },
  {
   "cell_type": "code",
   "execution_count": 76,
   "id": "0a436054",
   "metadata": {},
   "outputs": [
    {
     "data": {
      "text/plain": [
       "RandomForestClassifier(max_depth=2, min_samples_split=10, random_state=42)"
      ]
     },
     "execution_count": 76,
     "metadata": {},
     "output_type": "execute_result"
    }
   ],
   "source": [
    "rf4 = RandomForestClassifier(max_depth=2,min_samples_split=10,random_state=42)\n",
    "rf4.fit(xtrain1,ytrain1)"
   ]
  },
  {
   "cell_type": "code",
   "execution_count": 77,
   "id": "d9be0b71",
   "metadata": {},
   "outputs": [
    {
     "name": "stdout",
     "output_type": "stream",
     "text": [
      "Y Train predicted:\n",
      " [2 1 1 1 1 1 2 3 1 3 2 1 2 1 3 2 1 1 2 3 3 2 1 3 2 1 2 2 3 3 2 3 2 2 2 2 3\n",
      " 2 1 1 1 1 2 2 3 1 3 2 3 1 3 2 3 2 3 2 2 3 2 2 2 3 2 1 1 2 2 1 3 3 2 1 1 2\n",
      " 2 1 2 2 3 2 1 3 1 1 3 1 2 2 2 1 2 1 3 1 3 2 2 1 3 3 2 1 2 3 2 2 2 1 3 2 1\n",
      " 1 1 1 2 3 1 1 1 2 2 3 1 3 2 3 1 2 1 3 1 3 2 2 1 2 3 2 3 1 2 3]\n",
      "\n",
      "Y Test predicted:\n",
      " [3 1 2 2 2 2 1 3 3 2 1 1 1 1 3 2 3 3 2 1 1 2 1 1 2 2 2 1 3 3 3 2 3 2 2 1]\n"
     ]
    }
   ],
   "source": [
    "train_pred_rf4=rf4.predict(xtrain1)\n",
    "test_pred_rf4=rf4.predict(xtest1)\n",
    "print(\"Y Train predicted:\\n\",train_pred_rf4)\n",
    "print(\"\\nY Test predicted:\\n\",test_pred_rf4)"
   ]
  },
  {
   "cell_type": "markdown",
   "id": "e14c4ef4",
   "metadata": {},
   "source": [
    "#### Checking for ACCURACY, CONFUSION MATRIX and CLASSIFICATION REPORT of test and train data:"
   ]
  },
  {
   "cell_type": "code",
   "execution_count": 78,
   "id": "ea416273",
   "metadata": {},
   "outputs": [
    {
     "name": "stdout",
     "output_type": "stream",
     "text": [
      "\t\t\t\t*****ACCURACY*****\n",
      "\n",
      "Training accuracy: 1.0\n",
      "Testing accuracy: 1.0\n",
      "____________________________________________________________________________________________________\n",
      "\n",
      "\t\t\t\t*****CONFUSION MATRIX*****\n",
      "\n",
      "Confustion matrix of train data:\n",
      " [[47  0  0]\n",
      " [ 0 57  0]\n",
      " [ 0  0 38]]\n",
      "\n",
      "Confustion matrix of test data:\n",
      " [[12  0  0]\n",
      " [ 0 14  0]\n",
      " [ 0  0 10]]\n",
      "____________________________________________________________________________________________________\n",
      "\n",
      "\t\t\t\t*****CLASSIFICATION REPORT*****\n",
      "\n",
      "Classification Report of train data:\n",
      "\n",
      "               precision    recall  f1-score   support\n",
      "\n",
      "           1       1.00      1.00      1.00        47\n",
      "           2       1.00      1.00      1.00        57\n",
      "           3       1.00      1.00      1.00        38\n",
      "\n",
      "    accuracy                           1.00       142\n",
      "   macro avg       1.00      1.00      1.00       142\n",
      "weighted avg       1.00      1.00      1.00       142\n",
      "\n",
      "---------------------------------------------------------------------------\n",
      "Classification Report of test data:\n",
      "\n",
      "               precision    recall  f1-score   support\n",
      "\n",
      "           1       1.00      1.00      1.00        12\n",
      "           2       1.00      1.00      1.00        14\n",
      "           3       1.00      1.00      1.00        10\n",
      "\n",
      "    accuracy                           1.00        36\n",
      "   macro avg       1.00      1.00      1.00        36\n",
      "weighted avg       1.00      1.00      1.00        36\n",
      "\n",
      "____________________________________________________________________________________________________\n"
     ]
    }
   ],
   "source": [
    "print(\"\\t\\t\\t\\t*****ACCURACY*****\\n\")\n",
    "rf4_train_acc=accuracy_score(ytrain1,train_pred_rf4)\n",
    "rf4_test_acc=accuracy_score(ytest1,test_pred_rf4)\n",
    "print(\"Training accuracy:\",accuracy_score(ytrain1,train_pred_rf4))\n",
    "print(\"Testing accuracy:\",accuracy_score(ytest1,test_pred_rf4))\n",
    "print('_'*100)\n",
    "\n",
    "print(\"\\n\\t\\t\\t\\t*****CONFUSION MATRIX*****\\n\")\n",
    "print(\"Confustion matrix of train data:\\n\",confusion_matrix(ytrain1,train_pred_rf4))\n",
    "print(\"\\nConfustion matrix of test data:\\n\",confusion_matrix(ytest1,test_pred_rf4))\n",
    "print('_'*100)\n",
    "\n",
    "print(\"\\n\\t\\t\\t\\t*****CLASSIFICATION REPORT*****\\n\")\n",
    "print(\"Classification Report of train data:\\n\\n\",classification_report(ytrain1,train_pred_rf4))\n",
    "print('-'*75)\n",
    "print(\"Classification Report of test data:\\n\\n\",classification_report(ytest1,test_pred_rf4))\n",
    "print('_'*100)"
   ]
  },
  {
   "cell_type": "markdown",
   "id": "b7b34897",
   "metadata": {},
   "source": [
    "The model is having an accuracy of 100% on training and testing."
   ]
  },
  {
   "cell_type": "code",
   "execution_count": 79,
   "id": "3cbb5d4e",
   "metadata": {},
   "outputs": [],
   "source": [
    "train_acc.append(rf4_train_acc)\n",
    "test_acc.append(rf4_test_acc)"
   ]
  },
  {
   "cell_type": "code",
   "execution_count": 80,
   "id": "79e1e80d",
   "metadata": {},
   "outputs": [
    {
     "data": {
      "text/plain": [
       "RandomForestClassifier(max_depth=2, min_samples_split=12, random_state=42)"
      ]
     },
     "execution_count": 80,
     "metadata": {},
     "output_type": "execute_result"
    }
   ],
   "source": [
    "rf5 = RandomForestClassifier(max_depth=2,min_samples_split=12,random_state=42)\n",
    "rf5.fit(xtrain1,ytrain1)"
   ]
  },
  {
   "cell_type": "code",
   "execution_count": 81,
   "id": "b5f97c82",
   "metadata": {},
   "outputs": [
    {
     "name": "stdout",
     "output_type": "stream",
     "text": [
      "Y Train predicted:\n",
      " [2 1 1 1 1 1 2 3 1 3 2 1 2 1 3 2 1 1 2 3 3 2 1 3 2 1 2 2 3 3 2 3 2 2 2 2 3\n",
      " 2 1 1 1 1 2 2 3 1 3 2 3 1 3 2 3 2 3 2 2 3 2 2 2 3 2 1 1 2 2 1 3 3 2 1 1 2\n",
      " 2 1 2 2 3 2 1 3 1 1 3 1 2 2 2 1 2 1 3 1 3 2 2 1 3 3 2 1 2 3 2 2 2 1 3 2 1\n",
      " 1 1 1 2 3 1 1 1 2 2 3 1 3 2 3 1 2 1 3 1 3 2 2 1 2 3 2 3 1 2 3]\n",
      "\n",
      "Y Test predicted:\n",
      " [3 1 2 2 2 2 1 3 3 2 1 1 1 1 3 2 3 3 2 1 1 2 1 1 2 2 2 1 3 3 3 2 3 2 2 1]\n"
     ]
    }
   ],
   "source": [
    "train_pred_rf5=rf5.predict(xtrain1)\n",
    "test_pred_rf5=rf5.predict(xtest1)\n",
    "print(\"Y Train predicted:\\n\",train_pred_rf5)\n",
    "print(\"\\nY Test predicted:\\n\",test_pred_rf5)"
   ]
  },
  {
   "cell_type": "markdown",
   "id": "b201b92d",
   "metadata": {},
   "source": [
    "#### Checking for ACCURACY, CONFUSION MATRIX and CLASSIFICATION REPORT of test and train data:¶"
   ]
  },
  {
   "cell_type": "code",
   "execution_count": 82,
   "id": "3aa54a40",
   "metadata": {},
   "outputs": [
    {
     "name": "stdout",
     "output_type": "stream",
     "text": [
      "\t\t\t\t*****ACCURACY*****\n",
      "\n",
      "Training accuracy: 1.0\n",
      "Testing accuracy: 1.0\n",
      "____________________________________________________________________________________________________\n",
      "\n",
      "\t\t\t\t*****CONFUSION MATRIX*****\n",
      "\n",
      "Confustion matrix of train data:\n",
      " [[47  0  0]\n",
      " [ 0 57  0]\n",
      " [ 0  0 38]]\n",
      "\n",
      "Confustion matrix of test data:\n",
      " [[12  0  0]\n",
      " [ 0 14  0]\n",
      " [ 0  0 10]]\n",
      "____________________________________________________________________________________________________\n",
      "\n",
      "\t\t\t\t*****CLASSIFICATION REPORT*****\n",
      "\n",
      "Classification Report of train data:\n",
      "\n",
      "               precision    recall  f1-score   support\n",
      "\n",
      "           1       1.00      1.00      1.00        47\n",
      "           2       1.00      1.00      1.00        57\n",
      "           3       1.00      1.00      1.00        38\n",
      "\n",
      "    accuracy                           1.00       142\n",
      "   macro avg       1.00      1.00      1.00       142\n",
      "weighted avg       1.00      1.00      1.00       142\n",
      "\n",
      "---------------------------------------------------------------------------\n",
      "Classification Report of test data:\n",
      "\n",
      "               precision    recall  f1-score   support\n",
      "\n",
      "           1       1.00      1.00      1.00        12\n",
      "           2       1.00      1.00      1.00        14\n",
      "           3       1.00      1.00      1.00        10\n",
      "\n",
      "    accuracy                           1.00        36\n",
      "   macro avg       1.00      1.00      1.00        36\n",
      "weighted avg       1.00      1.00      1.00        36\n",
      "\n",
      "____________________________________________________________________________________________________\n"
     ]
    }
   ],
   "source": [
    "print(\"\\t\\t\\t\\t*****ACCURACY*****\\n\")\n",
    "rf5_train_acc=accuracy_score(ytrain1,train_pred_rf5)\n",
    "rf5_test_acc=accuracy_score(ytest1,test_pred_rf5)\n",
    "print(\"Training accuracy:\",accuracy_score(ytrain1,train_pred_rf5))\n",
    "print(\"Testing accuracy:\",accuracy_score(ytest1,test_pred_rf5))\n",
    "print('_'*100)\n",
    "\n",
    "print(\"\\n\\t\\t\\t\\t*****CONFUSION MATRIX*****\\n\")\n",
    "print(\"Confustion matrix of train data:\\n\",confusion_matrix(ytrain1,train_pred_rf5))\n",
    "print(\"\\nConfustion matrix of test data:\\n\",confusion_matrix(ytest1,test_pred_rf5))\n",
    "print('_'*100)\n",
    "\n",
    "print(\"\\n\\t\\t\\t\\t*****CLASSIFICATION REPORT*****\\n\")\n",
    "print(\"Classification Report of train data:\\n\\n\",classification_report(ytrain1,train_pred_rf5))\n",
    "print('-'*75)\n",
    "print(\"Classification Report of test data:\\n\\n\",classification_report(ytest1,test_pred_rf5))\n",
    "print('_'*100)"
   ]
  },
  {
   "cell_type": "markdown",
   "id": "68287a3b",
   "metadata": {},
   "source": [
    "I changed the parameters slightly for RF to check how RF performs. The training accuracy is and testing accuracy is at 100%."
   ]
  },
  {
   "cell_type": "code",
   "execution_count": 83,
   "id": "743d5393",
   "metadata": {},
   "outputs": [],
   "source": [
    "train_acc.append(rf5_train_acc)\n",
    "test_acc.append(rf5_test_acc)"
   ]
  },
  {
   "cell_type": "markdown",
   "id": "7605c50c",
   "metadata": {},
   "source": [
    "#### BAGGING CLASSIFIER:"
   ]
  },
  {
   "cell_type": "markdown",
   "id": "5afb171b",
   "metadata": {},
   "source": [
    "1. Bagging Classifier is a type of ensemble technique which uses both Row sampling and Feature Sampling. \n",
    "2. Random forest also uses both Row sampling and Feature Sampling.\n",
    "3. Decision tree uses only Row sampling.\n",
    "\n",
    "The main difference between bagging classifier and decision tree is in deicion tree only row sampling is done, whereas in bagging classifier both row and feature sampling are done.\n",
    "\n",
    "The main difference between bagging classifier and random forest is that in random forest n number of decision trees are constructedin total with both row and feature sampling techniques, whereas in bagging classifier only one tree is constructed in total with both row and feature sampling."
   ]
  },
  {
   "cell_type": "code",
   "execution_count": 84,
   "id": "c983bea5",
   "metadata": {},
   "outputs": [
    {
     "data": {
      "text/plain": [
       "BaggingClassifier(random_state=42)"
      ]
     },
     "execution_count": 84,
     "metadata": {},
     "output_type": "execute_result"
    }
   ],
   "source": [
    "bc= BaggingClassifier(random_state=42)\n",
    "bc.fit(xtrain,ytrain)"
   ]
  },
  {
   "cell_type": "code",
   "execution_count": 85,
   "id": "ea911e10",
   "metadata": {},
   "outputs": [
    {
     "name": "stdout",
     "output_type": "stream",
     "text": [
      "Y Train predicted:\n",
      " [2 1 1 1 1 1 2 3 1 3 2 1 2 1 3 2 1 1 2 3 3 2 1 3 2 1 2 2 3 3 2 3 2 2 2 2 3\n",
      " 2 1 1 1 1 2 2 3 1 3 2 3 1 3 2 3 2 3 2 2 3 2 2 2 3 2 1 1 2 2 1 3 3 2 1 1 2\n",
      " 2 1 2 2 3 2 1 3 1 1 3 1 2 2 2 1 2 1 3 1 3 2 2 1 3 3 2 1 2 3 2 2 2 1 3 2 1\n",
      " 1 1 1 2 3 1 1 1 2 2 3 1 3 2 3 1 2 1 3 1 3 2 2 1 2 3 2 3 1 2 3]\n",
      "\n",
      "Y Test predicted:\n",
      " [3 1 2 2 2 2 1 3 3 2 1 1 1 1 3 2 3 3 2 1 1 2 1 1 2 2 2 1 3 3 3 2 3 2 2 1]\n"
     ]
    }
   ],
   "source": [
    "train_pred_bc=rf4.predict(xtrain1)\n",
    "test_pred_bc=rf4.predict(xtest1)\n",
    "print(\"Y Train predicted:\\n\",train_pred_bc)\n",
    "print(\"\\nY Test predicted:\\n\",test_pred_bc)"
   ]
  },
  {
   "cell_type": "markdown",
   "id": "6c5e5579",
   "metadata": {},
   "source": [
    "#### Checking for ACCURACY, CONFUSION MATRIX and CLASSIFICATION REPORT of test and train data:"
   ]
  },
  {
   "cell_type": "code",
   "execution_count": 86,
   "id": "ba7c1594",
   "metadata": {},
   "outputs": [
    {
     "name": "stdout",
     "output_type": "stream",
     "text": [
      "\t\t\t\t*****ACCURACY*****\n",
      "\n",
      "Training accuracy: 0.3873239436619718\n",
      "Testing accuracy: 0.3611111111111111\n",
      "____________________________________________________________________________________________________\n",
      "\n",
      "\t\t\t\t*****CONFUSION MATRIX*****\n",
      "\n",
      "Confustion matrix of train data:\n",
      " [[20 17 10]\n",
      " [16 24 17]\n",
      " [11 16 11]]\n",
      "\n",
      "Confustion matrix of test data:\n",
      " [[5 3 4]\n",
      " [2 7 5]\n",
      " [5 4 1]]\n",
      "____________________________________________________________________________________________________\n",
      "\n",
      "\t\t\t\t*****CLASSIFICATION REPORT*****\n",
      "\n",
      "Classification Report of train data:\n",
      "\n",
      "               precision    recall  f1-score   support\n",
      "\n",
      "           1       0.43      0.43      0.43        47\n",
      "           2       0.42      0.42      0.42        57\n",
      "           3       0.29      0.29      0.29        38\n",
      "\n",
      "    accuracy                           0.39       142\n",
      "   macro avg       0.38      0.38      0.38       142\n",
      "weighted avg       0.39      0.39      0.39       142\n",
      "\n",
      "---------------------------------------------------------------------------\n",
      "Classification Report of test data:\n",
      "\n",
      "               precision    recall  f1-score   support\n",
      "\n",
      "           1       0.42      0.42      0.42        12\n",
      "           2       0.50      0.50      0.50        14\n",
      "           3       0.10      0.10      0.10        10\n",
      "\n",
      "    accuracy                           0.36        36\n",
      "   macro avg       0.34      0.34      0.34        36\n",
      "weighted avg       0.36      0.36      0.36        36\n",
      "\n",
      "____________________________________________________________________________________________________\n"
     ]
    }
   ],
   "source": [
    "print(\"\\t\\t\\t\\t*****ACCURACY*****\\n\")\n",
    "bc_train_acc=accuracy_score(ytrain,train_pred_bc)\n",
    "bc_test_acc=accuracy_score(ytest,test_pred_bc)\n",
    "print(\"Training accuracy:\",accuracy_score(ytrain,train_pred_bc))\n",
    "print(\"Testing accuracy:\",accuracy_score(ytest,test_pred_bc))\n",
    "print('_'*100)\n",
    "\n",
    "print(\"\\n\\t\\t\\t\\t*****CONFUSION MATRIX*****\\n\")\n",
    "print(\"Confustion matrix of train data:\\n\",confusion_matrix(ytrain,train_pred_bc))\n",
    "print(\"\\nConfustion matrix of test data:\\n\",confusion_matrix(ytest,test_pred_bc))\n",
    "print('_'*100)\n",
    "\n",
    "print(\"\\n\\t\\t\\t\\t*****CLASSIFICATION REPORT*****\\n\")\n",
    "print(\"Classification Report of train data:\\n\\n\",classification_report(ytrain,train_pred_bc))\n",
    "print('-'*75)\n",
    "print(\"Classification Report of test data:\\n\\n\",classification_report(ytest,test_pred_bc))\n",
    "print('_'*100)"
   ]
  },
  {
   "cell_type": "markdown",
   "id": "7ba073bf",
   "metadata": {},
   "source": [
    "The model is performing with training accuracy of 38% and testing accuracy of 36%."
   ]
  },
  {
   "cell_type": "code",
   "execution_count": 87,
   "id": "37406c46",
   "metadata": {},
   "outputs": [],
   "source": [
    "train_acc.append(bc_train_acc)\n",
    "test_acc.append(bc_test_acc)"
   ]
  },
  {
   "cell_type": "markdown",
   "id": "f0d01384",
   "metadata": {},
   "source": [
    "#### K NEAREST NEIGHBORS (KNN):"
   ]
  },
  {
   "cell_type": "code",
   "execution_count": 88,
   "id": "2c727086",
   "metadata": {},
   "outputs": [],
   "source": [
    "knn = KNeighborsClassifier()"
   ]
  },
  {
   "cell_type": "code",
   "execution_count": 89,
   "id": "9cb276e6",
   "metadata": {},
   "outputs": [
    {
     "name": "stdout",
     "output_type": "stream",
     "text": [
      "K = 1\n",
      "Accuracy of Train data for K = 1 is 1.0\n",
      "Accuracy of Test data for K = 1 is 0.9722222222222222\n",
      "K = 3\n",
      "Accuracy of Train data for K = 3 is 0.9647887323943662\n",
      "Accuracy of Test data for K = 3 is 0.9722222222222222\n",
      "K = 5\n",
      "Accuracy of Train data for K = 5 is 0.971830985915493\n",
      "Accuracy of Test data for K = 5 is 1.0\n",
      "K = 7\n",
      "Accuracy of Train data for K = 7 is 0.971830985915493\n",
      "Accuracy of Test data for K = 7 is 1.0\n",
      "K = 9\n",
      "Accuracy of Train data for K = 9 is 0.9647887323943662\n",
      "Accuracy of Test data for K = 9 is 0.9722222222222222\n",
      "K = 11\n",
      "Accuracy of Train data for K = 11 is 0.9647887323943662\n",
      "Accuracy of Test data for K = 11 is 0.9722222222222222\n",
      "K = 13\n",
      "Accuracy of Train data for K = 13 is 0.9647887323943662\n",
      "Accuracy of Test data for K = 13 is 0.9722222222222222\n"
     ]
    }
   ],
   "source": [
    "accuracy_train=[]\n",
    "accuracy_test=[]\n",
    "for i in range(1,14,2):\n",
    "    print(\"K =\",i)\n",
    "    knn = KNeighborsClassifier(n_neighbors=i)\n",
    "    knn.fit(xtrain,ytrain)\n",
    "    train_pred=knn.predict(xtrain)\n",
    "    test_pred=knn.predict(xtest)\n",
    "    print(\"Accuracy of Train data for K =\",i,\"is\",accuracy_score(ytrain,train_pred))\n",
    "    print(\"Accuracy of Test data for K =\",i,\"is\",accuracy_score(ytest,test_pred))\n",
    "    accuracy_train.append(accuracy_score(ytrain,train_pred))\n",
    "    accuracy_test.append(accuracy_score(ytest,test_pred))"
   ]
  },
  {
   "cell_type": "code",
   "execution_count": 90,
   "id": "7b8bd65f",
   "metadata": {},
   "outputs": [
    {
     "data": {
      "text/html": [
       "<div>\n",
       "<style scoped>\n",
       "    .dataframe tbody tr th:only-of-type {\n",
       "        vertical-align: middle;\n",
       "    }\n",
       "\n",
       "    .dataframe tbody tr th {\n",
       "        vertical-align: top;\n",
       "    }\n",
       "\n",
       "    .dataframe thead th {\n",
       "        text-align: right;\n",
       "    }\n",
       "</style>\n",
       "<table border=\"1\" class=\"dataframe\">\n",
       "  <thead>\n",
       "    <tr style=\"text-align: right;\">\n",
       "      <th></th>\n",
       "      <th>K</th>\n",
       "      <th>Train</th>\n",
       "      <th>Test</th>\n",
       "    </tr>\n",
       "  </thead>\n",
       "  <tbody>\n",
       "    <tr>\n",
       "      <th>0</th>\n",
       "      <td>1</td>\n",
       "      <td>1.000000</td>\n",
       "      <td>0.972222</td>\n",
       "    </tr>\n",
       "    <tr>\n",
       "      <th>1</th>\n",
       "      <td>3</td>\n",
       "      <td>0.964789</td>\n",
       "      <td>0.972222</td>\n",
       "    </tr>\n",
       "    <tr>\n",
       "      <th>2</th>\n",
       "      <td>5</td>\n",
       "      <td>0.971831</td>\n",
       "      <td>1.000000</td>\n",
       "    </tr>\n",
       "    <tr>\n",
       "      <th>3</th>\n",
       "      <td>7</td>\n",
       "      <td>0.971831</td>\n",
       "      <td>1.000000</td>\n",
       "    </tr>\n",
       "    <tr>\n",
       "      <th>4</th>\n",
       "      <td>9</td>\n",
       "      <td>0.964789</td>\n",
       "      <td>0.972222</td>\n",
       "    </tr>\n",
       "    <tr>\n",
       "      <th>5</th>\n",
       "      <td>11</td>\n",
       "      <td>0.964789</td>\n",
       "      <td>0.972222</td>\n",
       "    </tr>\n",
       "    <tr>\n",
       "      <th>6</th>\n",
       "      <td>13</td>\n",
       "      <td>0.964789</td>\n",
       "      <td>0.972222</td>\n",
       "    </tr>\n",
       "  </tbody>\n",
       "</table>\n",
       "</div>"
      ],
      "text/plain": [
       "    K     Train      Test\n",
       "0   1  1.000000  0.972222\n",
       "1   3  0.964789  0.972222\n",
       "2   5  0.971831  1.000000\n",
       "3   7  0.971831  1.000000\n",
       "4   9  0.964789  0.972222\n",
       "5  11  0.964789  0.972222\n",
       "6  13  0.964789  0.972222"
      ]
     },
     "execution_count": 90,
     "metadata": {},
     "output_type": "execute_result"
    }
   ],
   "source": [
    "k=[]\n",
    "for i in range(1,14,2):\n",
    "    k.append(i)\n",
    "accuracy=pd.DataFrame(columns=['K','Train','Test'])\n",
    "accuracy['K']=k\n",
    "accuracy['Train']=accuracy_train\n",
    "accuracy['Test']=accuracy_test\n",
    "accuracy"
   ]
  },
  {
   "cell_type": "code",
   "execution_count": 91,
   "id": "780df6c2",
   "metadata": {},
   "outputs": [
    {
     "data": {
      "image/png": "[encoded data removed]",
      "text/plain": [
       "<Figure size 432x288 with 1 Axes>"
      ]
     },
     "metadata": {
      "needs_background": "light"
     },
     "output_type": "display_data"
    }
   ],
   "source": [
    "plt.plot(k, accuracy['Train'],color='red',label='Train')\n",
    "plt.plot(k, accuracy['Test'],color='blue',label='Test')\n",
    "plt.ylabel(\"Accuracy\")\n",
    "plt.xlabel(\"K\")\n",
    "plt.legend()\n",
    "plt.title(\"Accuracy Vs K\")\n",
    "plt.show()"
   ]
  },
  {
   "cell_type": "markdown",
   "id": "27c1de0f",
   "metadata": {},
   "source": [
    "#%matplotlib qt"
   ]
  },
  {
   "cell_type": "markdown",
   "id": "e68aae5a",
   "metadata": {},
   "source": [
    "From the plot, the optimum k value comes around 3. Let us build KNN model with k=3."
   ]
  },
  {
   "cell_type": "code",
   "execution_count": 92,
   "id": "535a29c7",
   "metadata": {},
   "outputs": [
    {
     "data": {
      "text/plain": [
       "KNeighborsClassifier(n_neighbors=3)"
      ]
     },
     "execution_count": 92,
     "metadata": {},
     "output_type": "execute_result"
    }
   ],
   "source": [
    "knn3 = KNeighborsClassifier(n_neighbors=3)\n",
    "knn3.fit(xtrain,ytrain)"
   ]
  },
  {
   "cell_type": "code",
   "execution_count": 93,
   "id": "cc526f24",
   "metadata": {},
   "outputs": [
    {
     "name": "stdout",
     "output_type": "stream",
     "text": [
      "For K=3\n",
      "Y Train predicted:\n",
      " [1 1 1 1 3 3 2 3 1 1 2 2 1 1 3 2 2 2 1 1 1 3 1 3 3 1 1 2 2 1 1 1 1 1 2 3 1\n",
      " 2 1 2 1 2 3 2 2 2 1 1 3 1 1 3 2 2 3 2 2 2 2 1 2 2 1 1 1 1 1 2 2 3 3 3 1 1\n",
      " 3 2 2 2 2 3 1 3 1 3 2 3 3 2 1 1 2 2 2 1 1 1 3 2 2 2 3 2 1 2 1 2 3 1 1 2 3\n",
      " 3 2 1 2 3 3 3 3 2 2 3 2 3 3 1 1 3 1 2 3 3 2 3 2 2 2 3 2 1 3 3]\n",
      "\n",
      "Y Test predicted:\n",
      " [1 3 1 1 2 1 1 2 2 3 2 3 1 3 1 2 2 1 2 1 2 2 1 1 2 2 1 3 2 3 1 3 2 3 3 3]\n"
     ]
    }
   ],
   "source": [
    "train_pred_knn3=knn3.predict(xtrain)\n",
    "test_pred_knn3=knn3.predict(xtest)\n",
    "print(\"For K=3\")\n",
    "print(\"Y Train predicted:\\n\",train_pred_knn3)\n",
    "print(\"\\nY Test predicted:\\n\",test_pred_knn3)"
   ]
  },
  {
   "cell_type": "markdown",
   "id": "6acdaa33",
   "metadata": {},
   "source": [
    "#### Checking for ACCURACY, CONFUSION MATRIX and CLASSIFICATION REPORT of test and train data:"
   ]
  },
  {
   "cell_type": "code",
   "execution_count": 94,
   "id": "6f5ea0c3",
   "metadata": {},
   "outputs": [
    {
     "name": "stdout",
     "output_type": "stream",
     "text": [
      "FOR K=3\n",
      "\n",
      "\t\t\t\t*****ACCURACY*****\n",
      "\n",
      "Training accuracy: 0.9647887323943662\n",
      "Testing accuracy: 0.9722222222222222\n",
      "____________________________________________________________________________________________________\n",
      "\n",
      "\t\t\t\t*****CONFUSION MATRIX*****\n",
      "\n",
      "Confustion matrix of train data:\n",
      " [[47  0  0]\n",
      " [ 3 52  2]\n",
      " [ 0  0 38]]\n",
      "\n",
      "Confustion matrix of test data:\n",
      " [[12  0  0]\n",
      " [ 1 13  0]\n",
      " [ 0  0 10]]\n",
      "____________________________________________________________________________________________________\n",
      "\n",
      "\t\t\t\t*****CLASSIFICATION REPORT*****\n",
      "\n",
      "Classification Report of train data:\n",
      "\n",
      "               precision    recall  f1-score   support\n",
      "\n",
      "           1       0.94      1.00      0.97        47\n",
      "           2       1.00      0.91      0.95        57\n",
      "           3       0.95      1.00      0.97        38\n",
      "\n",
      "    accuracy                           0.96       142\n",
      "   macro avg       0.96      0.97      0.97       142\n",
      "weighted avg       0.97      0.96      0.96       142\n",
      "\n",
      "---------------------------------------------------------------------------\n",
      "Classification Report of test data:\n",
      "\n",
      "               precision    recall  f1-score   support\n",
      "\n",
      "           1       0.92      1.00      0.96        12\n",
      "           2       1.00      0.93      0.96        14\n",
      "           3       1.00      1.00      1.00        10\n",
      "\n",
      "    accuracy                           0.97        36\n",
      "   macro avg       0.97      0.98      0.97        36\n",
      "weighted avg       0.97      0.97      0.97        36\n",
      "\n",
      "____________________________________________________________________________________________________\n"
     ]
    }
   ],
   "source": [
    "print(\"FOR K=3\\n\")\n",
    "print(\"\\t\\t\\t\\t*****ACCURACY*****\\n\")\n",
    "knn3_train_acc=accuracy_score(ytrain,train_pred_knn3)\n",
    "knn3_test_acc=accuracy_score(ytest,test_pred_knn3)\n",
    "print(\"Training accuracy:\",accuracy_score(ytrain,train_pred_knn3))\n",
    "print(\"Testing accuracy:\",accuracy_score(ytest,test_pred_knn3))\n",
    "print('_'*100)\n",
    "\n",
    "print(\"\\n\\t\\t\\t\\t*****CONFUSION MATRIX*****\\n\")\n",
    "print(\"Confustion matrix of train data:\\n\",confusion_matrix(ytrain,train_pred_knn3))\n",
    "print(\"\\nConfustion matrix of test data:\\n\",confusion_matrix(ytest,test_pred_knn3))\n",
    "print('_'*100)\n",
    "\n",
    "print(\"\\n\\t\\t\\t\\t*****CLASSIFICATION REPORT*****\\n\")\n",
    "print(\"Classification Report of train data:\\n\\n\",classification_report(ytrain,train_pred_knn3))\n",
    "print('-'*75)\n",
    "print(\"Classification Report of test data:\\n\\n\",classification_report(ytest,test_pred_knn3))\n",
    "print('_'*100)"
   ]
  },
  {
   "cell_type": "markdown",
   "id": "b4e04439",
   "metadata": {},
   "source": [
    "The training accuracy is 96% whereas the testing accuracy is 97%."
   ]
  },
  {
   "cell_type": "markdown",
   "id": "fd94cc3e",
   "metadata": {},
   "source": [
    "Therefore the optimum K value is 3."
   ]
  },
  {
   "cell_type": "code",
   "execution_count": 95,
   "id": "81f28874",
   "metadata": {},
   "outputs": [],
   "source": [
    "train_acc.append(knn3_train_acc)\n",
    "test_acc.append(knn3_test_acc)"
   ]
  },
  {
   "cell_type": "markdown",
   "id": "15fd9cfb",
   "metadata": {},
   "source": [
    "## Question 5: Build a Naive Bayes Classifier and comment about its accuracy."
   ]
  },
  {
   "cell_type": "markdown",
   "id": "544a462d",
   "metadata": {},
   "source": [
    "#### NAIVE BAYES:"
   ]
  },
  {
   "cell_type": "code",
   "execution_count": 96,
   "id": "c1ff6e72",
   "metadata": {},
   "outputs": [
    {
     "data": {
      "text/plain": [
       "GaussianNB()"
      ]
     },
     "execution_count": 96,
     "metadata": {},
     "output_type": "execute_result"
    }
   ],
   "source": [
    "gnb = GaussianNB()\n",
    "gnb.fit(xtrain,ytrain)"
   ]
  },
  {
   "cell_type": "code",
   "execution_count": 97,
   "id": "ce984549",
   "metadata": {},
   "outputs": [
    {
     "name": "stdout",
     "output_type": "stream",
     "text": [
      "Y Train predicted:\n",
      " [1 1 1 1 3 3 2 3 1 1 2 2 1 1 3 2 2 2 1 1 2 3 1 3 3 1 1 2 2 1 1 1 1 1 2 3 2\n",
      " 2 1 2 2 2 3 2 2 2 1 1 3 1 1 3 2 2 3 2 2 2 2 1 2 2 1 1 1 1 1 2 2 2 3 3 1 1\n",
      " 3 2 2 2 2 3 1 3 1 3 2 3 3 2 1 1 2 2 2 1 1 1 3 2 2 3 3 2 1 2 1 2 3 1 1 2 3\n",
      " 3 2 2 2 3 3 3 3 2 2 3 2 3 3 1 1 3 1 2 3 3 2 3 2 2 2 3 2 1 3 3]\n",
      "\n",
      "Y Test predicted:\n",
      " [1 3 1 2 2 1 1 1 2 3 2 3 1 3 1 2 2 1 2 1 2 2 1 1 2 2 1 3 2 3 1 3 2 3 3 3]\n"
     ]
    }
   ],
   "source": [
    "train_pred_gnb=gnb.predict(xtrain)\n",
    "test_pred_gnb=gnb.predict(xtest)\n",
    "print(\"Y Train predicted:\\n\",train_pred_gnb)\n",
    "print(\"\\nY Test predicted:\\n\",test_pred_gnb)"
   ]
  },
  {
   "cell_type": "markdown",
   "id": "9e9afd99",
   "metadata": {},
   "source": [
    "#### Checking for ACCURACY, CONFUSION MATRIX and CLASSIFICATION REPORT of test and train data:"
   ]
  },
  {
   "cell_type": "code",
   "execution_count": 98,
   "id": "23f6ef43",
   "metadata": {},
   "outputs": [
    {
     "name": "stdout",
     "output_type": "stream",
     "text": [
      "\t\t\t\t*****ACCURACY*****\n",
      "\n",
      "Accuracy of Train data: 0.9788732394366197\n",
      "\n",
      "Accuracy of Test data: 0.9722222222222222\n",
      "---------------------------------------------------------------------------\n",
      "\n",
      "Confusion matrix of Train data:\n",
      " [[46  1  0]\n",
      " [ 0 55  2]\n",
      " [ 0  0 38]]\n",
      "\n",
      "Confusion matrix of Test data:\n",
      " [[12  0  0]\n",
      " [ 1 13  0]\n",
      " [ 0  0 10]]\n",
      "---------------------------------------------------------------------------\n",
      "\n",
      "Classification Report of Train data:\n",
      "               precision    recall  f1-score   support\n",
      "\n",
      "           1       1.00      0.98      0.99        47\n",
      "           2       0.98      0.96      0.97        57\n",
      "           3       0.95      1.00      0.97        38\n",
      "\n",
      "    accuracy                           0.98       142\n",
      "   macro avg       0.98      0.98      0.98       142\n",
      "weighted avg       0.98      0.98      0.98       142\n",
      "\n",
      "\n",
      "Classification Report of Test data:\n",
      "               precision    recall  f1-score   support\n",
      "\n",
      "           1       0.92      1.00      0.96        12\n",
      "           2       1.00      0.93      0.96        14\n",
      "           3       1.00      1.00      1.00        10\n",
      "\n",
      "    accuracy                           0.97        36\n",
      "   macro avg       0.97      0.98      0.97        36\n",
      "weighted avg       0.97      0.97      0.97        36\n",
      "\n"
     ]
    }
   ],
   "source": [
    "print(\"\\t\\t\\t\\t*****ACCURACY*****\\n\")\n",
    "gnb_train_acc=accuracy_score(ytrain,train_pred_gnb)\n",
    "gnb_test_acc=accuracy_score(ytest,test_pred_gnb)\n",
    "print(\"Accuracy of Train data:\",accuracy_score(ytrain,train_pred_gnb))\n",
    "print(\"\\nAccuracy of Test data:\",accuracy_score(ytest,test_pred_gnb))\n",
    "print('-'*75)\n",
    "print(\"\\nConfusion matrix of Train data:\\n\",confusion_matrix(ytrain,train_pred_gnb))\n",
    "print(\"\\nConfusion matrix of Test data:\\n\",confusion_matrix(ytest,test_pred_gnb))\n",
    "print('-'*75)\n",
    "print(\"\\nClassification Report of Train data:\\n\",classification_report(ytrain,train_pred_gnb))\n",
    "print(\"\\nClassification Report of Test data:\\n\",classification_report(ytest,test_pred_gnb))"
   ]
  },
  {
   "cell_type": "markdown",
   "id": "8dd4b4e7",
   "metadata": {},
   "source": [
    "The model is showing a training accuracy of 97% and testing accuracy of 97%."
   ]
  },
  {
   "cell_type": "code",
   "execution_count": 99,
   "id": "c5de9d5c",
   "metadata": {},
   "outputs": [],
   "source": [
    "train_acc.append(gnb_train_acc)\n",
    "test_acc.append(gnb_test_acc)"
   ]
  },
  {
   "cell_type": "markdown",
   "id": "cde3ac41",
   "metadata": {},
   "source": [
    "## Question 4: Build a SVM Classifier and tune the hyperparameters to get the optimum model."
   ]
  },
  {
   "cell_type": "markdown",
   "id": "3d3cbe25",
   "metadata": {},
   "source": [
    "#### SUPPORT VECTOR MACHINES (SVM):"
   ]
  },
  {
   "cell_type": "code",
   "execution_count": 100,
   "id": "dfde002f",
   "metadata": {},
   "outputs": [
    {
     "data": {
      "text/plain": [
       "SVC(random_state=42)"
      ]
     },
     "execution_count": 100,
     "metadata": {},
     "output_type": "execute_result"
    }
   ],
   "source": [
    "svm=SVC(random_state=42)\n",
    "svm.fit(xtrain,ytrain)"
   ]
  },
  {
   "cell_type": "code",
   "execution_count": 101,
   "id": "b72211ef",
   "metadata": {},
   "outputs": [
    {
     "name": "stdout",
     "output_type": "stream",
     "text": [
      "Y Train predicted:\n",
      " [1 1 1 1 3 3 2 3 1 1 2 2 1 1 3 2 2 2 1 1 2 3 1 3 3 1 1 2 2 1 1 1 1 1 2 3 1\n",
      " 2 1 2 2 2 2 2 2 2 1 1 3 1 1 3 2 2 3 2 2 2 2 1 2 2 1 1 1 1 1 2 2 2 3 3 1 1\n",
      " 3 2 2 2 2 3 1 3 1 3 2 3 3 2 1 1 2 2 2 1 1 1 3 2 2 2 3 2 1 2 1 2 3 1 1 2 3\n",
      " 3 2 2 2 3 3 3 3 2 2 3 2 3 3 1 1 3 1 2 3 3 2 3 2 2 2 3 2 1 3 3]\n",
      "\n",
      "Y Test predicted:\n",
      " [1 3 1 2 2 1 1 2 2 3 2 3 1 3 1 2 2 1 2 1 2 2 1 1 2 2 1 3 2 3 1 3 2 3 3 3]\n"
     ]
    }
   ],
   "source": [
    "train_pred_svm=svm.predict(xtrain)\n",
    "test_pred_svm=svm.predict(xtest)\n",
    "print(\"Y Train predicted:\\n\",train_pred_svm)\n",
    "print(\"\\nY Test predicted:\\n\",test_pred_svm)"
   ]
  },
  {
   "cell_type": "markdown",
   "id": "3983fd97",
   "metadata": {},
   "source": [
    "#### Checking for ACCURACY, CONFUSION MATRIX and CLASSIFICATION REPORT of test and train data:"
   ]
  },
  {
   "cell_type": "code",
   "execution_count": 102,
   "id": "c50dff63",
   "metadata": {},
   "outputs": [
    {
     "name": "stdout",
     "output_type": "stream",
     "text": [
      "\t\t\t\t*****ACCURACY*****\n",
      "\n",
      "Accuracy of Train data: 1.0\n",
      "\n",
      "Accuracy of Test data: 1.0\n",
      "---------------------------------------------------------------------------\n",
      "\n",
      "Confusion matrix of Train data:\n",
      " [[47  0  0]\n",
      " [ 0 57  0]\n",
      " [ 0  0 38]]\n",
      "\n",
      "Confusion matrix of Test data:\n",
      " [[12  0  0]\n",
      " [ 0 14  0]\n",
      " [ 0  0 10]]\n",
      "---------------------------------------------------------------------------\n",
      "\n",
      "Classification Report of Train data:\n",
      "               precision    recall  f1-score   support\n",
      "\n",
      "           1       1.00      1.00      1.00        47\n",
      "           2       1.00      1.00      1.00        57\n",
      "           3       1.00      1.00      1.00        38\n",
      "\n",
      "    accuracy                           1.00       142\n",
      "   macro avg       1.00      1.00      1.00       142\n",
      "weighted avg       1.00      1.00      1.00       142\n",
      "\n",
      "\n",
      "Classification Report of Test data:\n",
      "               precision    recall  f1-score   support\n",
      "\n",
      "           1       1.00      1.00      1.00        12\n",
      "           2       1.00      1.00      1.00        14\n",
      "           3       1.00      1.00      1.00        10\n",
      "\n",
      "    accuracy                           1.00        36\n",
      "   macro avg       1.00      1.00      1.00        36\n",
      "weighted avg       1.00      1.00      1.00        36\n",
      "\n"
     ]
    }
   ],
   "source": [
    "print(\"\\t\\t\\t\\t*****ACCURACY*****\\n\")\n",
    "svm_train_acc=accuracy_score(ytrain,train_pred_svm)\n",
    "svm_test_acc=accuracy_score(ytest,test_pred_svm)\n",
    "print(\"Accuracy of Train data:\",accuracy_score(ytrain,train_pred_svm))\n",
    "print(\"\\nAccuracy of Test data:\",accuracy_score(ytest,test_pred_svm))\n",
    "print('-'*75)\n",
    "print(\"\\nConfusion matrix of Train data:\\n\",confusion_matrix(ytrain,train_pred_svm))\n",
    "print(\"\\nConfusion matrix of Test data:\\n\",confusion_matrix(ytest,test_pred_svm))\n",
    "print('-'*75)\n",
    "print(\"\\nClassification Report of Train data:\\n\",classification_report(ytrain,train_pred_svm))\n",
    "print(\"\\nClassification Report of Test data:\\n\",classification_report(ytest,test_pred_svm))"
   ]
  },
  {
   "cell_type": "markdown",
   "id": "1db1399e",
   "metadata": {},
   "source": [
    "Model accuracy is 100% for both test and train."
   ]
  },
  {
   "cell_type": "code",
   "execution_count": 103,
   "id": "733604bc",
   "metadata": {},
   "outputs": [],
   "source": [
    "train_acc.append(svm_train_acc)\n",
    "test_acc.append(svm_test_acc)"
   ]
  },
  {
   "cell_type": "markdown",
   "id": "ede001dc",
   "metadata": {},
   "source": [
    "#### Fine tuning SVM:"
   ]
  },
  {
   "cell_type": "code",
   "execution_count": 104,
   "id": "c8300dc9",
   "metadata": {},
   "outputs": [
    {
     "data": {
      "text/plain": [
       "{'C': [0.1, 1, 10, 100, 1000],\n",
       " 'gamma': [1, 0.1, 0.01, 0.001, 0.0001],\n",
       " 'kernel': ['rbf']}"
      ]
     },
     "execution_count": 104,
     "metadata": {},
     "output_type": "execute_result"
    }
   ],
   "source": [
    "params_svm = { 'C': [0.1,1,10,100,1000],\n",
    "               'gamma':[1,0.1,0.01,0.001,0.0001],\n",
    "               'kernel':['rbf']\n",
    "            }\n",
    "params_svm"
   ]
  },
  {
   "cell_type": "code",
   "execution_count": 105,
   "id": "cb7b9cef",
   "metadata": {},
   "outputs": [
    {
     "data": {
      "text/plain": [
       "GridSearchCV(cv=5, estimator=SVC(random_state=42),\n",
       "             param_grid={'C': [0.1, 1, 10, 100, 1000],\n",
       "                         'gamma': [1, 0.1, 0.01, 0.001, 0.0001],\n",
       "                         'kernel': ['rbf']})"
      ]
     },
     "execution_count": 105,
     "metadata": {},
     "output_type": "execute_result"
    }
   ],
   "source": [
    "gscv_svm=GridSearchCV(estimator=svm,param_grid=params_svm,cv=5)\n",
    "gscv_svm.fit(xtrain,ytrain)"
   ]
  },
  {
   "cell_type": "code",
   "execution_count": 106,
   "id": "ff4618a3",
   "metadata": {},
   "outputs": [
    {
     "data": {
      "text/plain": [
       "SVC(C=1, gamma=1, random_state=42)"
      ]
     },
     "execution_count": 106,
     "metadata": {},
     "output_type": "execute_result"
    }
   ],
   "source": [
    "gscv_svm.best_estimator_"
   ]
  },
  {
   "cell_type": "code",
   "execution_count": 107,
   "id": "706fb436",
   "metadata": {},
   "outputs": [
    {
     "data": {
      "text/plain": [
       "SVC(C=1, gamma=1, random_state=42)"
      ]
     },
     "execution_count": 107,
     "metadata": {},
     "output_type": "execute_result"
    }
   ],
   "source": [
    "svm1=SVC(C=1, gamma=1, random_state=42)\n",
    "svm1.fit(xtrain,ytrain)"
   ]
  },
  {
   "cell_type": "code",
   "execution_count": 108,
   "id": "aac0333c",
   "metadata": {},
   "outputs": [
    {
     "name": "stdout",
     "output_type": "stream",
     "text": [
      "Y Train predicted:\n",
      " [1 1 1 1 3 3 2 3 1 1 2 2 1 1 3 2 2 2 1 1 2 3 1 3 3 1 1 2 2 1 1 1 1 1 2 3 1\n",
      " 2 1 2 2 2 2 2 2 2 1 1 3 1 1 3 2 2 3 2 2 2 2 1 2 2 1 1 1 1 1 2 2 2 3 3 1 1\n",
      " 3 2 2 2 2 3 1 3 1 3 2 3 3 2 1 1 2 2 2 1 1 1 3 2 2 2 3 2 1 2 1 2 3 1 1 2 3\n",
      " 3 2 2 2 3 3 3 3 2 2 3 2 3 3 1 1 3 1 2 3 3 2 3 2 2 2 3 2 1 3 3]\n",
      "\n",
      "Y Test predicted:\n",
      " [1 3 1 2 2 1 1 2 2 3 2 3 1 3 1 2 2 1 2 1 2 2 1 1 2 2 1 3 2 3 1 3 2 3 3 3]\n"
     ]
    }
   ],
   "source": [
    "train_pred_svm1=svm1.predict(xtrain)\n",
    "test_pred_svm1=svm1.predict(xtest)\n",
    "print(\"Y Train predicted:\\n\",train_pred_svm1)\n",
    "print(\"\\nY Test predicted:\\n\",test_pred_svm1)"
   ]
  },
  {
   "cell_type": "markdown",
   "id": "9daa4952",
   "metadata": {},
   "source": [
    "#### Checking for ACCURACY, CONFUSION MATRIX and CLASSIFICATION REPORT of test and train data:"
   ]
  },
  {
   "cell_type": "code",
   "execution_count": 109,
   "id": "222b56e4",
   "metadata": {},
   "outputs": [
    {
     "name": "stdout",
     "output_type": "stream",
     "text": [
      "\t\t\t\t*****ACCURACY*****\n",
      "\n",
      "Accuracy of Train data: 1.0\n",
      "\n",
      "Accuracy of Test data: 1.0\n",
      "---------------------------------------------------------------------------\n",
      "\n",
      "Confusion matrix of Train data:\n",
      " [[47  0  0]\n",
      " [ 0 57  0]\n",
      " [ 0  0 38]]\n",
      "\n",
      "Confusion matrix of Test data:\n",
      " [[12  0  0]\n",
      " [ 0 14  0]\n",
      " [ 0  0 10]]\n",
      "---------------------------------------------------------------------------\n",
      "\n",
      "Classification Report of Train data:\n",
      "               precision    recall  f1-score   support\n",
      "\n",
      "           1       1.00      1.00      1.00        47\n",
      "           2       1.00      1.00      1.00        57\n",
      "           3       1.00      1.00      1.00        38\n",
      "\n",
      "    accuracy                           1.00       142\n",
      "   macro avg       1.00      1.00      1.00       142\n",
      "weighted avg       1.00      1.00      1.00       142\n",
      "\n",
      "\n",
      "Classification Report of Test data:\n",
      "               precision    recall  f1-score   support\n",
      "\n",
      "           1       1.00      1.00      1.00        12\n",
      "           2       1.00      1.00      1.00        14\n",
      "           3       1.00      1.00      1.00        10\n",
      "\n",
      "    accuracy                           1.00        36\n",
      "   macro avg       1.00      1.00      1.00        36\n",
      "weighted avg       1.00      1.00      1.00        36\n",
      "\n"
     ]
    }
   ],
   "source": [
    "print(\"\\t\\t\\t\\t*****ACCURACY*****\\n\")\n",
    "svm_train_acc1=accuracy_score(ytrain,train_pred_svm1)\n",
    "svm_test_acc1=accuracy_score(ytest,test_pred_svm1)\n",
    "print(\"Accuracy of Train data:\",accuracy_score(ytrain,train_pred_svm1))\n",
    "print(\"\\nAccuracy of Test data:\",accuracy_score(ytest,test_pred_svm1))\n",
    "print('-'*75)\n",
    "print(\"\\nConfusion matrix of Train data:\\n\",confusion_matrix(ytrain,train_pred_svm1))\n",
    "print(\"\\nConfusion matrix of Test data:\\n\",confusion_matrix(ytest,test_pred_svm1))\n",
    "print('-'*75)\n",
    "print(\"\\nClassification Report of Train data:\\n\",classification_report(ytrain,train_pred_svm1))\n",
    "print(\"\\nClassification Report of Test data:\\n\",classification_report(ytest,test_pred_svm1))"
   ]
  },
  {
   "cell_type": "markdown",
   "id": "36bd4beb",
   "metadata": {},
   "source": [
    "## Question 6: Compare all of the models and justify your choice about the optimum model."
   ]
  },
  {
   "cell_type": "markdown",
   "id": "9d4bc396",
   "metadata": {},
   "source": [
    "#### Comparing all of the models based on their accuracy:"
   ]
  },
  {
   "cell_type": "markdown",
   "id": "60347dc0",
   "metadata": {},
   "source": [
    "#### Cross-Validation:"
   ]
  },
  {
   "cell_type": "code",
   "execution_count": 110,
   "id": "7666ffa8",
   "metadata": {},
   "outputs": [
    {
     "name": "stdout",
     "output_type": "stream",
     "text": [
      "Cross validation score of LOGISTIC REGRESSION: [1.         0.93103448 1.         1.         1.        ]\n"
     ]
    }
   ],
   "source": [
    "crossval_lr=cross_val_score(lom,xtrain,ytrain,cv=5)\n",
    "print(\"Cross validation score of LOGISTIC REGRESSION:\",crossval_lr)"
   ]
  },
  {
   "cell_type": "code",
   "execution_count": 111,
   "id": "b20f4892",
   "metadata": {},
   "outputs": [
    {
     "name": "stdout",
     "output_type": "stream",
     "text": [
      "Cross validation score of DECISION TREE: [0.82758621 0.86206897 0.92857143 0.89285714 0.96428571]\n"
     ]
    }
   ],
   "source": [
    "crossval_dt=cross_val_score(dt1,xtrain,ytrain,cv=5)\n",
    "print(\"Cross validation score of DECISION TREE:\",crossval_dt)"
   ]
  },
  {
   "cell_type": "code",
   "execution_count": 112,
   "id": "7c0e47aa",
   "metadata": {},
   "outputs": [
    {
     "name": "stdout",
     "output_type": "stream",
     "text": [
      "Cross validation score of RANDOM FOREST before dropping 'Research': [1.         0.93103448 1.         0.96428571 1.        ]\n"
     ]
    }
   ],
   "source": [
    "crossval_rf1=cross_val_score(rf2,xtrain,ytrain,cv=5)\n",
    "print(\"Cross validation score of RANDOM FOREST before dropping 'Research':\",crossval_rf1)"
   ]
  },
  {
   "cell_type": "code",
   "execution_count": 113,
   "id": "d87295ee",
   "metadata": {},
   "outputs": [
    {
     "name": "stdout",
     "output_type": "stream",
     "text": [
      "Cross validation score of RANDOM FOREST after dropping 'Research': [1. 1. 1. 1. 1.]\n"
     ]
    }
   ],
   "source": [
    "crossval_rf2=cross_val_score(rf4,xtrain1,ytrain1,cv=5)\n",
    "print(\"Cross validation score of RANDOM FOREST after dropping 'Research':\",crossval_rf2)"
   ]
  },
  {
   "cell_type": "code",
   "execution_count": 114,
   "id": "d9477b44",
   "metadata": {},
   "outputs": [
    {
     "name": "stdout",
     "output_type": "stream",
     "text": [
      "Cross validation score of RANDOM FOREST after dropping 'Research': [1. 1. 1. 1. 1.]\n"
     ]
    }
   ],
   "source": [
    "crossval_rf3=cross_val_score(rf5,xtrain1,ytrain1,cv=5)\n",
    "print(\"Cross validation score of RANDOM FOREST after dropping 'Research':\",crossval_rf2)"
   ]
  },
  {
   "cell_type": "code",
   "execution_count": 115,
   "id": "4caf990d",
   "metadata": {},
   "outputs": [
    {
     "name": "stdout",
     "output_type": "stream",
     "text": [
      "Cross validation score of BAGGING CLASSIFIER': [0.82758621 0.93103448 1.         0.96428571 0.96428571]\n"
     ]
    }
   ],
   "source": [
    "crossval_bc=cross_val_score(bc,xtrain,ytrain,cv=5)\n",
    "print(\"Cross validation score of BAGGING CLASSIFIER':\",crossval_bc)"
   ]
  },
  {
   "cell_type": "code",
   "execution_count": 116,
   "id": "c86088a9",
   "metadata": {},
   "outputs": [
    {
     "name": "stdout",
     "output_type": "stream",
     "text": [
      "Cross validation score of KNN for K=3': [0.96551724 0.89655172 0.96428571 0.96428571 0.96428571]\n"
     ]
    }
   ],
   "source": [
    "crossval_knn3=cross_val_score(knn3,xtrain,ytrain,cv=5)\n",
    "print(\"Cross validation score of KNN for K=3':\",crossval_knn3)"
   ]
  },
  {
   "cell_type": "code",
   "execution_count": 117,
   "id": "dd8ae3fa",
   "metadata": {},
   "outputs": [
    {
     "name": "stdout",
     "output_type": "stream",
     "text": [
      "Cross validation score of GAUSSIAN NAIVE BAYES': [1.         0.93103448 1.         0.92857143 1.        ]\n"
     ]
    }
   ],
   "source": [
    "crossval_gnb=cross_val_score(gnb,xtrain,ytrain,cv=5)\n",
    "print(\"Cross validation score of GAUSSIAN NAIVE BAYES':\",crossval_gnb)"
   ]
  },
  {
   "cell_type": "code",
   "execution_count": 118,
   "id": "b03b793f",
   "metadata": {},
   "outputs": [
    {
     "name": "stdout",
     "output_type": "stream",
     "text": [
      "Cross validation score of SUPPORT VECTOR MACHINE': [1.         0.93103448 1.         1.         1.        ]\n"
     ]
    }
   ],
   "source": [
    "crossval_svm=cross_val_score(svm,xtrain,ytrain,cv=5)\n",
    "print(\"Cross validation score of SUPPORT VECTOR MACHINE':\",crossval_svm)"
   ]
  },
  {
   "cell_type": "code",
   "execution_count": 119,
   "id": "fc6e9390",
   "metadata": {},
   "outputs": [
    {
     "data": {
      "text/html": [
       "<div>\n",
       "<style scoped>\n",
       "    .dataframe tbody tr th:only-of-type {\n",
       "        vertical-align: middle;\n",
       "    }\n",
       "\n",
       "    .dataframe tbody tr th {\n",
       "        vertical-align: top;\n",
       "    }\n",
       "\n",
       "    .dataframe thead th {\n",
       "        text-align: right;\n",
       "    }\n",
       "</style>\n",
       "<table border=\"1\" class=\"dataframe\">\n",
       "  <thead>\n",
       "    <tr style=\"text-align: right;\">\n",
       "      <th></th>\n",
       "      <th>Logistic Regression</th>\n",
       "      <th>Decision Tree 1</th>\n",
       "      <th>Random Forest 2</th>\n",
       "      <th>Random Forest 4</th>\n",
       "      <th>Random Forest 5</th>\n",
       "      <th>Bagging Classifier</th>\n",
       "      <th>K Nearest Neighbor (k=3)</th>\n",
       "      <th>Naive Bayes</th>\n",
       "      <th>Support Vector Machine</th>\n",
       "    </tr>\n",
       "  </thead>\n",
       "  <tbody>\n",
       "    <tr>\n",
       "      <th>0</th>\n",
       "      <td>1.000000</td>\n",
       "      <td>0.827586</td>\n",
       "      <td>1.000000</td>\n",
       "      <td>1.0</td>\n",
       "      <td>1.0</td>\n",
       "      <td>0.827586</td>\n",
       "      <td>0.965517</td>\n",
       "      <td>1.000000</td>\n",
       "      <td>1.000000</td>\n",
       "    </tr>\n",
       "    <tr>\n",
       "      <th>1</th>\n",
       "      <td>0.931034</td>\n",
       "      <td>0.862069</td>\n",
       "      <td>0.931034</td>\n",
       "      <td>1.0</td>\n",
       "      <td>1.0</td>\n",
       "      <td>0.931034</td>\n",
       "      <td>0.896552</td>\n",
       "      <td>0.931034</td>\n",
       "      <td>0.931034</td>\n",
       "    </tr>\n",
       "    <tr>\n",
       "      <th>2</th>\n",
       "      <td>1.000000</td>\n",
       "      <td>0.928571</td>\n",
       "      <td>1.000000</td>\n",
       "      <td>1.0</td>\n",
       "      <td>1.0</td>\n",
       "      <td>1.000000</td>\n",
       "      <td>0.964286</td>\n",
       "      <td>1.000000</td>\n",
       "      <td>1.000000</td>\n",
       "    </tr>\n",
       "    <tr>\n",
       "      <th>3</th>\n",
       "      <td>1.000000</td>\n",
       "      <td>0.892857</td>\n",
       "      <td>0.964286</td>\n",
       "      <td>1.0</td>\n",
       "      <td>1.0</td>\n",
       "      <td>0.964286</td>\n",
       "      <td>0.964286</td>\n",
       "      <td>0.928571</td>\n",
       "      <td>1.000000</td>\n",
       "    </tr>\n",
       "    <tr>\n",
       "      <th>4</th>\n",
       "      <td>1.000000</td>\n",
       "      <td>0.964286</td>\n",
       "      <td>1.000000</td>\n",
       "      <td>1.0</td>\n",
       "      <td>1.0</td>\n",
       "      <td>0.964286</td>\n",
       "      <td>0.964286</td>\n",
       "      <td>1.000000</td>\n",
       "      <td>1.000000</td>\n",
       "    </tr>\n",
       "  </tbody>\n",
       "</table>\n",
       "</div>"
      ],
      "text/plain": [
       "   Logistic Regression  Decision Tree 1  Random Forest 2  Random Forest 4  \\\n",
       "0             1.000000         0.827586         1.000000              1.0   \n",
       "1             0.931034         0.862069         0.931034              1.0   \n",
       "2             1.000000         0.928571         1.000000              1.0   \n",
       "3             1.000000         0.892857         0.964286              1.0   \n",
       "4             1.000000         0.964286         1.000000              1.0   \n",
       "\n",
       "   Random Forest 5  Bagging Classifier  K Nearest Neighbor (k=3)  Naive Bayes  \\\n",
       "0              1.0            0.827586                  0.965517     1.000000   \n",
       "1              1.0            0.931034                  0.896552     0.931034   \n",
       "2              1.0            1.000000                  0.964286     1.000000   \n",
       "3              1.0            0.964286                  0.964286     0.928571   \n",
       "4              1.0            0.964286                  0.964286     1.000000   \n",
       "\n",
       "   Support Vector Machine  \n",
       "0                1.000000  \n",
       "1                0.931034  \n",
       "2                1.000000  \n",
       "3                1.000000  \n",
       "4                1.000000  "
      ]
     },
     "execution_count": 119,
     "metadata": {},
     "output_type": "execute_result"
    }
   ],
   "source": [
    "crossval=pd.DataFrame({'Logistic Regression':crossval_lr,\n",
    "                       'Decision Tree 1':crossval_dt,\n",
    "                       'Random Forest 2':crossval_rf1,\n",
    "                       'Random Forest 4':crossval_rf2,\n",
    "                       'Random Forest 5':crossval_rf3,\n",
    "                       'Bagging Classifier':crossval_bc,\n",
    "                       'K Nearest Neighbor (k=3)':crossval_knn3,\n",
    "                       'Naive Bayes':crossval_gnb,\n",
    "                       'Support Vector Machine':crossval_svm})\n",
    "crossval"
   ]
  },
  {
   "cell_type": "code",
   "execution_count": 120,
   "id": "4fa8db13",
   "metadata": {},
   "outputs": [
    {
     "data": {
      "image/png": "[encoded data removed]",
      "text/plain": [
       "<Figure size 1440x576 with 1 Axes>"
      ]
     },
     "metadata": {
      "needs_background": "light"
     },
     "output_type": "display_data"
    }
   ],
   "source": [
    "fig_dims = (20, 8)\n",
    "fig, ax = plt.subplots(figsize=fig_dims)\n",
    "sns.boxplot(data=crossval)\n",
    "plt.show()"
   ]
  },
  {
   "cell_type": "code",
   "execution_count": 121,
   "id": "c04b63ba",
   "metadata": {},
   "outputs": [],
   "source": [
    "summary = pd.DataFrame(columns=['Model','Train Accuracy','Test Accuracy'])\n",
    "models = ['Logistic Regression','Decision Tree 1','Random Forest 2','Random Forest 4','Random Forest 5','Bagging Classifier','K Nearest Neighbor (k=3)','Naive Bayes','Support Vector Machine (SVM)']"
   ]
  },
  {
   "cell_type": "code",
   "execution_count": 122,
   "id": "ef444007",
   "metadata": {},
   "outputs": [],
   "source": [
    "summary['Model']=models"
   ]
  },
  {
   "cell_type": "code",
   "execution_count": 123,
   "id": "9f85b239",
   "metadata": {},
   "outputs": [],
   "source": [
    "train_acc=[lr_train_acc,dt1_train_acc,rf2_train_acc,rf4_train_acc,rf5_train_acc,bc_train_acc,knn3_train_acc,gnb_train_acc,svm_train_acc]\n",
    "test_acc=[lr_test_acc,dt1_test_acc,rf2_test_acc,rf4_test_acc,rf5_test_acc,bc_test_acc,knn3_test_acc,gnb_test_acc,svm_test_acc]\n",
    "summary['Train Accuracy']=train_acc\n",
    "summary['Test Accuracy']=test_acc"
   ]
  },
  {
   "cell_type": "code",
   "execution_count": 124,
   "id": "dba5b258",
   "metadata": {},
   "outputs": [
    {
     "data": {
      "text/html": [
       "<div>\n",
       "<style scoped>\n",
       "    .dataframe tbody tr th:only-of-type {\n",
       "        vertical-align: middle;\n",
       "    }\n",
       "\n",
       "    .dataframe tbody tr th {\n",
       "        vertical-align: top;\n",
       "    }\n",
       "\n",
       "    .dataframe thead th {\n",
       "        text-align: right;\n",
       "    }\n",
       "</style>\n",
       "<table border=\"1\" class=\"dataframe\">\n",
       "  <thead>\n",
       "    <tr style=\"text-align: right;\">\n",
       "      <th></th>\n",
       "      <th>Model</th>\n",
       "      <th>Train Accuracy</th>\n",
       "      <th>Test Accuracy</th>\n",
       "    </tr>\n",
       "  </thead>\n",
       "  <tbody>\n",
       "    <tr>\n",
       "      <th>0</th>\n",
       "      <td>Logistic Regression</td>\n",
       "      <td>0.985915</td>\n",
       "      <td>1.000000</td>\n",
       "    </tr>\n",
       "    <tr>\n",
       "      <th>1</th>\n",
       "      <td>Decision Tree 1</td>\n",
       "      <td>0.929577</td>\n",
       "      <td>0.861111</td>\n",
       "    </tr>\n",
       "    <tr>\n",
       "      <th>2</th>\n",
       "      <td>Random Forest 2</td>\n",
       "      <td>0.985915</td>\n",
       "      <td>0.972222</td>\n",
       "    </tr>\n",
       "    <tr>\n",
       "      <th>3</th>\n",
       "      <td>Random Forest 4</td>\n",
       "      <td>1.000000</td>\n",
       "      <td>1.000000</td>\n",
       "    </tr>\n",
       "    <tr>\n",
       "      <th>4</th>\n",
       "      <td>Random Forest 5</td>\n",
       "      <td>1.000000</td>\n",
       "      <td>1.000000</td>\n",
       "    </tr>\n",
       "    <tr>\n",
       "      <th>5</th>\n",
       "      <td>Bagging Classifier</td>\n",
       "      <td>0.387324</td>\n",
       "      <td>0.361111</td>\n",
       "    </tr>\n",
       "    <tr>\n",
       "      <th>6</th>\n",
       "      <td>K Nearest Neighbor (k=3)</td>\n",
       "      <td>0.964789</td>\n",
       "      <td>0.972222</td>\n",
       "    </tr>\n",
       "    <tr>\n",
       "      <th>7</th>\n",
       "      <td>Naive Bayes</td>\n",
       "      <td>0.978873</td>\n",
       "      <td>0.972222</td>\n",
       "    </tr>\n",
       "    <tr>\n",
       "      <th>8</th>\n",
       "      <td>Support Vector Machine (SVM)</td>\n",
       "      <td>1.000000</td>\n",
       "      <td>1.000000</td>\n",
       "    </tr>\n",
       "  </tbody>\n",
       "</table>\n",
       "</div>"
      ],
      "text/plain": [
       "                          Model  Train Accuracy  Test Accuracy\n",
       "0           Logistic Regression        0.985915       1.000000\n",
       "1               Decision Tree 1        0.929577       0.861111\n",
       "2               Random Forest 2        0.985915       0.972222\n",
       "3               Random Forest 4        1.000000       1.000000\n",
       "4               Random Forest 5        1.000000       1.000000\n",
       "5            Bagging Classifier        0.387324       0.361111\n",
       "6      K Nearest Neighbor (k=3)        0.964789       0.972222\n",
       "7                   Naive Bayes        0.978873       0.972222\n",
       "8  Support Vector Machine (SVM)        1.000000       1.000000"
      ]
     },
     "execution_count": 124,
     "metadata": {},
     "output_type": "execute_result"
    }
   ],
   "source": [
    "summary"
   ]
  },
  {
   "cell_type": "markdown",
   "id": "20b0e50e",
   "metadata": {},
   "source": [
    "The optimum model I choose is KNN(K=3) which is not fine tuned. So, I'll do GSCV in KNN. But, Random Forest 2(which was fine tuned) has low variance in the cross validation and the next optimum model is Decision Tree 1(which is also fine tuned). The models which show maximum accuracy without fine tuning are KNN with k=3 and Naive Bayes."
   ]
  },
  {
   "cell_type": "markdown",
   "id": "17242ece",
   "metadata": {},
   "source": [
    "### Grid Search CV:"
   ]
  },
  {
   "cell_type": "code",
   "execution_count": 125,
   "id": "9eea1060",
   "metadata": {},
   "outputs": [
    {
     "data": {
      "text/plain": [
       "{'n_neighbors': [3, 5, 7, 9, 11, 13],\n",
       " 'algorithm': ['auto', 'ball_tree', 'kd_tree', 'brute'],\n",
       " 'leaf_size': [10, 20, 30]}"
      ]
     },
     "execution_count": 125,
     "metadata": {},
     "output_type": "execute_result"
    }
   ],
   "source": [
    "params_knn = {\n",
    "                'n_neighbors':[3,5,7,9,11,13],\n",
    "                'algorithm':['auto', 'ball_tree', 'kd_tree', 'brute'],\n",
    "                'leaf_size':[10,20,30]    \n",
    "            }\n",
    "params_knn"
   ]
  },
  {
   "cell_type": "code",
   "execution_count": 126,
   "id": "8ee0fcc9",
   "metadata": {},
   "outputs": [],
   "source": [
    "gscv_knn=GridSearchCV(estimator=knn,param_grid=params_knn,cv=10)"
   ]
  },
  {
   "cell_type": "code",
   "execution_count": 127,
   "id": "074d37ac",
   "metadata": {},
   "outputs": [
    {
     "data": {
      "text/plain": [
       "GridSearchCV(cv=10, estimator=KNeighborsClassifier(n_neighbors=13),\n",
       "             param_grid={'algorithm': ['auto', 'ball_tree', 'kd_tree', 'brute'],\n",
       "                         'leaf_size': [10, 20, 30],\n",
       "                         'n_neighbors': [3, 5, 7, 9, 11, 13]})"
      ]
     },
     "execution_count": 127,
     "metadata": {},
     "output_type": "execute_result"
    }
   ],
   "source": [
    "gscv_knn.fit(xtrain,ytrain)"
   ]
  },
  {
   "cell_type": "code",
   "execution_count": 128,
   "id": "d4098be6",
   "metadata": {},
   "outputs": [
    {
     "data": {
      "text/plain": [
       "KNeighborsClassifier(leaf_size=10, n_neighbors=13)"
      ]
     },
     "execution_count": 128,
     "metadata": {},
     "output_type": "execute_result"
    }
   ],
   "source": [
    "gscv_knn.best_estimator_"
   ]
  },
  {
   "cell_type": "code",
   "execution_count": 129,
   "id": "1c178ab2",
   "metadata": {},
   "outputs": [
    {
     "data": {
      "text/plain": [
       "KNeighborsClassifier(leaf_size=10, n_neighbors=13)"
      ]
     },
     "execution_count": 129,
     "metadata": {},
     "output_type": "execute_result"
    }
   ],
   "source": [
    "knn_new = KNeighborsClassifier(leaf_size=10, n_neighbors=13)\n",
    "knn_new.fit(xtrain,ytrain)"
   ]
  },
  {
   "cell_type": "code",
   "execution_count": 130,
   "id": "779aba9b",
   "metadata": {},
   "outputs": [
    {
     "name": "stdout",
     "output_type": "stream",
     "text": [
      "Y Train predicted:\n",
      " [1 1 1 1 3 3 2 3 1 1 2 2 1 1 3 2 2 2 1 1 2 3 1 3 3 1 1 2 2 1 1 1 1 1 2 3 1\n",
      " 2 1 2 1 2 3 2 2 2 1 1 3 1 1 3 2 2 3 2 3 2 2 1 2 2 1 1 1 1 1 2 2 3 3 3 1 1\n",
      " 3 2 2 2 2 3 1 3 1 3 1 3 3 2 1 1 2 2 2 1 1 1 3 2 2 2 3 2 1 2 1 2 3 1 1 2 3\n",
      " 3 2 2 2 3 3 3 3 2 2 3 2 3 3 1 1 3 1 2 3 3 2 3 2 2 2 3 2 1 3 3]\n",
      "\n",
      "Y Test predicted:\n",
      " [1 3 1 2 2 1 1 1 2 3 2 3 1 3 1 2 2 1 2 1 2 2 1 1 2 2 1 3 2 3 1 3 2 3 3 3]\n"
     ]
    }
   ],
   "source": [
    "train_pred_knn_new=knn_new.predict(xtrain)\n",
    "test_pred_knn_new=knn_new.predict(xtest)\n",
    "print(\"Y Train predicted:\\n\",train_pred_knn_new)\n",
    "print(\"\\nY Test predicted:\\n\",test_pred_knn_new)"
   ]
  },
  {
   "cell_type": "code",
   "execution_count": 131,
   "id": "03efbe31",
   "metadata": {},
   "outputs": [
    {
     "name": "stdout",
     "output_type": "stream",
     "text": [
      "\t\t\t\t*****ACCURACY*****\n",
      "\n",
      "Training accuracy: 0.9647887323943662\n",
      "Testing accuracy: 0.9722222222222222\n",
      "____________________________________________________________________________________________________\n",
      "\n",
      "\t\t\t\t*****CONFUSION MATRIX*****\n",
      "\n",
      "Confustion matrix of train data:\n",
      " [[47  0  0]\n",
      " [ 2 52  3]\n",
      " [ 0  0 38]]\n",
      "\n",
      "Confustion matrix of test data:\n",
      " [[12  0  0]\n",
      " [ 1 13  0]\n",
      " [ 0  0 10]]\n",
      "____________________________________________________________________________________________________\n",
      "\n",
      "\t\t\t\t*****CLASSIFICATION REPORT*****\n",
      "\n",
      "Classification Report of train data:\n",
      "\n",
      "               precision    recall  f1-score   support\n",
      "\n",
      "           1       0.96      1.00      0.98        47\n",
      "           2       1.00      0.91      0.95        57\n",
      "           3       0.93      1.00      0.96        38\n",
      "\n",
      "    accuracy                           0.96       142\n",
      "   macro avg       0.96      0.97      0.97       142\n",
      "weighted avg       0.97      0.96      0.96       142\n",
      "\n",
      "---------------------------------------------------------------------------\n",
      "Classification Report of test data:\n",
      "\n",
      "               precision    recall  f1-score   support\n",
      "\n",
      "           1       0.92      1.00      0.96        12\n",
      "           2       1.00      0.93      0.96        14\n",
      "           3       1.00      1.00      1.00        10\n",
      "\n",
      "    accuracy                           0.97        36\n",
      "   macro avg       0.97      0.98      0.97        36\n",
      "weighted avg       0.97      0.97      0.97        36\n",
      "\n",
      "____________________________________________________________________________________________________\n"
     ]
    }
   ],
   "source": [
    "print(\"\\t\\t\\t\\t*****ACCURACY*****\\n\")\n",
    "print(\"Training accuracy:\",accuracy_score(ytrain,train_pred_knn_new))\n",
    "print(\"Testing accuracy:\",accuracy_score(ytest,test_pred_knn_new))\n",
    "print('_'*100)\n",
    "\n",
    "print(\"\\n\\t\\t\\t\\t*****CONFUSION MATRIX*****\\n\")\n",
    "print(\"Confustion matrix of train data:\\n\",confusion_matrix(ytrain,train_pred_knn_new))\n",
    "print(\"\\nConfustion matrix of test data:\\n\",confusion_matrix(ytest,test_pred_knn_new))\n",
    "print('_'*100)\n",
    "\n",
    "print(\"\\n\\t\\t\\t\\t*****CLASSIFICATION REPORT*****\\n\")\n",
    "print(\"Classification Report of train data:\\n\\n\",classification_report(ytrain,train_pred_knn_new))\n",
    "print('-'*75)\n",
    "print(\"Classification Report of test data:\\n\\n\",classification_report(ytest,test_pred_knn_new))\n",
    "print('_'*100)"
   ]
  },
  {
   "cell_type": "markdown",
   "id": "3fe7e2b6",
   "metadata": {},
   "source": [
    "The Training accuracy is 96% and testing accuracy is 97%. This is the same accuracy we got before fine tuning. Since this is very high we cannot further increase it by fine tuning."
   ]
  },
  {
   "cell_type": "code",
   "execution_count": 132,
   "id": "db1e5217",
   "metadata": {},
   "outputs": [
    {
     "name": "stdout",
     "output_type": "stream",
     "text": [
      "Cross validation score of KNN for K=3': [1.         0.93103448 0.96428571 0.96428571 1.        ]\n"
     ]
    }
   ],
   "source": [
    "crossval_knn_new=cross_val_score(knn_new,xtrain,ytrain,cv=5)\n",
    "print(\"Cross validation score of KNN for K=3':\",crossval_knn_new)"
   ]
  },
  {
   "cell_type": "code",
   "execution_count": 133,
   "id": "e2c7981c",
   "metadata": {},
   "outputs": [
    {
     "data": {
      "image/png": "[encoded data removed]",
      "text/plain": [
       "<Figure size 432x288 with 1 Axes>"
      ]
     },
     "metadata": {
      "needs_background": "light"
     },
     "output_type": "display_data"
    }
   ],
   "source": [
    "sns.boxplot(crossval_knn_new);"
   ]
  },
  {
   "cell_type": "markdown",
   "id": "47482c91",
   "metadata": {},
   "source": [
    "### Boosting: "
   ]
  },
  {
   "cell_type": "code",
   "execution_count": 134,
   "id": "5cf8e6e1",
   "metadata": {},
   "outputs": [
    {
     "data": {
      "text/plain": [
       "AdaBoostClassifier()"
      ]
     },
     "execution_count": 134,
     "metadata": {},
     "output_type": "execute_result"
    }
   ],
   "source": [
    "adaboost= AdaBoostClassifier()\n",
    "adaboost.fit(xtrain,ytrain)"
   ]
  },
  {
   "cell_type": "code",
   "execution_count": 135,
   "id": "e5805d0f",
   "metadata": {},
   "outputs": [],
   "source": [
    "xtrain_pred= adaboost.predict(xtrain)\n",
    "xtest_pred= adaboost.predict(xtest)"
   ]
  },
  {
   "cell_type": "code",
   "execution_count": 136,
   "id": "9a63c9ac",
   "metadata": {},
   "outputs": [
    {
     "name": "stdout",
     "output_type": "stream",
     "text": [
      "train data\n",
      " [[45  2  0]\n",
      " [ 8 49  0]\n",
      " [ 0  0 38]]\n",
      "test data\n",
      " [[10  2  0]\n",
      " [ 3 11  0]\n",
      " [ 0  3  7]]\n"
     ]
    }
   ],
   "source": [
    "print('train data\\n',confusion_matrix(ytrain,xtrain_pred))\n",
    "print('test data\\n',confusion_matrix(ytest,xtest_pred))"
   ]
  },
  {
   "cell_type": "code",
   "execution_count": 137,
   "id": "9aa9c49e",
   "metadata": {},
   "outputs": [
    {
     "name": "stdout",
     "output_type": "stream",
     "text": [
      "train data\n",
      "               precision    recall  f1-score   support\n",
      "\n",
      "           1       0.85      0.96      0.90        47\n",
      "           2       0.96      0.86      0.91        57\n",
      "           3       1.00      1.00      1.00        38\n",
      "\n",
      "    accuracy                           0.93       142\n",
      "   macro avg       0.94      0.94      0.94       142\n",
      "weighted avg       0.93      0.93      0.93       142\n",
      "\n",
      "test data\n",
      "               precision    recall  f1-score   support\n",
      "\n",
      "           1       0.77      0.83      0.80        12\n",
      "           2       0.69      0.79      0.73        14\n",
      "           3       1.00      0.70      0.82        10\n",
      "\n",
      "    accuracy                           0.78        36\n",
      "   macro avg       0.82      0.77      0.79        36\n",
      "weighted avg       0.80      0.78      0.78        36\n",
      "\n"
     ]
    }
   ],
   "source": [
    "print('train data\\n',classification_report(ytrain,xtrain_pred))\n",
    "print('test data\\n',classification_report(ytest,xtest_pred))"
   ]
  },
  {
   "cell_type": "markdown",
   "id": "db7b89dc",
   "metadata": {},
   "source": [
    "## Question 2: What are the optimum number of principal components in PCA?"
   ]
  },
  {
   "cell_type": "markdown",
   "id": "35c1ac2e",
   "metadata": {},
   "source": [
    "### Principle Component Analysis (PCA):"
   ]
  },
  {
   "cell_type": "code",
   "execution_count": 138,
   "id": "4cc8129f",
   "metadata": {},
   "outputs": [
    {
     "data": {
      "image/png": "[encoded data removed]",
      "text/plain": [
       "<Figure size 432x288 with 1 Axes>"
      ]
     },
     "metadata": {
      "needs_background": "light"
     },
     "output_type": "display_data"
    }
   ],
   "source": [
    "pca = PCA()\n",
    "\n",
    "pca.fit(xtrain)\n",
    "plt.plot(np.cumsum(pca.explained_variance_ratio_))\n",
    "plt.xlabel('Number of components')\n",
    "plt.ylabel('Cumulative explained variance')\n",
    "plt.show()"
   ]
  },
  {
   "cell_type": "markdown",
   "id": "772cf36c",
   "metadata": {},
   "source": [
    "## Question 3: Build a KNN classifier considering optimal number of principal components and value of K and state its score."
   ]
  },
  {
   "cell_type": "code",
   "execution_count": 139,
   "id": "96a6da6c",
   "metadata": {},
   "outputs": [],
   "source": [
    "p_xtrain=pca.fit_transform(xtrain)\n",
    "p_xtest=pca.transform(xtest)"
   ]
  },
  {
   "cell_type": "code",
   "execution_count": 140,
   "id": "237026f2",
   "metadata": {},
   "outputs": [
    {
     "data": {
      "text/plain": [
       "KNeighborsClassifier(n_neighbors=3)"
      ]
     },
     "execution_count": 140,
     "metadata": {},
     "output_type": "execute_result"
    }
   ],
   "source": [
    "knn_pca=KNeighborsClassifier(n_neighbors=3)\n",
    "knn_pca.fit(p_xtrain,ytrain)"
   ]
  },
  {
   "cell_type": "code",
   "execution_count": 141,
   "id": "22c30f37",
   "metadata": {},
   "outputs": [
    {
     "name": "stdout",
     "output_type": "stream",
     "text": [
      "For K=3\n",
      "Y Train predicted:\n",
      " [1 1 1 1 3 3 2 3 1 1 2 2 1 1 3 2 2 2 1 1 1 3 1 3 3 1 1 2 2 1 1 1 1 1 2 3 1\n",
      " 2 1 2 1 2 3 2 2 2 1 1 3 1 1 3 2 2 3 2 2 2 2 1 2 2 1 1 1 1 1 2 2 3 3 3 1 1\n",
      " 3 2 2 2 2 3 1 3 1 3 2 3 3 2 1 1 2 2 2 1 1 1 3 2 2 2 3 2 1 2 1 2 3 1 1 2 3\n",
      " 3 2 1 2 3 3 3 3 2 2 3 2 3 3 1 1 3 1 2 3 3 2 3 2 2 2 3 2 1 3 3]\n",
      "\n",
      "Y Test predicted:\n",
      " [1 3 1 1 2 1 1 2 2 3 2 3 1 3 1 2 2 1 2 1 2 2 1 1 2 2 1 3 2 3 1 3 2 3 3 3]\n"
     ]
    }
   ],
   "source": [
    "train_pred_knn_pca=knn_pca.predict(p_xtrain)\n",
    "test_pred_knn_pca=knn_pca.predict(p_xtest)\n",
    "print(\"For K=3\")\n",
    "print(\"Y Train predicted:\\n\",train_pred_knn_pca)\n",
    "print(\"\\nY Test predicted:\\n\",test_pred_knn_pca)"
   ]
  },
  {
   "cell_type": "code",
   "execution_count": 142,
   "id": "14eb3a11",
   "metadata": {},
   "outputs": [
    {
     "name": "stdout",
     "output_type": "stream",
     "text": [
      "FOR K=3\n",
      "\n",
      "\t\t\t\t*****ACCURACY*****\n",
      "\n",
      "Training accuracy: 0.9647887323943662\n",
      "Testing accuracy: 0.9722222222222222\n",
      "____________________________________________________________________________________________________\n",
      "\n",
      "\t\t\t\t*****CONFUSION MATRIX*****\n",
      "\n",
      "Confustion matrix of train data:\n",
      " [[47  0  0]\n",
      " [ 3 52  2]\n",
      " [ 0  0 38]]\n",
      "\n",
      "Confustion matrix of test data:\n",
      " [[12  0  0]\n",
      " [ 1 13  0]\n",
      " [ 0  0 10]]\n",
      "____________________________________________________________________________________________________\n",
      "\n",
      "\t\t\t\t*****CLASSIFICATION REPORT*****\n",
      "\n",
      "Classification Report of train data:\n",
      "\n",
      "               precision    recall  f1-score   support\n",
      "\n",
      "           1       0.94      1.00      0.97        47\n",
      "           2       1.00      0.91      0.95        57\n",
      "           3       0.95      1.00      0.97        38\n",
      "\n",
      "    accuracy                           0.96       142\n",
      "   macro avg       0.96      0.97      0.97       142\n",
      "weighted avg       0.97      0.96      0.96       142\n",
      "\n",
      "---------------------------------------------------------------------------\n",
      "Classification Report of test data:\n",
      "\n",
      "               precision    recall  f1-score   support\n",
      "\n",
      "           1       0.92      1.00      0.96        12\n",
      "           2       1.00      0.93      0.96        14\n",
      "           3       1.00      1.00      1.00        10\n",
      "\n",
      "    accuracy                           0.97        36\n",
      "   macro avg       0.97      0.98      0.97        36\n",
      "weighted avg       0.97      0.97      0.97        36\n",
      "\n",
      "____________________________________________________________________________________________________\n"
     ]
    }
   ],
   "source": [
    "print(\"FOR K=3\\n\")\n",
    "print(\"\\t\\t\\t\\t*****ACCURACY*****\\n\")\n",
    "knn3_train_acc=accuracy_score(ytrain,train_pred_knn_pca)\n",
    "knn3_test_acc=accuracy_score(ytest,test_pred_knn_pca)\n",
    "print(\"Training accuracy:\",accuracy_score(ytrain,train_pred_knn_pca))\n",
    "print(\"Testing accuracy:\",accuracy_score(ytest,test_pred_knn_pca))\n",
    "print('_'*100)\n",
    "\n",
    "print(\"\\n\\t\\t\\t\\t*****CONFUSION MATRIX*****\\n\")\n",
    "print(\"Confustion matrix of train data:\\n\",confusion_matrix(ytrain,train_pred_knn_pca))\n",
    "print(\"\\nConfustion matrix of test data:\\n\",confusion_matrix(ytest,test_pred_knn_pca))\n",
    "print('_'*100)\n",
    "\n",
    "print(\"\\n\\t\\t\\t\\t*****CLASSIFICATION REPORT*****\\n\")\n",
    "print(\"Classification Report of train data:\\n\\n\",classification_report(ytrain,train_pred_knn_pca))\n",
    "print('-'*75)\n",
    "print(\"Classification Report of test data:\\n\\n\",classification_report(ytest,test_pred_knn_pca))\n",
    "print('_'*100)\n"
   ]
  },
  {
   "cell_type": "markdown",
   "id": "8c4356f8",
   "metadata": {},
   "source": [
    "The accuracy of the model is 97% and 100% for training and testing respectively."
   ]
  },
  {
   "cell_type": "code",
   "execution_count": null,
   "id": "c55c8ce1",
   "metadata": {},
   "outputs": [],
   "source": []
  },
  {
   "cell_type": "code",
   "execution_count": null,
   "id": "04740726",
   "metadata": {},
   "outputs": [],
   "source": []
  },
  {
   "cell_type": "code",
   "execution_count": null,
   "id": "d2cb07d6",
   "metadata": {},
   "outputs": [],
   "source": []
  }
 ],
 "metadata": {
  "kernelspec": {
   "display_name": "Python 3",
   "language": "python",
   "name": "python3"
  },
  "language_info": {
   "codemirror_mode": {
    "name": "ipython",
    "version": 3
   },
   "file_extension": ".py",
   "mimetype": "text/x-python",
   "name": "python",
   "nbconvert_exporter": "python",
   "pygments_lexer": "ipython3",
   "version": "3.8.8"
  }
 },
 "nbformat": 4,
 "nbformat_minor": 5
}
